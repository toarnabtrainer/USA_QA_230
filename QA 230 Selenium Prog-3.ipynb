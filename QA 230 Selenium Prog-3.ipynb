{
 "cells": [
  {
   "cell_type": "markdown",
   "id": "b9277179-3a05-4610-bca1-f74bdbae275a",
   "metadata": {},
   "source": [
    "# **Selenium Code Example - 3**"
   ]
  },
  {
   "cell_type": "markdown",
   "id": "fe5d81cb-d1d0-4ee1-9178-ef830ee830ef",
   "metadata": {},
   "source": [
    "## **Selenium control options to write text, button press, dropdown list, checkbox and others**"
   ]
  },
  {
   "cell_type": "code",
   "execution_count": 1,
   "id": "c4cc8eb4-bd5d-4ce7-9e17-e17c9529d98b",
   "metadata": {},
   "outputs": [],
   "source": [
    "# importing all the modules\n",
    "from selenium import webdriver\n",
    "from selenium.webdriver.chrome.service import Service"
   ]
  },
  {
   "cell_type": "code",
   "execution_count": 2,
   "id": "4fc0b1d9-a5f2-45a2-b2fb-617004a3608d",
   "metadata": {},
   "outputs": [
    {
     "name": "stdout",
     "output_type": "stream",
     "text": [
      "4.10.0\n"
     ]
    }
   ],
   "source": [
    "# printing the version\n",
    "print (webdriver.__version__)"
   ]
  },
  {
   "cell_type": "code",
   "execution_count": 3,
   "id": "23dab2fc-4bd1-48bd-96ce-dddd632bd029",
   "metadata": {},
   "outputs": [],
   "source": [
    "# now working with the chromedriver.exe\n",
    "service = Service(executable_path=\"./chromedriver.exe\")\n",
    "options = webdriver.ChromeOptions()\n",
    "driver = webdriver.Chrome(service=service, options=options)"
   ]
  },
  {
   "cell_type": "code",
   "execution_count": 4,
   "id": "70a8b31d-5621-4ae3-bbd3-6830785220a1",
   "metadata": {},
   "outputs": [],
   "source": [
    "# opening the required web-portal\n",
    "driver.get(\"https://www.calculator.net/currency-calculator.html\")"
   ]
  },
  {
   "cell_type": "code",
   "execution_count": 5,
   "id": "036eed54-0bec-4e22-bdb6-476dc371d2f2",
   "metadata": {},
   "outputs": [],
   "source": [
    "# now import select and checkbox from selenium library to get HTML select tags\n",
    "from selenium.webdriver.support.ui import Select"
   ]
  },
  {
   "cell_type": "code",
   "execution_count": 6,
   "id": "79a4cf4b-8566-4995-83d6-25a061109eb8",
   "metadata": {},
   "outputs": [],
   "source": [
    "# now select the FROM currency as INR and TO currency as USD from the drom down menu\n",
    "from_currency = Select(driver.find_element(\"id\", \"efrom\"))\n",
    "from_currency.select_by_visible_text(\"INR: Indian Rupee\")    # text visible to the user"
   ]
  },
  {
   "cell_type": "code",
   "execution_count": 7,
   "id": "c102317e-2f89-4c26-b24b-26f0156904cd",
   "metadata": {},
   "outputs": [],
   "source": [
    "to_currency = Select(driver.find_element(\"id\", \"eto\"))\n",
    "to_currency.select_by_value(\"USD\")    # value given in the HTML code"
   ]
  },
  {
   "cell_type": "code",
   "execution_count": 10,
   "id": "5ff78909-e727-41e9-bf5e-b9401f572b95",
   "metadata": {},
   "outputs": [],
   "source": [
    "# now put the amount as 500\n",
    "amount_textbox = driver.find_element(\"id\", \"eamount\")\n",
    "# now clear the text box and put the value there\n",
    "amount_textbox.clear()\n",
    "amount_textbox.send_keys(\"500\")"
   ]
  },
  {
   "cell_type": "code",
   "execution_count": 12,
   "id": "f3b244ee-0d02-4907-b517-d5ce03afcca8",
   "metadata": {},
   "outputs": [],
   "source": [
    "# click on the calculate button\n",
    "calculate_button = driver.find_element(\"xpath\", '//*[@id=\"standard\"]/tbody/tr[5]/td[2]/input[2]')\n",
    "calculate_button.click()"
   ]
  },
  {
   "cell_type": "code",
   "execution_count": 15,
   "id": "e8a5bfe4-a22e-4c1c-a7f7-a57d058919e6",
   "metadata": {},
   "outputs": [],
   "source": [
    "checkbox = driver.find_element(\"xpath\", '//*[@id=\"ccmajorccsettingbox\"]')\n",
    "# if this is already checked then uncheck it by the help of the Java Script\n",
    "if checkbox.is_selected():\n",
    "    driver.execute_script(\"arguments[0].click()\", checkbox)"
   ]
  },
  {
   "cell_type": "code",
   "execution_count": 16,
   "id": "b858b640-786f-4603-ba72-bb56cef4f458",
   "metadata": {},
   "outputs": [],
   "source": [
    "# change the from currency text to \"ZWL: Zimbabwean Dollar\"\n",
    "from_currency = Select(driver.find_element(\"id\", \"efrom\"))\n",
    "from_currency.select_by_visible_text(\"ZWL: Zimbabwean Dollar\")"
   ]
  },
  {
   "cell_type": "code",
   "execution_count": 18,
   "id": "76f7de7a-461c-47b8-88ca-22dee56ee475",
   "metadata": {},
   "outputs": [],
   "source": [
    "# change the from currency text to \"EUR: Euro\"\n",
    "to_currency = Select(driver.find_element(\"id\", \"eto\"))\n",
    "to_currency.select_by_value(\"EUR\")"
   ]
  },
  {
   "cell_type": "code",
   "execution_count": 19,
   "id": "5728f81b-9e58-439a-9998-f6412eabe5f1",
   "metadata": {},
   "outputs": [],
   "source": [
    "# clear the textbox field and then insert value 1000\n",
    "amount_textbox = driver.find_element(\"id\", \"eamount\")\n",
    "amount_textbox.clear()\n",
    "amount_textbox.send_keys(\"1000\")"
   ]
  },
  {
   "cell_type": "code",
   "execution_count": 20,
   "id": "e79e2ce7-35da-4e53-b1a8-6bf95c6c0fe6",
   "metadata": {},
   "outputs": [],
   "source": [
    "# click on the calculate button\n",
    "calculate_button = driver.find_element(\"xpath\", '//*[@id=\"standard\"]/tbody/tr[5]/td[2]/input[2]')\n",
    "calculate_button.click()"
   ]
  },
  {
   "cell_type": "code",
   "execution_count": 21,
   "id": "16ddbd5e-0d83-4eef-aecc-82971cf55735",
   "metadata": {},
   "outputs": [],
   "source": [
    "# exiting from the opened chrome instance\n",
    "driver.quit()"
   ]
  },
  {
   "cell_type": "code",
   "execution_count": null,
   "id": "51ee31b2-752f-46f6-aaca-38bcb6c97657",
   "metadata": {},
   "outputs": [],
   "source": []
  }
 ],
 "metadata": {
  "kernelspec": {
   "display_name": "Python 3 (ipykernel)",
   "language": "python",
   "name": "python3"
  },
  "language_info": {
   "codemirror_mode": {
    "name": "ipython",
    "version": 3
   },
   "file_extension": ".py",
   "mimetype": "text/x-python",
   "name": "python",
   "nbconvert_exporter": "python",
   "pygments_lexer": "ipython3",
   "version": "3.10.9"
  }
 },
 "nbformat": 4,
 "nbformat_minor": 5
}
