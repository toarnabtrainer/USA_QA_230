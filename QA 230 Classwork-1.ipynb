{
 "cells": [
  {
   "cell_type": "markdown",
   "id": "fb98938a-0a93-468e-9cbe-1c1f1771c5fc",
   "metadata": {},
   "source": [
    "## **Introduction to Python Scripting**"
   ]
  },
  {
   "cell_type": "markdown",
   "id": "cd7c3f99-8b18-431f-9802-ce25de2487ae",
   "metadata": {},
   "source": [
    "### Day - 1"
   ]
  },
  {
   "cell_type": "code",
   "execution_count": 3,
   "id": "9cb68020-99c5-499a-9aa5-676baf0e1e6f",
   "metadata": {},
   "outputs": [],
   "source": [
    "# This is a comment line\n",
    "# This is another comment line\n",
    "# This is the last comment line"
   ]
  },
  {
   "cell_type": "code",
   "execution_count": 6,
   "id": "6d053f01-33f4-4bb3-b001-8adf7e3090fd",
   "metadata": {},
   "outputs": [
    {
     "name": "stdin",
     "output_type": "stream",
     "text": [
      "Please enter the first integer number:  200\n",
      "Please enter the second integer number:  300\n"
     ]
    },
    {
     "name": "stdout",
     "output_type": "stream",
     "text": [
      "200 <class 'str'>\n",
      "300 <class 'str'>\n",
      "So the total is 200300\n",
      "End of the program...\n"
     ]
    }
   ],
   "source": [
    "num1 = input(\"Please enter the first integer number: \")\n",
    "num2 = input(\"Please enter the second integer number: \")\n",
    "print (num1, type(num1))\n",
    "print (num2, type(num2))\n",
    "total = num1 + num2   # string concatenation\n",
    "print (\"So the total is\", total)\n",
    "print (\"End of the program...\")"
   ]
  },
  {
   "cell_type": "code",
   "execution_count": 8,
   "id": "06073ea3-2b58-4e0f-8b4e-ae4d8d2fa110",
   "metadata": {},
   "outputs": [
    {
     "name": "stdin",
     "output_type": "stream",
     "text": [
      "Please enter the first integer number:  500\n",
      "Please enter the second integer number:  700\n"
     ]
    },
    {
     "name": "stdout",
     "output_type": "stream",
     "text": [
      "500 <class 'int'>\n",
      "700 <class 'int'>\n",
      "So the total is 1200\n",
      "End of the program...\n"
     ]
    }
   ],
   "source": [
    "num1 = int(input(\"Please enter the first integer number: \"))\n",
    "num2 = int(input(\"Please enter the second integer number: \"))\n",
    "print (num1, type(num1))\n",
    "print (num2, type(num2))\n",
    "total = num1 + num2   # algebraic addition\n",
    "print (\"So the total is\", total)\n",
    "print (\"End of the program...\")"
   ]
  },
  {
   "cell_type": "code",
   "execution_count": 24,
   "id": "67e5587b-2692-47a9-8566-d5c608bb3cae",
   "metadata": {},
   "outputs": [
    {
     "name": "stdout",
     "output_type": "stream",
     "text": [
      "So 500 + 700 = 1200\n",
      "So 500 + 700 = 1200\n",
      "So 500 + 700 = 1200\n",
      "So 500 + 700 = 1200\n",
      "So 500 + 700 = 1200\n",
      "So 500 + 700 = 1200\n",
      "So 500 + 700 = 1200\n",
      "So 500 + 700 = 1200\n",
      "So 500 + 700 = 1200\n",
      "So 500.000000 + 700 = 1200\n",
      "So   500.00 + 700 = 1200\n",
      "So 500 + 700 = 1200\n"
     ]
    }
   ],
   "source": [
    "print (\"So\", num1, \"+\", num2, \"=\", total)\n",
    "print (\"So \" + str(num1) + \" + \" + str(num2) + \" = \" + str(total))\n",
    "print (\"So {} + {} = {}\".format(num1, num2, total))  # {} is called variable place-holder\n",
    "print (\"So {0} + {1} = {2}\".format(num1, num2, total))  # using numbered/indexed place-holder\n",
    "print (\"So {2} + {1} = {0}\".format(total, num2, num1))  # using numbered/indexed place-holder\n",
    "print (\"So {fn} + {sn} = {tot}\".format(fn=num1, sn=num2, tot=total))  # labeled place-holder\n",
    "print (\"So {fn} + {sn} = {tot}\".format(sn=num2, fn=num1, tot=total))  # labeled place-holder\n",
    "print (\"So {fn} + {sn} = {tot}\".format(fn=num1, sn=num2, tot=total))  # labeled place-holder\n",
    "print (\"So %d + %d = %d\"%(num1, num2, total))\n",
    "print (\"So %f + %d = %d\"%(num1, num2, total))\n",
    "print (\"So %8.2f + %d = %d\"%(num1, num2, total))\n",
    "print (f\"So {num1} + {num2} = {total}\")   # f stands for smart formatting"
   ]
  },
  {
   "cell_type": "markdown",
   "id": "1fca3860-de77-4ace-a5cd-20f29b5fdbcd",
   "metadata": {},
   "source": [
    "### Dynamic Variable Datatypes"
   ]
  },
  {
   "cell_type": "code",
   "execution_count": 25,
   "id": "6cbdb00a-8b46-415e-9283-a9715c00017a",
   "metadata": {},
   "outputs": [
    {
     "name": "stdout",
     "output_type": "stream",
     "text": [
      "100 <class 'int'> 2283603561808\n",
      "100.5 <class 'float'> 2283710936144\n",
      "Punch <class 'str'> 2283711954544\n",
      "P <class 'str'> 2283605122608\n",
      "Punch <class 'str'> 2283711954544\n",
      "P <class 'str'> 2283605122608\n",
      "True <class 'bool'> 140705103431888\n",
      "False <class 'bool'> 140705103431920\n"
     ]
    }
   ],
   "source": [
    "var1 = 100; print (var1, type(var1), id(var1))\n",
    "var1 = 100.5; print (var1, type(var1), id(var1))\n",
    "var1 = \"Punch\"; print (var1, type(var1), id(var1))\n",
    "var1 = \"P\"; print (var1, type(var1), id(var1))\n",
    "var1 = 'Punch'; print (var1, type(var1), id(var1))\n",
    "var1 = 'P'; print (var1, type(var1), id(var1))\n",
    "var1 = True; print (var1, type(var1), id(var1))\n",
    "var1 = False; print (var1, type(var1), id(var1))"
   ]
  },
  {
   "cell_type": "markdown",
   "id": "4f1527c8-9b9d-4e22-9986-9ad9473cef39",
   "metadata": {},
   "source": [
    "### Python Operators"
   ]
  },
  {
   "cell_type": "code",
   "execution_count": null,
   "id": "a11669be-42bf-4d4d-a1d4-2b4031e2d0f4",
   "metadata": {},
   "outputs": [],
   "source": [
    "# Arithmetic Operators: + - * / // ** %\n",
    "# Conditional Operators: > >= < <= != ==\n",
    "# Logical Operators: and or not\n",
    "# Assignment Operator: = \n",
    "# Special Assignment Operators: += -= *= /= //= **= %=\n",
    "\n",
    "# Operators: Unary, Binary, Ternary\n",
    "# Unary Operators (Require only one operand): +100 -300\n",
    "# Binary Operators (Require only two operands): 700 + 100    900 - 300\n",
    "# Ternary Operator (Requires only three operands)"
   ]
  },
  {
   "cell_type": "code",
   "execution_count": 29,
   "id": "3fe7077d-3ed0-46d4-b2cb-148d6a0f693b",
   "metadata": {},
   "outputs": [
    {
     "name": "stdout",
     "output_type": "stream",
     "text": [
      "140\n",
      "60\n",
      "2.5\n",
      "2\n",
      "4000\n",
      "100000000\n",
      "20\n"
     ]
    }
   ],
   "source": [
    "# Arithmetic Operators: + - * / // ** %\n",
    "print (100 + 40)  # addition operation\n",
    "print (100 - 40)  # subtraction operation\n",
    "print (100 / 40)  # float division operation\n",
    "print (100 // 40) # integer division operation\n",
    "print (100 * 40)  # multiplication operation\n",
    "print (100 ** 4)  # exponentiation operation\n",
    "print (100 % 40)  # modulus operation, remainder of the divison"
   ]
  },
  {
   "cell_type": "code",
   "execution_count": 30,
   "id": "edcf981f-4a0c-4acd-9998-eb0e0e99ef22",
   "metadata": {},
   "outputs": [
    {
     "name": "stdout",
     "output_type": "stream",
     "text": [
      "True True\n",
      "False False\n",
      "True False\n"
     ]
    }
   ],
   "source": [
    "# Conditional Operators: > >= < <= != ==\n",
    "print (100 > 50, 100 >= 50)\n",
    "print (100 < 50, 100 <= 50)\n",
    "print (100 != 50, 100 == 50)"
   ]
  },
  {
   "cell_type": "code",
   "execution_count": 33,
   "id": "8dc37d2e-a41e-4a1e-b3a9-b3bfaac1c9ec",
   "metadata": {},
   "outputs": [
    {
     "name": "stdout",
     "output_type": "stream",
     "text": [
      "False False False True\n",
      "False True True True\n",
      "False True\n"
     ]
    }
   ],
   "source": [
    "# Logical Operators: and or not\n",
    "print (False and False, False and True, True and False, True and True)\n",
    "print (False or False, False or True, True or False, True or True)\n",
    "print (not True, not False)"
   ]
  },
  {
   "cell_type": "code",
   "execution_count": 36,
   "id": "2197e070-59d6-4b49-b748-4ad63976543f",
   "metadata": {},
   "outputs": [
    {
     "name": "stdout",
     "output_type": "stream",
     "text": [
      "100\n",
      "120\n",
      "80\n",
      "160\n",
      "10\n"
     ]
    }
   ],
   "source": [
    "# Assignment Operator: =\n",
    "# Special Assignment Operator: += -= *= /= //= **= %=\n",
    "var1 = 100\n",
    "print (var1)\n",
    "var1 += 20\n",
    "print (var1)\n",
    "var1 -= 40\n",
    "print (var1)\n",
    "var1 *= 2\n",
    "print (var1)\n",
    "var1 %= 30\n",
    "print (var1)"
   ]
  },
  {
   "cell_type": "code",
   "execution_count": 37,
   "id": "49672411-9685-4c45-81ad-433331e16abe",
   "metadata": {},
   "outputs": [
    {
     "name": "stdout",
     "output_type": "stream",
     "text": [
      "100 EVEN\n",
      "105 ODD\n"
     ]
    }
   ],
   "source": [
    "# Operators: Unary, Binary, Ternary\n",
    "# Unary Operators (Require only one operand): +100 -300\n",
    "# Binary Operators (Require only two operands): 700 + 100    900 - 300\n",
    "# Ternary Operator (Requires only three operands)\n",
    "num1 = 100\n",
    "result = \"EVEN\" if (num1 % 2 == 0) else \"ODD\"\n",
    "print (num1, result)\n",
    "\n",
    "num1 = 105\n",
    "result = \"EVEN\" if (num1 % 2 == 0) else \"ODD\"\n",
    "print (num1, result)"
   ]
  },
  {
   "cell_type": "code",
   "execution_count": 38,
   "id": "1b11743d-1c1e-4289-95c0-2b799162be19",
   "metadata": {},
   "outputs": [
    {
     "name": "stdout",
     "output_type": "stream",
     "text": [
      "A a\n"
     ]
    }
   ],
   "source": [
    "# Bitwise Operators: & | ~ ^\n",
    "# A => 65 => 64 + 1      => 0100 0001\n",
    "#                        or 0010 0000 (32)\n",
    "#                           ---------\n",
    "# a => 97 => 64 + 32 + 1 => 0110 0001\n",
    "char1 = 'A'\n",
    "result = chr(ord(char1) | 32)\n",
    "print (char1, result)"
   ]
  },
  {
   "cell_type": "code",
   "execution_count": 39,
   "id": "f6a0c278-1ecd-402e-8980-50ff5f976e87",
   "metadata": {},
   "outputs": [
    {
     "name": "stdout",
     "output_type": "stream",
     "text": [
      "65 97 90 122\n",
      "A a Z z\n"
     ]
    }
   ],
   "source": [
    "# ASCII (American Standard Code for Information Interchange) Codes\n",
    "# A => 65, B => 66, Z => 90\n",
    "# a => 97, b => 98, z => 122\n",
    "# 0 => 48, 1 => 49, 9 => 57\n",
    "# Space Bar/Blank => 32, Enter => 13, Esc => 27, Back Space => 9, Tab => 8\n",
    "# ASCII Code is 8 bits code ranging from 0 to 255\n",
    "# It can be divided into two categories:\n",
    "# 1. Normal ASCII Codes (0 to 127) - Printable\n",
    "# 2. Extended ASCII Codes (128 to 255) - Non-Printable\n",
    "print (ord('A'), ord('a'), ord('Z'), ord('z'))  # returns characters to ASCII Codes\n",
    "print (chr(65), chr(97), chr(90), chr(122))     # returns ASCII Codes to characters"
   ]
  },
  {
   "cell_type": "markdown",
   "id": "35365637-72fe-4673-b14a-f70e70aee26f",
   "metadata": {},
   "source": [
    "### Conditional Statements"
   ]
  },
  {
   "cell_type": "code",
   "execution_count": 49,
   "id": "e14b8605-a4db-4bf4-8746-1d62108eeb2e",
   "metadata": {},
   "outputs": [
    {
     "name": "stdin",
     "output_type": "stream",
     "text": [
      "Please enter the first integer:  300\n",
      "Please enter the second integer:  200\n",
      "Please enter the third integer:  100\n"
     ]
    },
    {
     "name": "stdout",
     "output_type": "stream",
     "text": [
      "The first number is the maximum number...\n",
      "So the maximum number is 300\n",
      "End of the program...\n"
     ]
    }
   ],
   "source": [
    "# Take three numbers from the user as input and find the maximum of these three numbers\n",
    "num1 = int(input(\"Please enter the first integer: \"))\n",
    "num2 = int(input(\"Please enter the second integer: \"))\n",
    "num3 = int(input(\"Please enter the third integer: \"))\n",
    "if (num1 > num2):\n",
    "    if (num1 > num3):\n",
    "        print (\"The first number is the maximum number...\")\n",
    "        print (\"So the maximum number is\", num1)\n",
    "    else:\n",
    "        print (\"The third number is the maximum number...\")\n",
    "        print (\"So the maximum number is\", num3)\n",
    "elif (num2 > num3):\n",
    "    print (\"The second number is the maximum number...\")\n",
    "    print (\"So the maximum number is\", num2)\n",
    "else:\n",
    "    print (\"The third number is the maximum number...\")\n",
    "    print (\"So the maximum number is\", num3)\n",
    "print (\"End of the program...\")"
   ]
  },
  {
   "cell_type": "code",
   "execution_count": 52,
   "id": "b8807365-6198-45e5-a8d8-db20e50760d5",
   "metadata": {},
   "outputs": [
    {
     "name": "stdin",
     "output_type": "stream",
     "text": [
      "Please enter the first integer:  200\n",
      "Please enter the second integer:  100\n",
      "Please enter the third integer:  300\n"
     ]
    },
    {
     "name": "stdout",
     "output_type": "stream",
     "text": [
      "The third number is the maximum number...\n",
      "So the maximum number is 300\n",
      "End of the program...\n"
     ]
    }
   ],
   "source": [
    "# Take three numbers from the user as input and find the maximum of these numbers\n",
    "num1 = int(input(\"Please enter the first integer: \"))\n",
    "num2 = int(input(\"Please enter the second integer: \"))\n",
    "num3 = int(input(\"Please enter the third integer: \"))\n",
    "if (num1 > num2 and num1 > num3):\n",
    "    print (\"The first number is the maximum number...\")\n",
    "    print (\"So the maximum number is\", num1)\n",
    "elif (num2 > num3):\n",
    "    print (\"The second number is the maximum number...\")\n",
    "    print (\"So the maximum number is\", num2)\n",
    "else:\n",
    "    print (\"The third number is the maximum number...\")\n",
    "    print (\"So the maximum number is\", num3)\n",
    "print (\"End of the program...\")"
   ]
  },
  {
   "cell_type": "code",
   "execution_count": 57,
   "id": "ea6a57df-a86d-4d2d-b19c-2656de493cdd",
   "metadata": {},
   "outputs": [
    {
     "name": "stdout",
     "output_type": "stream",
     "text": [
      "M A I N  M E N U ...\n",
      "~~~~~~~~~~~~~~~~~~~~\n",
      "1 >  A D D I T I O N  O P E R A T I O N ...\n",
      "2 >  S U B T R A C T I O N  O P E R A T I O N ...\n",
      "3 >  M U L T I P L I C A T I O N  O P E R A T I O N ...\n",
      "4 >  D I V I S I O N  O P E R A T I O N ...\n"
     ]
    },
    {
     "name": "stdin",
     "output_type": "stream",
     "text": [
      "Please enter youe choice integer (1 to 4):  4\n",
      "Please enter the first integer:  300\n",
      "Please enter the second integer:  75\n"
     ]
    },
    {
     "name": "stdout",
     "output_type": "stream",
     "text": [
      "Performing the division operation...\n",
      "So 300 / 75 = 4.0\n",
      "End of the program...\n"
     ]
    }
   ],
   "source": [
    "# Calculator Program\n",
    "print (\"M A I N  M E N U ...\")\n",
    "print (\"~~~~~~~~~~~~~~~~~~~~\")\n",
    "print (\"1 >  A D D I T I O N  O P E R A T I O N ...\")\n",
    "print (\"2 >  S U B T R A C T I O N  O P E R A T I O N ...\")\n",
    "print (\"3 >  M U L T I P L I C A T I O N  O P E R A T I O N ...\")\n",
    "print (\"4 >  D I V I S I O N  O P E R A T I O N ...\")\n",
    "choice = int(input(\"Please enter youe choice integer (1 to 4): \"))\n",
    "num1 = int(input(\"Please enter the first integer: \"))\n",
    "num2 = int(input(\"Please enter the second integer: \"))\n",
    "if (choice == 1):\n",
    "    print (\"Performing the addition operation...\")\n",
    "    result = num1 + num2\n",
    "    print (f\"So {num1} + {num2} = {result}\")\n",
    "elif (choice == 2):\n",
    "    print (\"Performing the subtraction operation...\")\n",
    "    result = num1 - num2\n",
    "    print (f\"So {num1} - {num2} = {result}\")\n",
    "elif (choice == 3):\n",
    "    print (\"Performing the multiplication operation...\")\n",
    "    result = num1 * num2\n",
    "    print (f\"So {num1} * {num2} = {result}\")\n",
    "elif (choice == 4):\n",
    "    print (\"Performing the division operation...\")\n",
    "    if (num2 == 0):\n",
    "        print (\"Division by ZERO is Illegal !!!\")\n",
    "        print (\"Division operation can not be carried out...\")\n",
    "    else:\n",
    "        result = num1 / num2\n",
    "        print (f\"So {num1} / {num2} = {result}\")\n",
    "else:\n",
    "    print (\"Invalid choice number has been provided...\")\n",
    "    print (\"No operation could get carried out...\")\n",
    "print (\"End of the program...\")"
   ]
  },
  {
   "cell_type": "markdown",
   "id": "db23f184-e252-43bc-96c6-b83df87372c4",
   "metadata": {},
   "source": [
    "### **Day - 2**"
   ]
  },
  {
   "cell_type": "markdown",
   "id": "a51a4954",
   "metadata": {},
   "source": [
    "### Loop Control"
   ]
  },
  {
   "cell_type": "code",
   "execution_count": 2,
   "id": "59dac934-b35f-483f-a306-ae3fb3ddbec6",
   "metadata": {},
   "outputs": [
    {
     "name": "stdout",
     "output_type": "stream",
     "text": [
      "i = 0...\n",
      "i = 1...\n",
      "i = 2...\n",
      "i = 3...\n",
      "i = 4...\n",
      "i = 5...\n",
      "i = 6...\n",
      "i = 7...\n"
     ]
    }
   ],
   "source": [
    "for i in range(8):\n",
    "    print (f\"i = {i}...\")"
   ]
  },
  {
   "cell_type": "code",
   "execution_count": 5,
   "id": "4c04351c",
   "metadata": {},
   "outputs": [
    {
     "name": "stdout",
     "output_type": "stream",
     "text": [
      "[0, 1, 2, 3, 4, 5, 6, 7]\n",
      "[1, 2, 3, 4, 5, 6, 7]\n",
      "[1, 3, 5, 7]\n"
     ]
    }
   ],
   "source": [
    "result = list(range(8))\n",
    "print (result)\n",
    "result = list(range(1, 8))\n",
    "print (result)\n",
    "result = list(range(1, 8, 2))\n",
    "print (result)"
   ]
  },
  {
   "cell_type": "code",
   "execution_count": 6,
   "id": "48321375",
   "metadata": {},
   "outputs": [
    {
     "name": "stdout",
     "output_type": "stream",
     "text": [
      "i = 1...\n",
      "i = 3...\n",
      "i = 5...\n",
      "i = 7...\n"
     ]
    }
   ],
   "source": [
    "for i in range(1, 8, 2):\n",
    "    print (f\"i = {i}...\")"
   ]
  },
  {
   "cell_type": "code",
   "execution_count": 7,
   "id": "92d06ec4",
   "metadata": {},
   "outputs": [
    {
     "name": "stdout",
     "output_type": "stream",
     "text": [
      "i = 11...\n",
      "i = 44...\n",
      "i = 22...\n",
      "i = 55...\n",
      "i = 33...\n",
      "i = 66...\n"
     ]
    }
   ],
   "source": [
    "for i in [11, 44, 22, 55, 33, 66]:\n",
    "    print (f\"i = {i}...\")"
   ]
  },
  {
   "cell_type": "code",
   "execution_count": 8,
   "id": "45dca107",
   "metadata": {},
   "outputs": [
    {
     "name": "stdout",
     "output_type": "stream",
     "text": [
      "i = 11...\n",
      "i = 44...\n",
      "i = 22...\n",
      "i = 55...\n",
      "i = 33...\n",
      "i = 66...\n"
     ]
    }
   ],
   "source": [
    "for i in (11, 44, 22, 55, 33, 66):\n",
    "    print (f\"i = {i}...\")"
   ]
  },
  {
   "cell_type": "code",
   "execution_count": 9,
   "id": "b8d2e826",
   "metadata": {},
   "outputs": [
    {
     "name": "stdout",
     "output_type": "stream",
     "text": [
      "i = 11...\n",
      "i = 44...\n",
      "i = 22.5...\n",
      "i = 55.5...\n",
      "i = 33...\n",
      "i = True...\n",
      "i = 66...\n",
      "i = False...\n"
     ]
    }
   ],
   "source": [
    "for i in [11, 44, \"22.5\", 55.5, 33, True, 66, False]:\n",
    "    print (f\"i = {i}...\")"
   ]
  },
  {
   "cell_type": "code",
   "execution_count": 10,
   "id": "412c46d6",
   "metadata": {},
   "outputs": [
    {
     "name": "stdout",
     "output_type": "stream",
     "text": [
      "i = 0...\n",
      "i = 1...\n",
      "i = 2...\n",
      "i = 3...\n",
      "i = 4...\n",
      "i = 5...\n",
      "i = 6...\n",
      "i = 7...\n",
      "ELSE block is executing...\n"
     ]
    }
   ],
   "source": [
    "for i in range(8):\n",
    "    print (f\"i = {i}...\")\n",
    "else:\n",
    "    print (\"ELSE block is executing...\")"
   ]
  },
  {
   "cell_type": "code",
   "execution_count": 13,
   "id": "6be7eaca",
   "metadata": {},
   "outputs": [
    {
     "name": "stdout",
     "output_type": "stream",
     "text": [
      "i = 0...\n",
      "i = 1...\n",
      "i = 2...\n",
      "i = 3...\n",
      "i = 4...\n",
      "i = 5...\n"
     ]
    }
   ],
   "source": [
    "for i in range(8):\n",
    "    print (f\"i = {i}...\")\n",
    "    if (i == 5): break   # break is a statement or a command which will terminate a loop execution abruptly\n",
    "else:                    # break statement can only be used with in a loop construct\n",
    "    print (\"ELSE block is executing...\")"
   ]
  },
  {
   "cell_type": "code",
   "execution_count": 14,
   "id": "fa5db85a",
   "metadata": {},
   "outputs": [
    {
     "name": "stdout",
     "output_type": "stream",
     "text": [
      "Looping for i = 0...\n",
      "Looping for i = 1...\n",
      "Looping for i = 2...\n",
      "Looping for i = 3...\n",
      "Looping for i = 4...\n",
      "For i = 5 going to loop again with continue statement...\n",
      "Looping for i = 6...\n",
      "For i = 7 going to loop again with continue statement...\n",
      "Looping for i = 8...\n",
      "Looping for i = 9...\n",
      "ELSE block is executing...\n"
     ]
    }
   ],
   "source": [
    "for i in range(10):\n",
    "    if (i == 5 or i == 7):\n",
    "        print (f\"For i = {i} going to loop again with continue statement...\")\n",
    "        continue\n",
    "    print (f\"Looping for i = {i}...\")\n",
    "else:\n",
    "    print (\"ELSE block is executing...\")"
   ]
  },
  {
   "cell_type": "code",
   "execution_count": null,
   "id": "7c4418a0",
   "metadata": {},
   "outputs": [],
   "source": [
    "for i in range(10):\n",
    "    if (i == 5 or i == 7):\n",
    "        print (f\"For i = {i} going to loop again with continue statement...\")\n",
    "        continue\n",
    "    else:\n",
    "        pass    # pass is a statement place holder....\n",
    "    print (f\"Looping for i = {i}...\")\n",
    "else:\n",
    "    print (\"ELSE block is executing...\")"
   ]
  },
  {
   "cell_type": "code",
   "execution_count": 17,
   "id": "8438898e",
   "metadata": {},
   "outputs": [],
   "source": [
    "for i in range(8):\n",
    "    pass\n",
    "else:\n",
    "    pass"
   ]
  },
  {
   "cell_type": "code",
   "execution_count": 20,
   "id": "608764b3",
   "metadata": {},
   "outputs": [
    {
     "name": "stdout",
     "output_type": "stream",
     "text": [
      "Visit Doctor...\n",
      "Good Morning...\n",
      "Day No. - 1 and Medicine No. - 1...\n",
      "Day No. - 1 and Medicine No. - 2...\n",
      "Day No. - 1 and Medicine No. - 3...\n",
      "Good Night...\n",
      "-----------------------------------------------------------------\n",
      "Good Morning...\n",
      "Day No. - 2 and Medicine No. - 1...\n",
      "Day No. - 2 and Medicine No. - 2...\n",
      "Day No. - 2 and Medicine No. - 3...\n",
      "Good Night...\n",
      "-----------------------------------------------------------------\n",
      "Good Morning...\n",
      "Day No. - 3 and Medicine No. - 1...\n",
      "Day No. - 3 and Medicine No. - 2...\n",
      "Day No. - 3 and Medicine No. - 3...\n",
      "Good Night...\n",
      "-----------------------------------------------------------------\n",
      "Good Morning...\n",
      "Day No. - 4 and Medicine No. - 1...\n",
      "Day No. - 4 and Medicine No. - 2...\n",
      "Day No. - 4 and Medicine No. - 3...\n",
      "Good Night...\n",
      "-----------------------------------------------------------------\n",
      "Good Morning...\n",
      "Day No. - 5 and Medicine No. - 1...\n",
      "Day No. - 5 and Medicine No. - 2...\n",
      "Day No. - 5 and Medicine No. - 3...\n",
      "Good Night...\n",
      "-----------------------------------------------------------------\n",
      "Thanks to Doctor...\n",
      "Total number of medicines consumed is 15...\n"
     ]
    }
   ],
   "source": [
    "# nested for loops\n",
    "print (\"Visit Doctor...\")  # 1 time\n",
    "medicount = 0\n",
    "for day in range(1, 6):\n",
    "    print (\"Good Morning...\")  # 5 times\n",
    "    for medi in range(1, 4):\n",
    "        print (f\"Day No. - {day} and Medicine No. - {medi}...\")  # 15 times\n",
    "        medicount = medicount + 1  # 15 times\n",
    "    print (\"Good Night...\")  # 5 times\n",
    "    print (\"-----------------------------------------------------------------\")  # 5 times\n",
    "print (\"Thanks to Doctor...\")  # 1 time\n",
    "print (f\"Total number of medicines consumed is {medicount}...\")"
   ]
  },
  {
   "cell_type": "code",
   "execution_count": 23,
   "id": "ea8e45c1",
   "metadata": {},
   "outputs": [
    {
     "name": "stdout",
     "output_type": "stream",
     "text": [
      "Please enter one integer number: 13\n",
      "13 is a PRIME Number...\n",
      "End of the program...\n"
     ]
    }
   ],
   "source": [
    "# check whether a given number is a PRIME number or not\n",
    "# as example - 3, 5, 7, 11, 13, 17, 19, 23, ....\n",
    "num = int(input(\"Please enter one integer number: \"))\n",
    "for i in range(2, num):\n",
    "    if (num % i == 0):\n",
    "        print (f\"{num} is NOT a PRIME Number...\")\n",
    "        break\n",
    "else:\n",
    "    print (f\"{num} is a PRIME Number...\")\n",
    "print (\"End of the program...\")"
   ]
  },
  {
   "cell_type": "code",
   "execution_count": 25,
   "id": "19c32072",
   "metadata": {},
   "outputs": [
    {
     "name": "stdout",
     "output_type": "stream",
     "text": [
      "Please enter one integer number: 20\n",
      "20 is NOT a PRIME Number...\n",
      "End of the program...\n"
     ]
    }
   ],
   "source": [
    "# check whether a given number is a PRIME number or not\n",
    "# as example - 3, 5, 7, 11, 13, 17, 19, 23, ....\n",
    "num = int(input(\"Please enter one integer number: \"))\n",
    "i = 2\n",
    "while (i < num):\n",
    "    if (num % i == 0):\n",
    "        print (f\"{num} is NOT a PRIME Number...\")\n",
    "        break\n",
    "    i = i + 1\n",
    "else:\n",
    "    print (f\"{num} is a PRIME Number...\")\n",
    "print (\"End of the program...\")"
   ]
  },
  {
   "cell_type": "code",
   "execution_count": 26,
   "id": "521a849f",
   "metadata": {},
   "outputs": [
    {
     "name": "stdout",
     "output_type": "stream",
     "text": [
      "Visit Doctor...\n",
      "Good Morning...\n",
      "Day No. - 1 and Medicine No. - 1...\n",
      "Day No. - 1 and Medicine No. - 2...\n",
      "Day No. - 1 and Medicine No. - 3...\n",
      "Good Night...\n",
      "-----------------------------------------------------------------\n",
      "Good Morning...\n",
      "Day No. - 2 and Medicine No. - 1...\n",
      "Day No. - 2 and Medicine No. - 2...\n",
      "Day No. - 2 and Medicine No. - 3...\n",
      "Good Night...\n",
      "-----------------------------------------------------------------\n",
      "Good Morning...\n",
      "Day No. - 3 and Medicine No. - 1...\n",
      "Day No. - 3 and Medicine No. - 2...\n",
      "Day No. - 3 and Medicine No. - 3...\n",
      "Good Night...\n",
      "-----------------------------------------------------------------\n",
      "Good Morning...\n",
      "Day No. - 4 and Medicine No. - 1...\n",
      "Day No. - 4 and Medicine No. - 2...\n",
      "Day No. - 4 and Medicine No. - 3...\n",
      "Good Night...\n",
      "-----------------------------------------------------------------\n",
      "Good Morning...\n",
      "Day No. - 5 and Medicine No. - 1...\n",
      "Day No. - 5 and Medicine No. - 2...\n",
      "Day No. - 5 and Medicine No. - 3...\n",
      "Good Night...\n",
      "-----------------------------------------------------------------\n",
      "Thanks to Doctor...\n",
      "Total number of medicines consumed is 15...\n"
     ]
    }
   ],
   "source": [
    "# nested for loops\n",
    "print (\"Visit Doctor...\")  # 1 time\n",
    "medicount = 0\n",
    "day = 1\n",
    "while (day <= 5):\n",
    "    print (\"Good Morning...\")  # 5 times\n",
    "    medi = 1\n",
    "    while (medi <= 3):\n",
    "        print (f\"Day No. - {day} and Medicine No. - {medi}...\")  # 15 times\n",
    "        medicount = medicount + 1  # 15 times\n",
    "        medi = medi + 1\n",
    "    print (\"Good Night...\")  # 5 times\n",
    "    print (\"-----------------------------------------------------------------\")  # 5 times\n",
    "    day = day + 1\n",
    "print (\"Thanks to Doctor...\")  # 1 time\n",
    "print (f\"Total number of medicines consumed is {medicount}...\")"
   ]
  },
  {
   "cell_type": "code",
   "execution_count": 27,
   "id": "3ee92c8a",
   "metadata": {},
   "outputs": [
    {
     "name": "stdout",
     "output_type": "stream",
     "text": [
      "Visit Doctor...\n",
      "Good Morning...\n",
      "Day No. - 1 and Medicine No. - 1...\n",
      "Day No. - 1 and Medicine No. - 2...\n",
      "Day No. - 1 and Medicine No. - 3...\n",
      "Good Night...\n",
      "-----------------------------------------------------------------\n",
      "Good Morning...\n",
      "Day No. - 2 and Medicine No. - 1...\n",
      "Day No. - 2 and Medicine No. - 2...\n",
      "Day No. - 2 and Medicine No. - 3...\n",
      "Good Night...\n",
      "-----------------------------------------------------------------\n",
      "Good Morning...\n",
      "Day No. - 3 and Medicine No. - 1...\n",
      "Day No. - 3 and Medicine No. - 2...\n",
      "Day No. - 3 and Medicine No. - 3...\n",
      "Good Night...\n",
      "-----------------------------------------------------------------\n",
      "Good Morning...\n",
      "Day No. - 4 and Medicine No. - 1...\n",
      "Day No. - 4 and Medicine No. - 2...\n",
      "Day No. - 4 and Medicine No. - 3...\n",
      "Good Night...\n",
      "-----------------------------------------------------------------\n",
      "Good Morning...\n",
      "Day No. - 5 and Medicine No. - 1...\n",
      "Day No. - 5 and Medicine No. - 2...\n",
      "Day No. - 5 and Medicine No. - 3...\n",
      "Good Night...\n",
      "-----------------------------------------------------------------\n",
      "Thanks to Doctor...\n",
      "Total number of medicines consumed is 15...\n"
     ]
    }
   ],
   "source": [
    "# nested for loops\n",
    "print (\"Visit Doctor...\")  # 1 time\n",
    "medicount = 0\n",
    "day = 1\n",
    "while (day <= 5):\n",
    "    print (\"Good Morning...\")  # 5 times\n",
    "    medi = 1\n",
    "    while (medi <= 3):\n",
    "        print (f\"Day No. - {day} and Medicine No. - {medi}...\")  # 15 times\n",
    "        medicount += 1  # 15 times\n",
    "        medi += 1\n",
    "    print (\"Good Night...\")  # 5 times\n",
    "    print (\"-----------------------------------------------------------------\")  # 5 times\n",
    "    day += 1\n",
    "print (\"Thanks to Doctor...\")  # 1 time\n",
    "print (f\"Total number of medicines consumed is {medicount}...\")"
   ]
  },
  {
   "cell_type": "code",
   "execution_count": 30,
   "id": "a42d4d7e",
   "metadata": {},
   "outputs": [
    {
     "name": "stdout",
     "output_type": "stream",
     "text": [
      "HelloHelloHelloHelloHello\n",
      "Hello Hello Hello Hello Hello \n",
      "Hello Hello Hello Hello Hello Hello Hello Hello \n"
     ]
    }
   ],
   "source": [
    "print (\"Hello\" * 5)\n",
    "print (\"Hello \" * 5)\n",
    "print (\"Hello \" * 8)"
   ]
  },
  {
   "cell_type": "code",
   "execution_count": null,
   "id": "6a878faa",
   "metadata": {},
   "outputs": [],
   "source": [
    "Pattern - 1\n",
    "-----------\n",
    "n = 6           i    .    *\n",
    "             -----------------\n",
    ".....*          1    5    1       (n, i)\n",
    "....***         2    4    3  . => (n - i)\n",
    "...*****        3    3    5\n",
    "..*******       4    2    7  * => (2 * i - 1)\n",
    ".*********      5    1    9\n",
    "***********     6    0   11\n",
    "             -----------------\n",
    "               Tracing Table"
   ]
  },
  {
   "cell_type": "code",
   "execution_count": 32,
   "id": "9ede6b58",
   "metadata": {},
   "outputs": [
    {
     "name": "stdout",
     "output_type": "stream",
     "text": [
      "Please enter the number of layers: 6\n",
      ".....*\n",
      "....***\n",
      "...*****\n",
      "..*******\n",
      ".*********\n",
      "***********\n",
      "End of the pattern printing...\n"
     ]
    }
   ],
   "source": [
    "n = int(input(\"Please enter the number of layers: \"))\n",
    "for i in range(1, n + 1):\n",
    "    print (\".\" * (n - i) + \"*\" * (2 * i - 1))\n",
    "print (\"End of the pattern printing...\")"
   ]
  },
  {
   "cell_type": "code",
   "execution_count": null,
   "id": "1a128c35",
   "metadata": {},
   "outputs": [],
   "source": [
    "Pattern - 2\n",
    "-----------\n",
    "n = 6           i    .    *\n",
    "             -----------------\n",
    "***********     1    0   11       (n, i)\n",
    ".*********      2    1    9  . => (i - 1)\n",
    "..*******       3    2    7\n",
    "...*****        4    3    5  * => (2 * (n - i) + 1)\n",
    "....***         5    4    3\n",
    ".....*          6    5    1\n",
    "             -----------------\n",
    "               Tracing Table"
   ]
  },
  {
   "cell_type": "code",
   "execution_count": 34,
   "id": "acc6f152",
   "metadata": {},
   "outputs": [
    {
     "name": "stdout",
     "output_type": "stream",
     "text": [
      "Please enter the number of layers: 6\n",
      "***********\n",
      ".*********\n",
      "..*******\n",
      "...*****\n",
      "....***\n",
      ".....*\n",
      "End of the pattern printing...\n"
     ]
    }
   ],
   "source": [
    "n = int(input(\"Please enter the number of layers: \"))\n",
    "for i in range(1, n + 1):\n",
    "    print (\".\" * (i - 1) + \"*\" * (2 * (n - i) + 1))\n",
    "print (\"End of the pattern printing...\")"
   ]
  },
  {
   "cell_type": "code",
   "execution_count": null,
   "id": "1581463d",
   "metadata": {},
   "outputs": [],
   "source": [
    "Pattern - 3\n",
    "-----------\n",
    "n = 11 (User given ODD number for layers)  m = (n + 1) // 2 = 6\n",
    "                i    .    *\n",
    "             -----------------\n",
    ".....*          1    5    1       (n, i, m)\n",
    "....***         2    4    3  . => (m - i)\n",
    "...*****        3    3    5\n",
    "..*******       4    2    7  * => (2 * i - 1)\n",
    ".*********      5    1    9\n",
    "***********  ___6____0___11____\n",
    ".*********      7    1    9\n",
    "..*******       8    2    7  . => (i - m)\n",
    "...*****        9    3    5\n",
    "....***        10    4    3  * => (2 * (n - i) + 1)\n",
    ".....*         11    5    1\n",
    "             ---- -------------\n",
    "               Tracing Table"
   ]
  },
  {
   "cell_type": "code",
   "execution_count": 38,
   "id": "94fafce5",
   "metadata": {},
   "outputs": [
    {
     "name": "stdout",
     "output_type": "stream",
     "text": [
      "Please enter the ODD number of layers: 12\n",
      "Please enter the ODD number of layers: 16\n",
      "Please enter the ODD number of layers: 18\n",
      "Please enter the ODD number of layers: 20\n",
      "Please enter the ODD number of layers: 8\n",
      "Please enter the ODD number of layers: 11\n",
      ".....*\n",
      "....***\n",
      "...*****\n",
      "..*******\n",
      ".*********\n",
      "***********\n",
      ".*********\n",
      "..*******\n",
      "...*****\n",
      "....***\n",
      ".....*\n",
      "End of the pattern printing...\n"
     ]
    }
   ],
   "source": [
    "while (True):\n",
    "    n = int(input(\"Please enter the ODD number of layers: \"))\n",
    "    if (n % 2 == 1): break\n",
    "m = (n + 1) // 2\n",
    "for i in range(1, n + 1):\n",
    "    if (i > m): b = (i - m); s = (2 * (n - i) + 1)\n",
    "    else: b = (m - i); s = (2 * i - 1)\n",
    "    print (\".\" * b + \"*\" * s)\n",
    "print (\"End of the pattern printing...\")"
   ]
  },
  {
   "cell_type": "code",
   "execution_count": null,
   "id": "eeb597c6",
   "metadata": {},
   "outputs": [],
   "source": []
  },
  {
   "cell_type": "code",
   "execution_count": null,
   "id": "811015ad",
   "metadata": {},
   "outputs": [],
   "source": []
  },
  {
   "cell_type": "code",
   "execution_count": null,
   "id": "9c6aa0ad",
   "metadata": {},
   "outputs": [],
   "source": []
  },
  {
   "cell_type": "code",
   "execution_count": null,
   "id": "4dfe9cab",
   "metadata": {},
   "outputs": [],
   "source": []
  },
  {
   "cell_type": "code",
   "execution_count": null,
   "id": "a7660c4c",
   "metadata": {},
   "outputs": [],
   "source": []
  },
  {
   "cell_type": "code",
   "execution_count": null,
   "id": "41d8eb73",
   "metadata": {},
   "outputs": [],
   "source": []
  },
  {
   "cell_type": "code",
   "execution_count": null,
   "id": "63b3cb25",
   "metadata": {},
   "outputs": [],
   "source": []
  },
  {
   "cell_type": "code",
   "execution_count": null,
   "id": "3e6cc1a8",
   "metadata": {},
   "outputs": [],
   "source": []
  },
  {
   "cell_type": "code",
   "execution_count": null,
   "id": "dc8a9da4",
   "metadata": {},
   "outputs": [],
   "source": []
  },
  {
   "cell_type": "code",
   "execution_count": null,
   "id": "03bb0283",
   "metadata": {},
   "outputs": [],
   "source": []
  },
  {
   "cell_type": "code",
   "execution_count": null,
   "id": "30864816",
   "metadata": {},
   "outputs": [],
   "source": []
  },
  {
   "cell_type": "code",
   "execution_count": null,
   "id": "49bdc798",
   "metadata": {},
   "outputs": [],
   "source": []
  },
  {
   "cell_type": "code",
   "execution_count": null,
   "id": "b0351f7d",
   "metadata": {},
   "outputs": [],
   "source": []
  },
  {
   "cell_type": "markdown",
   "id": "cd43b35e-af9f-48eb-a313-dff445c7a6e9",
   "metadata": {},
   "source": [
    "### **Day - 3**"
   ]
  },
  {
   "cell_type": "code",
   "execution_count": null,
   "id": "f9c6876c-fff4-45b2-b43f-b87f20c197ba",
   "metadata": {},
   "outputs": [],
   "source": []
  },
  {
   "cell_type": "code",
   "execution_count": null,
   "id": "4d37ebef-7a08-4b30-bed4-2e51ce86f47a",
   "metadata": {},
   "outputs": [],
   "source": []
  },
  {
   "cell_type": "markdown",
   "id": "e05f6ee7-e72e-4f45-9489-42369ee27e1b",
   "metadata": {},
   "source": [
    "### **Day - 4**"
   ]
  },
  {
   "cell_type": "code",
   "execution_count": null,
   "id": "ee63ecd5-faaf-4374-9bb5-732006099dea",
   "metadata": {},
   "outputs": [],
   "source": []
  },
  {
   "cell_type": "code",
   "execution_count": null,
   "id": "6875205c-8089-41c4-badb-8b308a4c23b5",
   "metadata": {},
   "outputs": [],
   "source": []
  },
  {
   "cell_type": "markdown",
   "id": "3345498a-d3d1-45f9-81a9-87159bd3d993",
   "metadata": {},
   "source": [
    "### **Day - 5**"
   ]
  },
  {
   "cell_type": "code",
   "execution_count": null,
   "id": "ed55c3a3-3ddc-45ea-b3b4-cb6720ff28eb",
   "metadata": {},
   "outputs": [],
   "source": []
  },
  {
   "cell_type": "code",
   "execution_count": null,
   "id": "43ff5bc4-3e85-4799-90a7-d01777bcbb7e",
   "metadata": {},
   "outputs": [],
   "source": []
  }
 ],
 "metadata": {
  "kernelspec": {
   "display_name": "Python 3 (ipykernel)",
   "language": "python",
   "name": "python3"
  },
  "language_info": {
   "codemirror_mode": {
    "name": "ipython",
    "version": 3
   },
   "file_extension": ".py",
   "mimetype": "text/x-python",
   "name": "python",
   "nbconvert_exporter": "python",
   "pygments_lexer": "ipython3",
   "version": "3.10.9"
  }
 },
 "nbformat": 4,
 "nbformat_minor": 5
}
