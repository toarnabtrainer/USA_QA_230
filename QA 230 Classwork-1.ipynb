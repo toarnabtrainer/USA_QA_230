{
 "cells": [
  {
   "cell_type": "markdown",
   "id": "fb98938a-0a93-468e-9cbe-1c1f1771c5fc",
   "metadata": {},
   "source": [
    "## **Introduction to Python Scripting**"
   ]
  },
  {
   "cell_type": "markdown",
   "id": "cd7c3f99-8b18-431f-9802-ce25de2487ae",
   "metadata": {},
   "source": [
    "### Day - 1"
   ]
  },
  {
   "cell_type": "code",
   "execution_count": 3,
   "id": "9cb68020-99c5-499a-9aa5-676baf0e1e6f",
   "metadata": {},
   "outputs": [],
   "source": [
    "# This is a comment line\n",
    "# This is another comment line\n",
    "# This is the last comment line"
   ]
  },
  {
   "cell_type": "code",
   "execution_count": 6,
   "id": "6d053f01-33f4-4bb3-b001-8adf7e3090fd",
   "metadata": {},
   "outputs": [
    {
     "name": "stdin",
     "output_type": "stream",
     "text": [
      "Please enter the first integer number:  200\n",
      "Please enter the second integer number:  300\n"
     ]
    },
    {
     "name": "stdout",
     "output_type": "stream",
     "text": [
      "200 <class 'str'>\n",
      "300 <class 'str'>\n",
      "So the total is 200300\n",
      "End of the program...\n"
     ]
    }
   ],
   "source": [
    "num1 = input(\"Please enter the first integer number: \")\n",
    "num2 = input(\"Please enter the second integer number: \")\n",
    "print (num1, type(num1))\n",
    "print (num2, type(num2))\n",
    "total = num1 + num2   # string concatenation\n",
    "print (\"So the total is\", total)\n",
    "print (\"End of the program...\")"
   ]
  },
  {
   "cell_type": "code",
   "execution_count": 8,
   "id": "06073ea3-2b58-4e0f-8b4e-ae4d8d2fa110",
   "metadata": {},
   "outputs": [
    {
     "name": "stdin",
     "output_type": "stream",
     "text": [
      "Please enter the first integer number:  500\n",
      "Please enter the second integer number:  700\n"
     ]
    },
    {
     "name": "stdout",
     "output_type": "stream",
     "text": [
      "500 <class 'int'>\n",
      "700 <class 'int'>\n",
      "So the total is 1200\n",
      "End of the program...\n"
     ]
    }
   ],
   "source": [
    "num1 = int(input(\"Please enter the first integer number: \"))\n",
    "num2 = int(input(\"Please enter the second integer number: \"))\n",
    "print (num1, type(num1))\n",
    "print (num2, type(num2))\n",
    "total = num1 + num2   # algebraic addition\n",
    "print (\"So the total is\", total)\n",
    "print (\"End of the program...\")"
   ]
  },
  {
   "cell_type": "code",
   "execution_count": 24,
   "id": "67e5587b-2692-47a9-8566-d5c608bb3cae",
   "metadata": {},
   "outputs": [
    {
     "name": "stdout",
     "output_type": "stream",
     "text": [
      "So 500 + 700 = 1200\n",
      "So 500 + 700 = 1200\n",
      "So 500 + 700 = 1200\n",
      "So 500 + 700 = 1200\n",
      "So 500 + 700 = 1200\n",
      "So 500 + 700 = 1200\n",
      "So 500 + 700 = 1200\n",
      "So 500 + 700 = 1200\n",
      "So 500 + 700 = 1200\n",
      "So 500.000000 + 700 = 1200\n",
      "So   500.00 + 700 = 1200\n",
      "So 500 + 700 = 1200\n"
     ]
    }
   ],
   "source": [
    "print (\"So\", num1, \"+\", num2, \"=\", total)\n",
    "print (\"So \" + str(num1) + \" + \" + str(num2) + \" = \" + str(total))\n",
    "print (\"So {} + {} = {}\".format(num1, num2, total))  # {} is called variable place-holder\n",
    "print (\"So {0} + {1} = {2}\".format(num1, num2, total))  # using numbered/indexed place-holder\n",
    "print (\"So {2} + {1} = {0}\".format(total, num2, num1))  # using numbered/indexed place-holder\n",
    "print (\"So {fn} + {sn} = {tot}\".format(fn=num1, sn=num2, tot=total))  # labeled place-holder\n",
    "print (\"So {fn} + {sn} = {tot}\".format(sn=num2, fn=num1, tot=total))  # labeled place-holder\n",
    "print (\"So {fn} + {sn} = {tot}\".format(fn=num1, sn=num2, tot=total))  # labeled place-holder\n",
    "print (\"So %d + %d = %d\"%(num1, num2, total))\n",
    "print (\"So %f + %d = %d\"%(num1, num2, total))\n",
    "print (\"So %8.2f + %d = %d\"%(num1, num2, total))\n",
    "print (f\"So {num1} + {num2} = {total}\")   # f stands for smart formatting"
   ]
  },
  {
   "cell_type": "markdown",
   "id": "1fca3860-de77-4ace-a5cd-20f29b5fdbcd",
   "metadata": {},
   "source": [
    "### Dynamic Variable Datatypes"
   ]
  },
  {
   "cell_type": "code",
   "execution_count": 25,
   "id": "6cbdb00a-8b46-415e-9283-a9715c00017a",
   "metadata": {},
   "outputs": [
    {
     "name": "stdout",
     "output_type": "stream",
     "text": [
      "100 <class 'int'> 2283603561808\n",
      "100.5 <class 'float'> 2283710936144\n",
      "Punch <class 'str'> 2283711954544\n",
      "P <class 'str'> 2283605122608\n",
      "Punch <class 'str'> 2283711954544\n",
      "P <class 'str'> 2283605122608\n",
      "True <class 'bool'> 140705103431888\n",
      "False <class 'bool'> 140705103431920\n"
     ]
    }
   ],
   "source": [
    "var1 = 100; print (var1, type(var1), id(var1))\n",
    "var1 = 100.5; print (var1, type(var1), id(var1))\n",
    "var1 = \"Punch\"; print (var1, type(var1), id(var1))\n",
    "var1 = \"P\"; print (var1, type(var1), id(var1))\n",
    "var1 = 'Punch'; print (var1, type(var1), id(var1))\n",
    "var1 = 'P'; print (var1, type(var1), id(var1))\n",
    "var1 = True; print (var1, type(var1), id(var1))\n",
    "var1 = False; print (var1, type(var1), id(var1))"
   ]
  },
  {
   "cell_type": "markdown",
   "id": "4f1527c8-9b9d-4e22-9986-9ad9473cef39",
   "metadata": {},
   "source": [
    "### Python Operators"
   ]
  },
  {
   "cell_type": "code",
   "execution_count": null,
   "id": "a11669be-42bf-4d4d-a1d4-2b4031e2d0f4",
   "metadata": {},
   "outputs": [],
   "source": [
    "# Arithmetic Operators: + - * / // ** %\n",
    "# Conditional Operators: > >= < <= != ==\n",
    "# Logical Operators: and or not\n",
    "# Assignment Operator: = \n",
    "# Special Assignment Operators: += -= *= /= //= **= %=\n",
    "\n",
    "# Operators: Unary, Binary, Ternary\n",
    "# Unary Operators (Require only one operand): +100 -300\n",
    "# Binary Operators (Require only two operands): 700 + 100    900 - 300\n",
    "# Ternary Operator (Requires only three operands)"
   ]
  },
  {
   "cell_type": "code",
   "execution_count": 29,
   "id": "3fe7077d-3ed0-46d4-b2cb-148d6a0f693b",
   "metadata": {},
   "outputs": [
    {
     "name": "stdout",
     "output_type": "stream",
     "text": [
      "140\n",
      "60\n",
      "2.5\n",
      "2\n",
      "4000\n",
      "100000000\n",
      "20\n"
     ]
    }
   ],
   "source": [
    "# Arithmetic Operators: + - * / // ** %\n",
    "print (100 + 40)  # addition operation\n",
    "print (100 - 40)  # subtraction operation\n",
    "print (100 / 40)  # float division operation\n",
    "print (100 // 40) # integer division operation\n",
    "print (100 * 40)  # multiplication operation\n",
    "print (100 ** 4)  # exponentiation operation\n",
    "print (100 % 40)  # modulus operation, remainder of the divison"
   ]
  },
  {
   "cell_type": "code",
   "execution_count": 30,
   "id": "edcf981f-4a0c-4acd-9998-eb0e0e99ef22",
   "metadata": {},
   "outputs": [
    {
     "name": "stdout",
     "output_type": "stream",
     "text": [
      "True True\n",
      "False False\n",
      "True False\n"
     ]
    }
   ],
   "source": [
    "# Conditional Operators: > >= < <= != ==\n",
    "print (100 > 50, 100 >= 50)\n",
    "print (100 < 50, 100 <= 50)\n",
    "print (100 != 50, 100 == 50)"
   ]
  },
  {
   "cell_type": "code",
   "execution_count": 33,
   "id": "8dc37d2e-a41e-4a1e-b3a9-b3bfaac1c9ec",
   "metadata": {},
   "outputs": [
    {
     "name": "stdout",
     "output_type": "stream",
     "text": [
      "False False False True\n",
      "False True True True\n",
      "False True\n"
     ]
    }
   ],
   "source": [
    "# Logical Operators: and or not\n",
    "print (False and False, False and True, True and False, True and True)\n",
    "print (False or False, False or True, True or False, True or True)\n",
    "print (not True, not False)"
   ]
  },
  {
   "cell_type": "code",
   "execution_count": 36,
   "id": "2197e070-59d6-4b49-b748-4ad63976543f",
   "metadata": {},
   "outputs": [
    {
     "name": "stdout",
     "output_type": "stream",
     "text": [
      "100\n",
      "120\n",
      "80\n",
      "160\n",
      "10\n"
     ]
    }
   ],
   "source": [
    "# Assignment Operator: =\n",
    "# Special Assignment Operator: += -= *= /= //= **= %=\n",
    "var1 = 100\n",
    "print (var1)\n",
    "var1 += 20\n",
    "print (var1)\n",
    "var1 -= 40\n",
    "print (var1)\n",
    "var1 *= 2\n",
    "print (var1)\n",
    "var1 %= 30\n",
    "print (var1)"
   ]
  },
  {
   "cell_type": "code",
   "execution_count": 37,
   "id": "49672411-9685-4c45-81ad-433331e16abe",
   "metadata": {},
   "outputs": [
    {
     "name": "stdout",
     "output_type": "stream",
     "text": [
      "100 EVEN\n",
      "105 ODD\n"
     ]
    }
   ],
   "source": [
    "# Operators: Unary, Binary, Ternary\n",
    "# Unary Operators (Require only one operand): +100 -300\n",
    "# Binary Operators (Require only two operands): 700 + 100    900 - 300\n",
    "# Ternary Operator (Requires only three operands)\n",
    "num1 = 100\n",
    "result = \"EVEN\" if (num1 % 2 == 0) else \"ODD\"\n",
    "print (num1, result)\n",
    "\n",
    "num1 = 105\n",
    "result = \"EVEN\" if (num1 % 2 == 0) else \"ODD\"\n",
    "print (num1, result)"
   ]
  },
  {
   "cell_type": "code",
   "execution_count": 38,
   "id": "1b11743d-1c1e-4289-95c0-2b799162be19",
   "metadata": {},
   "outputs": [
    {
     "name": "stdout",
     "output_type": "stream",
     "text": [
      "A a\n"
     ]
    }
   ],
   "source": [
    "# Bitwise Operators: & | ~ ^\n",
    "# A => 65 => 64 + 1      => 0100 0001\n",
    "#                        or 0010 0000 (32)\n",
    "#                           ---------\n",
    "# a => 97 => 64 + 32 + 1 => 0110 0001\n",
    "char1 = 'A'\n",
    "result = chr(ord(char1) | 32)\n",
    "print (char1, result)"
   ]
  },
  {
   "cell_type": "code",
   "execution_count": 39,
   "id": "f6a0c278-1ecd-402e-8980-50ff5f976e87",
   "metadata": {},
   "outputs": [
    {
     "name": "stdout",
     "output_type": "stream",
     "text": [
      "65 97 90 122\n",
      "A a Z z\n"
     ]
    }
   ],
   "source": [
    "# ASCII (American Standard Code for Information Interchange) Codes\n",
    "# A => 65, B => 66, Z => 90\n",
    "# a => 97, b => 98, z => 122\n",
    "# 0 => 48, 1 => 49, 9 => 57\n",
    "# Space Bar/Blank => 32, Enter => 13, Esc => 27, Back Space => 9, Tab => 8\n",
    "# ASCII Code is 8 bits code ranging from 0 to 255\n",
    "# It can be divided into two categories:\n",
    "# 1. Normal ASCII Codes (0 to 127) - Printable\n",
    "# 2. Extended ASCII Codes (128 to 255) - Non-Printable\n",
    "print (ord('A'), ord('a'), ord('Z'), ord('z'))  # returns characters to ASCII Codes\n",
    "print (chr(65), chr(97), chr(90), chr(122))     # returns ASCII Codes to characters"
   ]
  },
  {
   "cell_type": "markdown",
   "id": "35365637-72fe-4673-b14a-f70e70aee26f",
   "metadata": {},
   "source": [
    "### Conditional Statements"
   ]
  },
  {
   "cell_type": "code",
   "execution_count": 49,
   "id": "e14b8605-a4db-4bf4-8746-1d62108eeb2e",
   "metadata": {},
   "outputs": [
    {
     "name": "stdin",
     "output_type": "stream",
     "text": [
      "Please enter the first integer:  300\n",
      "Please enter the second integer:  200\n",
      "Please enter the third integer:  100\n"
     ]
    },
    {
     "name": "stdout",
     "output_type": "stream",
     "text": [
      "The first number is the maximum number...\n",
      "So the maximum number is 300\n",
      "End of the program...\n"
     ]
    }
   ],
   "source": [
    "# Take three numbers from the user as input and find the maximum of these three numbers\n",
    "num1 = int(input(\"Please enter the first integer: \"))\n",
    "num2 = int(input(\"Please enter the second integer: \"))\n",
    "num3 = int(input(\"Please enter the third integer: \"))\n",
    "if (num1 > num2):\n",
    "    if (num1 > num3):\n",
    "        print (\"The first number is the maximum number...\")\n",
    "        print (\"So the maximum number is\", num1)\n",
    "    else:\n",
    "        print (\"The third number is the maximum number...\")\n",
    "        print (\"So the maximum number is\", num3)\n",
    "elif (num2 > num3):\n",
    "    print (\"The second number is the maximum number...\")\n",
    "    print (\"So the maximum number is\", num2)\n",
    "else:\n",
    "    print (\"The third number is the maximum number...\")\n",
    "    print (\"So the maximum number is\", num3)\n",
    "print (\"End of the program...\")"
   ]
  },
  {
   "cell_type": "code",
   "execution_count": 52,
   "id": "b8807365-6198-45e5-a8d8-db20e50760d5",
   "metadata": {},
   "outputs": [
    {
     "name": "stdin",
     "output_type": "stream",
     "text": [
      "Please enter the first integer:  200\n",
      "Please enter the second integer:  100\n",
      "Please enter the third integer:  300\n"
     ]
    },
    {
     "name": "stdout",
     "output_type": "stream",
     "text": [
      "The third number is the maximum number...\n",
      "So the maximum number is 300\n",
      "End of the program...\n"
     ]
    }
   ],
   "source": [
    "# Take three numbers from the user as input and find the maximum of these numbers\n",
    "num1 = int(input(\"Please enter the first integer: \"))\n",
    "num2 = int(input(\"Please enter the second integer: \"))\n",
    "num3 = int(input(\"Please enter the third integer: \"))\n",
    "if (num1 > num2 and num1 > num3):\n",
    "    print (\"The first number is the maximum number...\")\n",
    "    print (\"So the maximum number is\", num1)\n",
    "elif (num2 > num3):\n",
    "    print (\"The second number is the maximum number...\")\n",
    "    print (\"So the maximum number is\", num2)\n",
    "else:\n",
    "    print (\"The third number is the maximum number...\")\n",
    "    print (\"So the maximum number is\", num3)\n",
    "print (\"End of the program...\")"
   ]
  },
  {
   "cell_type": "code",
   "execution_count": 57,
   "id": "ea6a57df-a86d-4d2d-b19c-2656de493cdd",
   "metadata": {},
   "outputs": [
    {
     "name": "stdout",
     "output_type": "stream",
     "text": [
      "M A I N  M E N U ...\n",
      "~~~~~~~~~~~~~~~~~~~~\n",
      "1 >  A D D I T I O N  O P E R A T I O N ...\n",
      "2 >  S U B T R A C T I O N  O P E R A T I O N ...\n",
      "3 >  M U L T I P L I C A T I O N  O P E R A T I O N ...\n",
      "4 >  D I V I S I O N  O P E R A T I O N ...\n"
     ]
    },
    {
     "name": "stdin",
     "output_type": "stream",
     "text": [
      "Please enter youe choice integer (1 to 4):  4\n",
      "Please enter the first integer:  300\n",
      "Please enter the second integer:  75\n"
     ]
    },
    {
     "name": "stdout",
     "output_type": "stream",
     "text": [
      "Performing the division operation...\n",
      "So 300 / 75 = 4.0\n",
      "End of the program...\n"
     ]
    }
   ],
   "source": [
    "# Calculator Program\n",
    "print (\"M A I N  M E N U ...\")\n",
    "print (\"~~~~~~~~~~~~~~~~~~~~\")\n",
    "print (\"1 >  A D D I T I O N  O P E R A T I O N ...\")\n",
    "print (\"2 >  S U B T R A C T I O N  O P E R A T I O N ...\")\n",
    "print (\"3 >  M U L T I P L I C A T I O N  O P E R A T I O N ...\")\n",
    "print (\"4 >  D I V I S I O N  O P E R A T I O N ...\")\n",
    "choice = int(input(\"Please enter youe choice integer (1 to 4): \"))\n",
    "num1 = int(input(\"Please enter the first integer: \"))\n",
    "num2 = int(input(\"Please enter the second integer: \"))\n",
    "if (choice == 1):\n",
    "    print (\"Performing the addition operation...\")\n",
    "    result = num1 + num2\n",
    "    print (f\"So {num1} + {num2} = {result}\")\n",
    "elif (choice == 2):\n",
    "    print (\"Performing the subtraction operation...\")\n",
    "    result = num1 - num2\n",
    "    print (f\"So {num1} - {num2} = {result}\")\n",
    "elif (choice == 3):\n",
    "    print (\"Performing the multiplication operation...\")\n",
    "    result = num1 * num2\n",
    "    print (f\"So {num1} * {num2} = {result}\")\n",
    "elif (choice == 4):\n",
    "    print (\"Performing the division operation...\")\n",
    "    if (num2 == 0):\n",
    "        print (\"Division by ZERO is Illegal !!!\")\n",
    "        print (\"Division operation can not be carried out...\")\n",
    "    else:\n",
    "        result = num1 / num2\n",
    "        print (f\"So {num1} / {num2} = {result}\")\n",
    "else:\n",
    "    print (\"Invalid choice number has been provided...\")\n",
    "    print (\"No operation could get carried out...\")\n",
    "print (\"End of the program...\")"
   ]
  },
  {
   "cell_type": "markdown",
   "id": "db23f184-e252-43bc-96c6-b83df87372c4",
   "metadata": {},
   "source": [
    "### **Day - 2**"
   ]
  },
  {
   "cell_type": "markdown",
   "id": "a51a4954",
   "metadata": {},
   "source": [
    "### Loop Control"
   ]
  },
  {
   "cell_type": "code",
   "execution_count": 2,
   "id": "59dac934-b35f-483f-a306-ae3fb3ddbec6",
   "metadata": {},
   "outputs": [
    {
     "name": "stdout",
     "output_type": "stream",
     "text": [
      "i = 0...\n",
      "i = 1...\n",
      "i = 2...\n",
      "i = 3...\n",
      "i = 4...\n",
      "i = 5...\n",
      "i = 6...\n",
      "i = 7...\n"
     ]
    }
   ],
   "source": [
    "for i in range(8):\n",
    "    print (f\"i = {i}...\")"
   ]
  },
  {
   "cell_type": "code",
   "execution_count": 5,
   "id": "4c04351c",
   "metadata": {},
   "outputs": [
    {
     "name": "stdout",
     "output_type": "stream",
     "text": [
      "[0, 1, 2, 3, 4, 5, 6, 7]\n",
      "[1, 2, 3, 4, 5, 6, 7]\n",
      "[1, 3, 5, 7]\n"
     ]
    }
   ],
   "source": [
    "result = list(range(8))\n",
    "print (result)\n",
    "result = list(range(1, 8))\n",
    "print (result)\n",
    "result = list(range(1, 8, 2))\n",
    "print (result)"
   ]
  },
  {
   "cell_type": "code",
   "execution_count": 6,
   "id": "48321375",
   "metadata": {},
   "outputs": [
    {
     "name": "stdout",
     "output_type": "stream",
     "text": [
      "i = 1...\n",
      "i = 3...\n",
      "i = 5...\n",
      "i = 7...\n"
     ]
    }
   ],
   "source": [
    "for i in range(1, 8, 2):\n",
    "    print (f\"i = {i}...\")"
   ]
  },
  {
   "cell_type": "code",
   "execution_count": 7,
   "id": "92d06ec4",
   "metadata": {},
   "outputs": [
    {
     "name": "stdout",
     "output_type": "stream",
     "text": [
      "i = 11...\n",
      "i = 44...\n",
      "i = 22...\n",
      "i = 55...\n",
      "i = 33...\n",
      "i = 66...\n"
     ]
    }
   ],
   "source": [
    "for i in [11, 44, 22, 55, 33, 66]:\n",
    "    print (f\"i = {i}...\")"
   ]
  },
  {
   "cell_type": "code",
   "execution_count": 8,
   "id": "45dca107",
   "metadata": {},
   "outputs": [
    {
     "name": "stdout",
     "output_type": "stream",
     "text": [
      "i = 11...\n",
      "i = 44...\n",
      "i = 22...\n",
      "i = 55...\n",
      "i = 33...\n",
      "i = 66...\n"
     ]
    }
   ],
   "source": [
    "for i in (11, 44, 22, 55, 33, 66):\n",
    "    print (f\"i = {i}...\")"
   ]
  },
  {
   "cell_type": "code",
   "execution_count": 9,
   "id": "b8d2e826",
   "metadata": {},
   "outputs": [
    {
     "name": "stdout",
     "output_type": "stream",
     "text": [
      "i = 11...\n",
      "i = 44...\n",
      "i = 22.5...\n",
      "i = 55.5...\n",
      "i = 33...\n",
      "i = True...\n",
      "i = 66...\n",
      "i = False...\n"
     ]
    }
   ],
   "source": [
    "for i in [11, 44, \"22.5\", 55.5, 33, True, 66, False]:\n",
    "    print (f\"i = {i}...\")"
   ]
  },
  {
   "cell_type": "code",
   "execution_count": 10,
   "id": "412c46d6",
   "metadata": {},
   "outputs": [
    {
     "name": "stdout",
     "output_type": "stream",
     "text": [
      "i = 0...\n",
      "i = 1...\n",
      "i = 2...\n",
      "i = 3...\n",
      "i = 4...\n",
      "i = 5...\n",
      "i = 6...\n",
      "i = 7...\n",
      "ELSE block is executing...\n"
     ]
    }
   ],
   "source": [
    "for i in range(8):\n",
    "    print (f\"i = {i}...\")\n",
    "else:\n",
    "    print (\"ELSE block is executing...\")"
   ]
  },
  {
   "cell_type": "code",
   "execution_count": 13,
   "id": "6be7eaca",
   "metadata": {},
   "outputs": [
    {
     "name": "stdout",
     "output_type": "stream",
     "text": [
      "i = 0...\n",
      "i = 1...\n",
      "i = 2...\n",
      "i = 3...\n",
      "i = 4...\n",
      "i = 5...\n"
     ]
    }
   ],
   "source": [
    "for i in range(8):\n",
    "    print (f\"i = {i}...\")\n",
    "    if (i == 5): break   # break is a statement or a command which will terminate a loop execution abruptly\n",
    "else:                    # break statement can only be used with in a loop construct\n",
    "    print (\"ELSE block is executing...\")"
   ]
  },
  {
   "cell_type": "code",
   "execution_count": 14,
   "id": "fa5db85a",
   "metadata": {},
   "outputs": [
    {
     "name": "stdout",
     "output_type": "stream",
     "text": [
      "Looping for i = 0...\n",
      "Looping for i = 1...\n",
      "Looping for i = 2...\n",
      "Looping for i = 3...\n",
      "Looping for i = 4...\n",
      "For i = 5 going to loop again with continue statement...\n",
      "Looping for i = 6...\n",
      "For i = 7 going to loop again with continue statement...\n",
      "Looping for i = 8...\n",
      "Looping for i = 9...\n",
      "ELSE block is executing...\n"
     ]
    }
   ],
   "source": [
    "for i in range(10):\n",
    "    if (i == 5 or i == 7):\n",
    "        print (f\"For i = {i} going to loop again with continue statement...\")\n",
    "        continue\n",
    "    print (f\"Looping for i = {i}...\")\n",
    "else:\n",
    "    print (\"ELSE block is executing...\")"
   ]
  },
  {
   "cell_type": "code",
   "execution_count": null,
   "id": "7c4418a0",
   "metadata": {},
   "outputs": [],
   "source": [
    "for i in range(10):\n",
    "    if (i == 5 or i == 7):\n",
    "        print (f\"For i = {i} going to loop again with continue statement...\")\n",
    "        continue\n",
    "    else:\n",
    "        pass    # pass is a statement place holder....\n",
    "    print (f\"Looping for i = {i}...\")\n",
    "else:\n",
    "    print (\"ELSE block is executing...\")"
   ]
  },
  {
   "cell_type": "code",
   "execution_count": 17,
   "id": "8438898e",
   "metadata": {},
   "outputs": [],
   "source": [
    "for i in range(8):\n",
    "    pass\n",
    "else:\n",
    "    pass"
   ]
  },
  {
   "cell_type": "code",
   "execution_count": 20,
   "id": "608764b3",
   "metadata": {},
   "outputs": [
    {
     "name": "stdout",
     "output_type": "stream",
     "text": [
      "Visit Doctor...\n",
      "Good Morning...\n",
      "Day No. - 1 and Medicine No. - 1...\n",
      "Day No. - 1 and Medicine No. - 2...\n",
      "Day No. - 1 and Medicine No. - 3...\n",
      "Good Night...\n",
      "-----------------------------------------------------------------\n",
      "Good Morning...\n",
      "Day No. - 2 and Medicine No. - 1...\n",
      "Day No. - 2 and Medicine No. - 2...\n",
      "Day No. - 2 and Medicine No. - 3...\n",
      "Good Night...\n",
      "-----------------------------------------------------------------\n",
      "Good Morning...\n",
      "Day No. - 3 and Medicine No. - 1...\n",
      "Day No. - 3 and Medicine No. - 2...\n",
      "Day No. - 3 and Medicine No. - 3...\n",
      "Good Night...\n",
      "-----------------------------------------------------------------\n",
      "Good Morning...\n",
      "Day No. - 4 and Medicine No. - 1...\n",
      "Day No. - 4 and Medicine No. - 2...\n",
      "Day No. - 4 and Medicine No. - 3...\n",
      "Good Night...\n",
      "-----------------------------------------------------------------\n",
      "Good Morning...\n",
      "Day No. - 5 and Medicine No. - 1...\n",
      "Day No. - 5 and Medicine No. - 2...\n",
      "Day No. - 5 and Medicine No. - 3...\n",
      "Good Night...\n",
      "-----------------------------------------------------------------\n",
      "Thanks to Doctor...\n",
      "Total number of medicines consumed is 15...\n"
     ]
    }
   ],
   "source": [
    "# nested for loops\n",
    "print (\"Visit Doctor...\")  # 1 time\n",
    "medicount = 0\n",
    "for day in range(1, 6):\n",
    "    print (\"Good Morning...\")  # 5 times\n",
    "    for medi in range(1, 4):\n",
    "        print (f\"Day No. - {day} and Medicine No. - {medi}...\")  # 15 times\n",
    "        medicount = medicount + 1  # 15 times\n",
    "    print (\"Good Night...\")  # 5 times\n",
    "    print (\"-----------------------------------------------------------------\")  # 5 times\n",
    "print (\"Thanks to Doctor...\")  # 1 time\n",
    "print (f\"Total number of medicines consumed is {medicount}...\")"
   ]
  },
  {
   "cell_type": "code",
   "execution_count": 23,
   "id": "ea8e45c1",
   "metadata": {},
   "outputs": [
    {
     "name": "stdout",
     "output_type": "stream",
     "text": [
      "Please enter one integer number: 13\n",
      "13 is a PRIME Number...\n",
      "End of the program...\n"
     ]
    }
   ],
   "source": [
    "# check whether a given number is a PRIME number or not\n",
    "# as example - 3, 5, 7, 11, 13, 17, 19, 23, ....\n",
    "num = int(input(\"Please enter one integer number: \"))\n",
    "for i in range(2, num):\n",
    "    if (num % i == 0):\n",
    "        print (f\"{num} is NOT a PRIME Number...\")\n",
    "        break\n",
    "else:\n",
    "    print (f\"{num} is a PRIME Number...\")\n",
    "print (\"End of the program...\")"
   ]
  },
  {
   "cell_type": "code",
   "execution_count": 25,
   "id": "19c32072",
   "metadata": {},
   "outputs": [
    {
     "name": "stdout",
     "output_type": "stream",
     "text": [
      "Please enter one integer number: 20\n",
      "20 is NOT a PRIME Number...\n",
      "End of the program...\n"
     ]
    }
   ],
   "source": [
    "# check whether a given number is a PRIME number or not\n",
    "# as example - 3, 5, 7, 11, 13, 17, 19, 23, ....\n",
    "num = int(input(\"Please enter one integer number: \"))\n",
    "i = 2\n",
    "while (i < num):\n",
    "    if (num % i == 0):\n",
    "        print (f\"{num} is NOT a PRIME Number...\")\n",
    "        break\n",
    "    i = i + 1\n",
    "else:\n",
    "    print (f\"{num} is a PRIME Number...\")\n",
    "print (\"End of the program...\")"
   ]
  },
  {
   "cell_type": "code",
   "execution_count": 26,
   "id": "521a849f",
   "metadata": {},
   "outputs": [
    {
     "name": "stdout",
     "output_type": "stream",
     "text": [
      "Visit Doctor...\n",
      "Good Morning...\n",
      "Day No. - 1 and Medicine No. - 1...\n",
      "Day No. - 1 and Medicine No. - 2...\n",
      "Day No. - 1 and Medicine No. - 3...\n",
      "Good Night...\n",
      "-----------------------------------------------------------------\n",
      "Good Morning...\n",
      "Day No. - 2 and Medicine No. - 1...\n",
      "Day No. - 2 and Medicine No. - 2...\n",
      "Day No. - 2 and Medicine No. - 3...\n",
      "Good Night...\n",
      "-----------------------------------------------------------------\n",
      "Good Morning...\n",
      "Day No. - 3 and Medicine No. - 1...\n",
      "Day No. - 3 and Medicine No. - 2...\n",
      "Day No. - 3 and Medicine No. - 3...\n",
      "Good Night...\n",
      "-----------------------------------------------------------------\n",
      "Good Morning...\n",
      "Day No. - 4 and Medicine No. - 1...\n",
      "Day No. - 4 and Medicine No. - 2...\n",
      "Day No. - 4 and Medicine No. - 3...\n",
      "Good Night...\n",
      "-----------------------------------------------------------------\n",
      "Good Morning...\n",
      "Day No. - 5 and Medicine No. - 1...\n",
      "Day No. - 5 and Medicine No. - 2...\n",
      "Day No. - 5 and Medicine No. - 3...\n",
      "Good Night...\n",
      "-----------------------------------------------------------------\n",
      "Thanks to Doctor...\n",
      "Total number of medicines consumed is 15...\n"
     ]
    }
   ],
   "source": [
    "# nested for loops\n",
    "print (\"Visit Doctor...\")  # 1 time\n",
    "medicount = 0\n",
    "day = 1\n",
    "while (day <= 5):\n",
    "    print (\"Good Morning...\")  # 5 times\n",
    "    medi = 1\n",
    "    while (medi <= 3):\n",
    "        print (f\"Day No. - {day} and Medicine No. - {medi}...\")  # 15 times\n",
    "        medicount = medicount + 1  # 15 times\n",
    "        medi = medi + 1\n",
    "    print (\"Good Night...\")  # 5 times\n",
    "    print (\"-----------------------------------------------------------------\")  # 5 times\n",
    "    day = day + 1\n",
    "print (\"Thanks to Doctor...\")  # 1 time\n",
    "print (f\"Total number of medicines consumed is {medicount}...\")"
   ]
  },
  {
   "cell_type": "code",
   "execution_count": 27,
   "id": "3ee92c8a",
   "metadata": {},
   "outputs": [
    {
     "name": "stdout",
     "output_type": "stream",
     "text": [
      "Visit Doctor...\n",
      "Good Morning...\n",
      "Day No. - 1 and Medicine No. - 1...\n",
      "Day No. - 1 and Medicine No. - 2...\n",
      "Day No. - 1 and Medicine No. - 3...\n",
      "Good Night...\n",
      "-----------------------------------------------------------------\n",
      "Good Morning...\n",
      "Day No. - 2 and Medicine No. - 1...\n",
      "Day No. - 2 and Medicine No. - 2...\n",
      "Day No. - 2 and Medicine No. - 3...\n",
      "Good Night...\n",
      "-----------------------------------------------------------------\n",
      "Good Morning...\n",
      "Day No. - 3 and Medicine No. - 1...\n",
      "Day No. - 3 and Medicine No. - 2...\n",
      "Day No. - 3 and Medicine No. - 3...\n",
      "Good Night...\n",
      "-----------------------------------------------------------------\n",
      "Good Morning...\n",
      "Day No. - 4 and Medicine No. - 1...\n",
      "Day No. - 4 and Medicine No. - 2...\n",
      "Day No. - 4 and Medicine No. - 3...\n",
      "Good Night...\n",
      "-----------------------------------------------------------------\n",
      "Good Morning...\n",
      "Day No. - 5 and Medicine No. - 1...\n",
      "Day No. - 5 and Medicine No. - 2...\n",
      "Day No. - 5 and Medicine No. - 3...\n",
      "Good Night...\n",
      "-----------------------------------------------------------------\n",
      "Thanks to Doctor...\n",
      "Total number of medicines consumed is 15...\n"
     ]
    }
   ],
   "source": [
    "# nested for loops\n",
    "print (\"Visit Doctor...\")  # 1 time\n",
    "medicount = 0\n",
    "day = 1\n",
    "while (day <= 5):\n",
    "    print (\"Good Morning...\")  # 5 times\n",
    "    medi = 1\n",
    "    while (medi <= 3):\n",
    "        print (f\"Day No. - {day} and Medicine No. - {medi}...\")  # 15 times\n",
    "        medicount += 1  # 15 times\n",
    "        medi += 1\n",
    "    print (\"Good Night...\")  # 5 times\n",
    "    print (\"-----------------------------------------------------------------\")  # 5 times\n",
    "    day += 1\n",
    "print (\"Thanks to Doctor...\")  # 1 time\n",
    "print (f\"Total number of medicines consumed is {medicount}...\")"
   ]
  },
  {
   "cell_type": "code",
   "execution_count": 30,
   "id": "a42d4d7e",
   "metadata": {},
   "outputs": [
    {
     "name": "stdout",
     "output_type": "stream",
     "text": [
      "HelloHelloHelloHelloHello\n",
      "Hello Hello Hello Hello Hello \n",
      "Hello Hello Hello Hello Hello Hello Hello Hello \n"
     ]
    }
   ],
   "source": [
    "print (\"Hello\" * 5)\n",
    "print (\"Hello \" * 5)\n",
    "print (\"Hello \" * 8)"
   ]
  },
  {
   "cell_type": "code",
   "execution_count": null,
   "id": "6a878faa",
   "metadata": {},
   "outputs": [],
   "source": [
    "Pattern - 1\n",
    "-----------\n",
    "n = 6           i    .    *\n",
    "             -----------------\n",
    ".....*          1    5    1       (n, i)\n",
    "....***         2    4    3  . => (n - i)\n",
    "...*****        3    3    5\n",
    "..*******       4    2    7  * => (2 * i - 1)\n",
    ".*********      5    1    9\n",
    "***********     6    0   11\n",
    "             -----------------\n",
    "               Tracing Table"
   ]
  },
  {
   "cell_type": "code",
   "execution_count": 32,
   "id": "9ede6b58",
   "metadata": {},
   "outputs": [
    {
     "name": "stdout",
     "output_type": "stream",
     "text": [
      "Please enter the number of layers: 6\n",
      ".....*\n",
      "....***\n",
      "...*****\n",
      "..*******\n",
      ".*********\n",
      "***********\n",
      "End of the pattern printing...\n"
     ]
    }
   ],
   "source": [
    "n = int(input(\"Please enter the number of layers: \"))\n",
    "for i in range(1, n + 1):\n",
    "    print (\".\" * (n - i) + \"*\" * (2 * i - 1))\n",
    "print (\"End of the pattern printing...\")"
   ]
  },
  {
   "cell_type": "code",
   "execution_count": null,
   "id": "1a128c35",
   "metadata": {},
   "outputs": [],
   "source": [
    "Pattern - 2\n",
    "-----------\n",
    "n = 6           i    .    *\n",
    "             -----------------\n",
    "***********     1    0   11       (n, i)\n",
    ".*********      2    1    9  . => (i - 1)\n",
    "..*******       3    2    7\n",
    "...*****        4    3    5  * => (2 * (n - i) + 1)\n",
    "....***         5    4    3\n",
    ".....*          6    5    1\n",
    "             -----------------\n",
    "               Tracing Table"
   ]
  },
  {
   "cell_type": "code",
   "execution_count": 34,
   "id": "acc6f152",
   "metadata": {},
   "outputs": [
    {
     "name": "stdout",
     "output_type": "stream",
     "text": [
      "Please enter the number of layers: 6\n",
      "***********\n",
      ".*********\n",
      "..*******\n",
      "...*****\n",
      "....***\n",
      ".....*\n",
      "End of the pattern printing...\n"
     ]
    }
   ],
   "source": [
    "n = int(input(\"Please enter the number of layers: \"))\n",
    "for i in range(1, n + 1):\n",
    "    print (\".\" * (i - 1) + \"*\" * (2 * (n - i) + 1))\n",
    "print (\"End of the pattern printing...\")"
   ]
  },
  {
   "cell_type": "code",
   "execution_count": null,
   "id": "1581463d",
   "metadata": {},
   "outputs": [],
   "source": [
    "Pattern - 3\n",
    "-----------\n",
    "n = 11 (User given ODD number for layers)  m = (n + 1) // 2 = 6\n",
    "                i    .    *\n",
    "             -----------------\n",
    ".....*          1    5    1       (n, i, m)\n",
    "....***         2    4    3  . => (m - i)\n",
    "...*****        3    3    5\n",
    "..*******       4    2    7  * => (2 * i - 1)\n",
    ".*********      5    1    9\n",
    "***********  ___6____0___11____\n",
    ".*********      7    1    9\n",
    "..*******       8    2    7  . => (i - m)\n",
    "...*****        9    3    5\n",
    "....***        10    4    3  * => (2 * (n - i) + 1)\n",
    ".....*         11    5    1\n",
    "             ---- -------------\n",
    "               Tracing Table"
   ]
  },
  {
   "cell_type": "code",
   "execution_count": 38,
   "id": "94fafce5",
   "metadata": {},
   "outputs": [
    {
     "name": "stdout",
     "output_type": "stream",
     "text": [
      "Please enter the ODD number of layers: 12\n",
      "Please enter the ODD number of layers: 16\n",
      "Please enter the ODD number of layers: 18\n",
      "Please enter the ODD number of layers: 20\n",
      "Please enter the ODD number of layers: 8\n",
      "Please enter the ODD number of layers: 11\n",
      ".....*\n",
      "....***\n",
      "...*****\n",
      "..*******\n",
      ".*********\n",
      "***********\n",
      ".*********\n",
      "..*******\n",
      "...*****\n",
      "....***\n",
      ".....*\n",
      "End of the pattern printing...\n"
     ]
    }
   ],
   "source": [
    "while (True):\n",
    "    n = int(input(\"Please enter the ODD number of layers: \"))\n",
    "    if (n % 2 == 1): break\n",
    "m = (n + 1) // 2\n",
    "for i in range(1, n + 1):\n",
    "    if (i > m): b = (i - m); s = (2 * (n - i) + 1)\n",
    "    else: b = (m - i); s = (2 * i - 1)\n",
    "    print (\".\" * b + \"*\" * s)\n",
    "print (\"End of the pattern printing...\")"
   ]
  },
  {
   "cell_type": "markdown",
   "id": "cd43b35e-af9f-48eb-a313-dff445c7a6e9",
   "metadata": {},
   "source": [
    "### **Day - 3**"
   ]
  },
  {
   "cell_type": "markdown",
   "id": "3d75bd92-f2d8-400d-9bdf-3a3c90281787",
   "metadata": {},
   "source": [
    "### User Defined Function (UDF)"
   ]
  },
  {
   "cell_type": "code",
   "execution_count": 3,
   "id": "9c6aa0ad",
   "metadata": {},
   "outputs": [
    {
     "name": "stdout",
     "output_type": "stream",
     "text": [
      "Hello Hello Hello \n",
      "Hello Hello Hello \n",
      "Hello Hello Hello \n",
      "Hello Hello Hello \n"
     ]
    }
   ],
   "source": [
    "def funct1():\n",
    "    print (\"Hello \" * 3)\n",
    "    \n",
    "funct1()\n",
    "funct1()\n",
    "funct1()\n",
    "funct1()"
   ]
  },
  {
   "cell_type": "code",
   "execution_count": 8,
   "id": "4dfe9cab",
   "metadata": {},
   "outputs": [
    {
     "name": "stdout",
     "output_type": "stream",
     "text": [
      "Hello Hello Hello Hello Hello \n",
      "Hi !!! Hi !!! Hi !!! Hi !!! Hi !!! Hi !!! Hi !!! \n",
      "Good Day Good Day Good Day \n",
      "None\n"
     ]
    }
   ],
   "source": [
    "def funct2(msg, times):   # positional parameters\n",
    "    print (msg * times)\n",
    "    \n",
    "funct2(\"Hello \", 5)       # positional arguments\n",
    "funct2(\"Hi !!! \", 7)\n",
    "result = funct2(\"Good Day \", 3)\n",
    "print (result)"
   ]
  },
  {
   "cell_type": "code",
   "execution_count": 7,
   "id": "a7660c4c",
   "metadata": {},
   "outputs": [
    {
     "name": "stdout",
     "output_type": "stream",
     "text": [
      "Hello Hello Hello Hello Hello  <class 'str'>\n",
      "Welcome Welcome Welcome Welcome \n"
     ]
    }
   ],
   "source": [
    "def funct3(msg, times):\n",
    "    return msg * times\n",
    "\n",
    "result = funct3(\"Hello \", 5)\n",
    "print (result, type(result))\n",
    "print (funct3(\"Welcome \", 4))"
   ]
  },
  {
   "cell_type": "code",
   "execution_count": 13,
   "id": "41d8eb73",
   "metadata": {},
   "outputs": [
    {
     "name": "stdout",
     "output_type": "stream",
     "text": [
      "Hello Hello Hello Hello Hello  <class 'str'>\n",
      "500 <class 'int'>\n",
      "500.0 <class 'float'>\n",
      "5 <class 'int'>\n",
      "0 <class 'int'>\n"
     ]
    }
   ],
   "source": [
    "def funct3(par1, par2):\n",
    "    return par1 * par2\n",
    "\n",
    "result = funct3(\"Hello \", 5)\n",
    "print (result, type(result))\n",
    "result = funct3(100, 5)\n",
    "print (result, type(result))\n",
    "result = funct3(100.0, 5)\n",
    "print (result, type(result))\n",
    "result = funct3(True, 5)\n",
    "print (result, type(result))\n",
    "result = funct3(False, 5)\n",
    "print (result, type(result))"
   ]
  },
  {
   "cell_type": "code",
   "execution_count": 26,
   "id": "63b3cb25",
   "metadata": {},
   "outputs": [
    {
     "name": "stdout",
     "output_type": "stream",
     "text": [
      "par1 = 100, par2 = 200 and par3 = 300...\n",
      "par1 = 100, par2 = 200 and par3 = 333...\n",
      "par1 = 100, par2 = 222 and par3 = 333...\n",
      "par1 = 111, par2 = 222 and par3 = 333...\n",
      "par1 = 100, par2 = 222 and par3 = 300...\n",
      "par1 = 100, par2 = 222 and par3 = 300...\n"
     ]
    }
   ],
   "source": [
    "# function with default arguments\n",
    "def funct4(par1 = 111, par2 = 222, par3 = 333):    # positional parameters\n",
    "    print (f\"par1 = {par1}, par2 = {par2} and par3 = {par3}...\")\n",
    "    \n",
    "funct4(100, 200, 300)    # positional arguments\n",
    "funct4(100, 200)\n",
    "funct4(100)\n",
    "funct4()\n",
    "funct4(par1 = 100, par3 = 300)\n",
    "funct4(par3 = 300, par1 = 100)"
   ]
  },
  {
   "cell_type": "code",
   "execution_count": 28,
   "id": "3e6cc1a8",
   "metadata": {},
   "outputs": [
    {
     "name": "stdout",
     "output_type": "stream",
     "text": [
      "600\n",
      "500\n"
     ]
    }
   ],
   "source": [
    "def funct5(par1, par2 = None):\n",
    "    # if (par2 == None):\n",
    "    if (par2 is None):\n",
    "        return par1 + par1\n",
    "    else:\n",
    "        return par1 + par2\n",
    "    \n",
    "print (funct5(300))\n",
    "print (funct5(200, 300))"
   ]
  },
  {
   "cell_type": "code",
   "execution_count": 32,
   "id": "dc8a9da4",
   "metadata": {},
   "outputs": [
    {
     "name": "stdout",
     "output_type": "stream",
     "text": [
      "Total = 140, Difference = 60, Product = 4000, Quotient = 2.5 and Remainder = 20...\n",
      "(140, 60, 4000, 2.5, 20) 5 <class 'tuple'>\n",
      "Total = 140, Difference = 60, Product = 4000, Quotient = 2.5 and Remainder = 20...\n",
      "Total = 140 and Remainder = 20...\n"
     ]
    }
   ],
   "source": [
    "def funct6(num1, num2):\n",
    "    total = num1 + num2\n",
    "    difference = num1 - num2\n",
    "    product = num1 * num2\n",
    "    quotient = num1 / num2\n",
    "    remainder = num1 % num2\n",
    "    return total, difference, product, quotient, remainder\n",
    "\n",
    "tt, dd, pp, qq, rr = funct6(100, 40)\n",
    "print (f\"Total = {tt}, Difference = {dd}, Product = {pp}, Quotient = {qq} and Remainder = {rr}...\")\n",
    "result = funct6(100, 40)\n",
    "print (result, len(result), type(result))\n",
    "print (f\"Total = {result[0]}, Difference = {result[1]}, Product = {result[2]}, Quotient = {result[3]} and Remainder = {result[4]}...\")\n",
    "print (f\"Total = {result[0]} and Remainder = {result[4]}...\")"
   ]
  },
  {
   "cell_type": "code",
   "execution_count": 33,
   "id": "03bb0283",
   "metadata": {},
   "outputs": [
    {
     "name": "stdout",
     "output_type": "stream",
     "text": [
      "('Amitava', 'Male', 'Developer') 3 <class 'tuple'>\n",
      "('Amitava', 'Male', 'Developer', 'Mexico', 'Accenture') 5 <class 'tuple'>\n",
      "('Amitava', 'Male', 'Developer', 'Mexico', 'Accenture', 'Dot Net') 6 <class 'tuple'>\n"
     ]
    }
   ],
   "source": [
    "# function with variable number of arguments\n",
    "def funct7(*arg):   # *arg means forcefully defining arg is of type tuple object\n",
    "    print (arg, len(arg), type(arg))\n",
    "    \n",
    "funct7(\"Amitava\", \"Male\", \"Developer\")\n",
    "funct7(\"Amitava\", \"Male\", \"Developer\", \"Mexico\", \"Accenture\")\n",
    "funct7(\"Amitava\", \"Male\", \"Developer\", \"Mexico\", \"Accenture\", \"Dot Net\")"
   ]
  },
  {
   "cell_type": "code",
   "execution_count": 34,
   "id": "30864816",
   "metadata": {},
   "outputs": [
    {
     "name": "stdout",
     "output_type": "stream",
     "text": [
      "{'name': 'Amitava', 'gender': 'Male', 'job': 'Developer'} 3 <class 'dict'>\n",
      "{'name': 'Amitava', 'gender': 'Male', 'job': 'Developer', 'location': 'Mexico', 'company': 'Accenture'} 5 <class 'dict'>\n",
      "{'name': 'Amitava', 'gender': 'Male', 'job': 'Developer', 'location': 'Mexico', 'company': 'Accenture', 'technology': 'Dot Net'} 6 <class 'dict'>\n"
     ]
    }
   ],
   "source": [
    "def funct8(**kwarg):   # **kwarg means forcefully defining key-word argument kwarg is of type dictionary object\n",
    "    print (kwarg, len(kwarg), type(kwarg))\n",
    "    \n",
    "funct8(name=\"Amitava\", gender=\"Male\", job=\"Developer\")\n",
    "funct8(name=\"Amitava\", gender=\"Male\", job=\"Developer\", location=\"Mexico\", company=\"Accenture\")\n",
    "funct8(name=\"Amitava\", gender=\"Male\", job=\"Developer\", location=\"Mexico\", company=\"Accenture\", technology=\"Dot Net\") "
   ]
  },
  {
   "cell_type": "code",
   "execution_count": 47,
   "id": "49bdc798",
   "metadata": {},
   "outputs": [
    {
     "name": "stdout",
     "output_type": "stream",
     "text": [
      "('Amitava', 'Male') 2 <class 'tuple'>\n",
      "{'job': 'Developer', 'location': 'Mexico', 'company': 'Accenture', 'technology': 'Dot Net'} 4 <class 'dict'>\n",
      "\n",
      "('Amitava', 'Male') 2 <class 'tuple'>\n",
      "{} 0 <class 'dict'>\n",
      "\n",
      "() 0 <class 'tuple'>\n",
      "{'job': 'Developer', 'location': 'Mexico', 'company': 'Accenture', 'technology': 'Dot Net'} 4 <class 'dict'>\n",
      "<class 'function'>\n"
     ]
    }
   ],
   "source": [
    "def funct9(*arg, **kwarg):\n",
    "    print (arg, len(arg), type(arg))\n",
    "    print (kwarg, len(kwarg), type(kwarg))\n",
    "    \n",
    "funct9(\"Amitava\", \"Male\", job=\"Developer\", location=\"Mexico\", company=\"Accenture\", technology=\"Dot Net\")\n",
    "print()\n",
    "funct9(\"Amitava\", \"Male\")\n",
    "print ()\n",
    "funct9(job=\"Developer\", location=\"Mexico\", company=\"Accenture\", technology=\"Dot Net\")\n",
    "print (type(funct9))"
   ]
  },
  {
   "cell_type": "code",
   "execution_count": 41,
   "id": "b0351f7d",
   "metadata": {},
   "outputs": [
    {
     "name": "stdout",
     "output_type": "stream",
     "text": [
      "So factorial of 5 is 120...\n",
      "So factorial of 6 is 720...\n"
     ]
    }
   ],
   "source": [
    "# non-recursive or iterative factorial calculation function\n",
    "# 5! = 1 * 2 * 3 * 4 * 5 = 5 * 4 * 3 * 2 * 1 = 120\n",
    "def factorial_nr(num):\n",
    "    if (num == 0 or num == 1): return 1\n",
    "    fact = 1\n",
    "    for i in range(1, num + 1):\n",
    "        fact = fact * i\n",
    "    return fact\n",
    "\n",
    "num = 5\n",
    "result = factorial_nr(num)\n",
    "print (f\"So factorial of {num} is {result}...\")\n",
    "num = 6\n",
    "result = factorial_nr(num)\n",
    "print (f\"So factorial of {num} is {result}...\")"
   ]
  },
  {
   "cell_type": "code",
   "execution_count": 43,
   "id": "f9c6876c-fff4-45b2-b43f-b87f20c197ba",
   "metadata": {},
   "outputs": [
    {
     "name": "stdout",
     "output_type": "stream",
     "text": [
      "So factorial of 5 is 120...\n",
      "So factorial of 6 is 720...\n"
     ]
    }
   ],
   "source": [
    "# recursive factorial calculation function\n",
    "# 5! = 1 * 2 * 3 * 4 * 5 = 5 * 4 * 3 * 2 * 1 = 120\n",
    "def factorial_r(num):\n",
    "    if (num == 0 or num == 1): return 1    # base case, means for some input conditions outputs are pre-known to us\n",
    "    return num * factorial_r(num - 1)      # recursive case, the function will call itself\n",
    "\n",
    "num = 5\n",
    "result = factorial_r(num)\n",
    "print (f\"So factorial of {num} is {result}...\")\n",
    "num = 6\n",
    "result = factorial_r(num)\n",
    "print (f\"So factorial of {num} is {result}...\")"
   ]
  },
  {
   "cell_type": "code",
   "execution_count": null,
   "id": "e3fa894e-23ae-4773-b8ca-0c5e6095fc27",
   "metadata": {},
   "outputs": [],
   "source": [
    "5! = 5 * 4!\n",
    "         4 * 3!\n",
    "             3 * 2!\n",
    "                 2 * 1!\n",
    "                     1\n",
    "                 2\n",
    "             6\n",
    "         24\n",
    "     120"
   ]
  },
  {
   "cell_type": "markdown",
   "id": "6df484fa-002b-47aa-b551-482bd4ce609b",
   "metadata": {},
   "source": [
    "### Lambda Function"
   ]
  },
  {
   "cell_type": "code",
   "execution_count": 48,
   "id": "4e21cf1d-8cae-4bec-a461-3f87432e39f5",
   "metadata": {},
   "outputs": [
    {
     "name": "stdout",
     "output_type": "stream",
     "text": [
      "<class 'function'>\n",
      "500\n",
      "5000\n"
     ]
    }
   ],
   "source": [
    "my_add = lambda num1, num2: num1 + num2\n",
    "print (type(my_add))\n",
    "print (my_add(100, 400))\n",
    "print (my_add(1000, 4000))"
   ]
  },
  {
   "cell_type": "code",
   "execution_count": 49,
   "id": "e60d018a-62b7-4842-882d-c6f476ec329f",
   "metadata": {},
   "outputs": [
    {
     "name": "stdout",
     "output_type": "stream",
     "text": [
      "So the factorial of 5 is 120...\n"
     ]
    }
   ],
   "source": [
    "# recursive lambda function\n",
    "my_fact = lambda num: 1 if (num == 0 or num == 1) else num * my_fact(num - 1)\n",
    "\n",
    "num = 5\n",
    "result = my_fact(num)\n",
    "print (f\"So the factorial of {num} is {result}...\")"
   ]
  },
  {
   "cell_type": "markdown",
   "id": "e05f6ee7-e72e-4f45-9489-42369ee27e1b",
   "metadata": {},
   "source": [
    "### **Day - 4**"
   ]
  },
  {
   "cell_type": "markdown",
   "id": "b300ee6e-fc9d-448e-b01f-5a0055b71e30",
   "metadata": {},
   "source": [
    "## String Processing"
   ]
  },
  {
   "cell_type": "code",
   "execution_count": null,
   "id": "a86ecdc3-23b8-4a20-a6e5-c24de4d3046b",
   "metadata": {},
   "outputs": [],
   "source": [
    "index left to right ->  0   1   2   3   4   5   6   7   8   9\n",
    "               mystr =  u   n   i   v   e   r   s   i   t   y\n",
    "index right to left ->-10  -9  -8  -7  -6  -5  -4  -3  -2  -1 "
   ]
  },
  {
   "cell_type": "code",
   "execution_count": 4,
   "id": "0b58546a-f7c6-441e-84c8-d3b93d27678f",
   "metadata": {},
   "outputs": [
    {
     "name": "stdout",
     "output_type": "stream",
     "text": [
      "university 10 <class 'str'> 2302192068080\n",
      "v v i i r r\n",
      "niversi niversi niversi niversi ytisrevinu\n"
     ]
    }
   ],
   "source": [
    "mystr = \"university\"\n",
    "print (mystr, len(mystr), type(mystr), id(mystr))\n",
    "print (mystr[3], mystr[-7], mystr[7], mystr[-3], mystr[5], mystr[-5]) # indexing\n",
    "print (mystr[1:8], mystr[-9:-2], mystr[1:-2], mystr[-9:8], mystr[::-1]) # slicing or sub-string retrieval"
   ]
  },
  {
   "cell_type": "code",
   "execution_count": 5,
   "id": "4e845897-10e3-4241-bb7e-ec6c0df818d6",
   "metadata": {},
   "outputs": [
    {
     "name": "stdout",
     "output_type": "stream",
     "text": [
      "caLCuTTa unIVerSitY 19 <class 'str'> 2302191889152\n",
      "CALCUTTA UNIVERSITY\n",
      "calcutta university\n",
      "Calcutta University\n",
      "Calcutta university\n",
      "CAlcUttA UNivERsITy\n",
      "          caLCuTTa unIVerSitY           \n",
      "               CALCUTTA UNIVERSITY                \n"
     ]
    }
   ],
   "source": [
    "mystr = \"caLCuTTa unIVerSitY\"\n",
    "print (mystr, len(mystr), type(mystr), id(mystr))\n",
    "print (mystr.upper())\n",
    "print (mystr.lower())\n",
    "print (mystr.title())\n",
    "print (mystr.capitalize())\n",
    "print (mystr.swapcase())\n",
    "print (mystr.center(40))\n",
    "print (mystr.upper().center(50))"
   ]
  },
  {
   "cell_type": "code",
   "execution_count": 11,
   "id": "20d87f6e-2862-457a-808e-6459606a0e3b",
   "metadata": {},
   "outputs": [
    {
     "name": "stdout",
     "output_type": "stream",
     "text": [
      "4 4 11 -1\n",
      "4 4 11\n"
     ]
    },
    {
     "ename": "ValueError",
     "evalue": "substring not found",
     "output_type": "error",
     "traceback": [
      "\u001b[1;31m---------------------------------------------------------------------------\u001b[0m",
      "\u001b[1;31mValueError\u001b[0m                                Traceback (most recent call last)",
      "Cell \u001b[1;32mIn[11], line 5\u001b[0m\n\u001b[0;32m      2\u001b[0m \u001b[38;5;28mprint\u001b[39m (mystr\u001b[38;5;241m.\u001b[39mfind(\u001b[38;5;124m\"\u001b[39m\u001b[38;5;124mity\u001b[39m\u001b[38;5;124m\"\u001b[39m), mystr\u001b[38;5;241m.\u001b[39mfind(\u001b[38;5;124m\"\u001b[39m\u001b[38;5;124mi\u001b[39m\u001b[38;5;124m\"\u001b[39m, \u001b[38;5;241m3\u001b[39m), mystr\u001b[38;5;241m.\u001b[39mfind(\u001b[38;5;124m\"\u001b[39m\u001b[38;5;124mi\u001b[39m\u001b[38;5;124m\"\u001b[39m, \u001b[38;5;241m5\u001b[39m), mystr\u001b[38;5;241m.\u001b[39mfind(\u001b[38;5;124m\"\u001b[39m\u001b[38;5;124mins\u001b[39m\u001b[38;5;124m\"\u001b[39m, \u001b[38;5;241m11\u001b[39m, \u001b[38;5;241m13\u001b[39m))\n\u001b[0;32m      4\u001b[0m \u001b[38;5;28mprint\u001b[39m (mystr\u001b[38;5;241m.\u001b[39mindex(\u001b[38;5;124m\"\u001b[39m\u001b[38;5;124mity\u001b[39m\u001b[38;5;124m\"\u001b[39m), mystr\u001b[38;5;241m.\u001b[39mindex(\u001b[38;5;124m\"\u001b[39m\u001b[38;5;124mi\u001b[39m\u001b[38;5;124m\"\u001b[39m, \u001b[38;5;241m3\u001b[39m), mystr\u001b[38;5;241m.\u001b[39mindex(\u001b[38;5;124m\"\u001b[39m\u001b[38;5;124mi\u001b[39m\u001b[38;5;124m\"\u001b[39m, \u001b[38;5;241m5\u001b[39m))\n\u001b[1;32m----> 5\u001b[0m \u001b[38;5;28mprint\u001b[39m (\u001b[43mmystr\u001b[49m\u001b[38;5;241;43m.\u001b[39;49m\u001b[43mindex\u001b[49m\u001b[43m(\u001b[49m\u001b[38;5;124;43m\"\u001b[39;49m\u001b[38;5;124;43mins\u001b[39;49m\u001b[38;5;124;43m\"\u001b[39;49m\u001b[43m,\u001b[49m\u001b[43m \u001b[49m\u001b[38;5;241;43m11\u001b[39;49m\u001b[43m,\u001b[49m\u001b[43m \u001b[49m\u001b[38;5;241;43m13\u001b[39;49m\u001b[43m)\u001b[49m)\n",
      "\u001b[1;31mValueError\u001b[0m: substring not found"
     ]
    }
   ],
   "source": [
    "mystr = \"charity begins at home\"\n",
    "print (mystr.find(\"ity\"), mystr.find(\"i\", 3), mystr.find(\"i\", 5), mystr.find(\"ins\", 11, 13))\n",
    "\n",
    "print (mystr.index(\"ity\"), mystr.index(\"i\", 3), mystr.index(\"i\", 5))\n",
    "print (mystr.index(\"ins\", 11, 13))"
   ]
  },
  {
   "cell_type": "code",
   "execution_count": 12,
   "id": "1e674da2-5492-468b-8c0a-ab09bdd10adf",
   "metadata": {},
   "outputs": [
    {
     "name": "stdout",
     "output_type": "stream",
     "text": [
      "4 4 11\n",
      "Unsuccessful searching has taken place...\n",
      "End of the program...\n"
     ]
    }
   ],
   "source": [
    "try:\n",
    "    mystr = \"charity begins at home\"\n",
    "    print (mystr.index(\"ity\"), mystr.index(\"i\", 3), mystr.index(\"i\", 5))\n",
    "    print (mystr.index(\"ins\", 11, 13))\n",
    "except ValueError as ve:\n",
    "    print (\"Unsuccessful searching has taken place...\")\n",
    "print (\"End of the program...\")"
   ]
  },
  {
   "cell_type": "code",
   "execution_count": 13,
   "id": "24f8a509-e09f-43a3-9088-25b9db1520d2",
   "metadata": {},
   "outputs": [
    {
     "name": "stdout",
     "output_type": "stream",
     "text": [
      "    calcutta    university      31 <class 'str'> 2302121914928\n",
      "calcutta    university 22 calcutta    university      27     calcutta    university 26\n",
      "calcutta    university calcutta    university      27\n"
     ]
    }
   ],
   "source": [
    "mystr = \"    calcutta    university     \"\n",
    "print (mystr, len(mystr), type(mystr), id(mystr))\n",
    "print (mystr.strip(), len(mystr.strip()), mystr.lstrip(), len(mystr.lstrip()), mystr.rstrip(),\n",
    "       len(mystr.rstrip()))\n",
    "print (mystr.strip(\" \"), mystr.lstrip(\" \"), len(mystr.lstrip(\" \")))"
   ]
  },
  {
   "cell_type": "code",
   "execution_count": 14,
   "id": "31de8051-f3b5-429c-a404-d744e4c2f31f",
   "metadata": {},
   "outputs": [
    {
     "name": "stdout",
     "output_type": "stream",
     "text": [
      "calcutta#@#@university 22 calcutta#@#@university#@@@# ##@@calcutta#@#@university 26\n"
     ]
    }
   ],
   "source": [
    "mystr = \"##@@calcutta#@#@university#@@@#\"\n",
    "print (mystr.strip(\"@#\"), len(mystr.strip(\"@#\")), mystr.lstrip(\"@#\"), mystr.rstrip(\"@#\"),\n",
    "       len(mystr.rstrip(\"@#\")))"
   ]
  },
  {
   "cell_type": "code",
   "execution_count": 15,
   "id": "ea61ac5a-baab-4afe-b254-6ec13a79d46d",
   "metadata": {},
   "outputs": [
    {
     "name": "stdout",
     "output_type": "stream",
     "text": [
      "True False True True\n",
      "True False True\n"
     ]
    }
   ],
   "source": [
    "mystr = \"charity begins at home\"\n",
    "print (mystr.startswith(\"cha\"), mystr.startswith(\"beg\"), mystr.startswith(\"beg\", 8),\n",
    "       mystr.startswith(\"beg\", 8, 20))\n",
    "print (mystr.endswith(\"ome\"), mystr.endswith(\"gins\"), mystr.endswith(\"gins\", 0, 14))"
   ]
  },
  {
   "cell_type": "code",
   "execution_count": 19,
   "id": "628d54db-2849-442d-a53b-7edf09704cbc",
   "metadata": {},
   "outputs": [
    {
     "name": "stdout",
     "output_type": "stream",
     "text": [
      "u\n",
      "n\n",
      "i\n",
      "v\n",
      "e\n",
      "r\n",
      "s\n",
      "i\n",
      "t\n",
      "y\n"
     ]
    }
   ],
   "source": [
    "mystr = \"university\"    # Reading character by character from a string\n",
    "for ch in mystr:\n",
    "    print (ch)"
   ]
  },
  {
   "cell_type": "code",
   "execution_count": 20,
   "id": "dcb382f1-9ed8-43af-bee7-315a03b3c3ea",
   "metadata": {},
   "outputs": [
    {
     "name": "stdout",
     "output_type": "stream",
     "text": [
      "u\n",
      "n\n",
      "i\n",
      "v\n",
      "e\n",
      "r\n",
      "s\n",
      "i\n",
      "t\n",
      "y\n"
     ]
    }
   ],
   "source": [
    "mystr = \"university\"    # Reading character by character from a string\n",
    "for i in range(len(mystr)):\n",
    "    print (mystr[i])"
   ]
  },
  {
   "cell_type": "code",
   "execution_count": 21,
   "id": "fd316e97-6ec1-4ec0-888a-39777b087e0b",
   "metadata": {},
   "outputs": [
    {
     "name": "stdout",
     "output_type": "stream",
     "text": [
      "charity begins at home 22 <class 'str'> 2302191894032\n",
      "['charity', 'begins', 'at', 'home']\n",
      "['charity', 'begins', 'at', 'home']\n",
      "['char', 'ty beg', 'ns at home']\n"
     ]
    }
   ],
   "source": [
    "mystr = \"charity begins at home\"\n",
    "print (mystr, len(mystr), type(mystr), id(mystr))\n",
    "list1 = mystr.split()\n",
    "print (list1)\n",
    "list1 = mystr.split(\" \")\n",
    "print (list1)\n",
    "list1 = mystr.split(\"i\")\n",
    "print (list1)"
   ]
  },
  {
   "cell_type": "code",
   "execution_count": 23,
   "id": "1ccfe2ec-2b8a-40fc-8fa6-00034fac4470",
   "metadata": {},
   "outputs": [
    {
     "name": "stdin",
     "output_type": "stream",
     "text": [
      "Enter your all numbers:  11 33 22 55 44 77 66\n"
     ]
    },
    {
     "name": "stdout",
     "output_type": "stream",
     "text": [
      "[11, 33, 22, 55, 44, 77, 66]\n"
     ]
    }
   ],
   "source": [
    "list_num = [int(x) for x in input(\"Enter your all numbers: \").split()]\n",
    "print (list_num)"
   ]
  },
  {
   "cell_type": "code",
   "execution_count": 26,
   "id": "663030a5-214b-4099-8de9-67ab7abc93d0",
   "metadata": {},
   "outputs": [
    {
     "name": "stdout",
     "output_type": "stream",
     "text": [
      "['charity', 'begins', 'at', 'home'] 4 <class 'list'> 2302224131840\n",
      "charity begins at home\n",
      "charity - begins - at - home\n",
      "charity, begins, at, home\n"
     ]
    }
   ],
   "source": [
    "list1 = ['charity', 'begins', 'at', 'home']\n",
    "print (list1, len(list1), type(list1), id(list1))\n",
    "mystr = \" \".join(list1)\n",
    "print (mystr)\n",
    "mystr = \" - \".join(list1)\n",
    "print (mystr)\n",
    "mystr = \", \".join(list1)\n",
    "print (mystr)"
   ]
  },
  {
   "cell_type": "code",
   "execution_count": 29,
   "id": "1653a55b-1993-4d58-a5e0-033a241d73b6",
   "metadata": {},
   "outputs": [
    {
     "name": "stdout",
     "output_type": "stream",
     "text": [
      "True True False False False\n",
      "False True True True True\n",
      "False True False False False\n",
      "False True False False False\n",
      "False False False False False\n"
     ]
    }
   ],
   "source": [
    "mystr = \"university\"\n",
    "print (mystr.isalpha(), mystr.isalnum(), mystr.isnumeric(), mystr.isdigit(), mystr.isdecimal())\n",
    "mystr = \"1234\"\n",
    "print (mystr.isalpha(), mystr.isalnum(), mystr.isnumeric(), mystr.isdigit(), mystr.isdecimal())\n",
    "mystr = \"0xab\"\n",
    "print (mystr.isalpha(), mystr.isalnum(), mystr.isnumeric(), mystr.isdigit(), mystr.isdecimal())\n",
    "mystr = \"university1234\"\n",
    "print (mystr.isalpha(), mystr.isalnum(), mystr.isnumeric(), mystr.isdigit(), mystr.isdecimal())\n",
    "mystr = \"university@1234\"\n",
    "print (mystr.isalpha(), mystr.isalnum(), mystr.isnumeric(), mystr.isdigit(), mystr.isdecimal())"
   ]
  },
  {
   "cell_type": "code",
   "execution_count": 32,
   "id": "b3647038-2359-4eda-9f2a-8362776ace18",
   "metadata": {},
   "outputs": [
    {
     "name": "stdout",
     "output_type": "stream",
     "text": [
      "2 1 0\n",
      "unxversxty\n",
      "university\n",
      "unxyzversxyzty\n"
     ]
    }
   ],
   "source": [
    "mystr = \"university\"\n",
    "print (mystr.count(\"i\"), mystr.count(\"v\"), mystr.count(\"I\"))\n",
    "print (mystr.replace(\"i\", \"x\"))\n",
    "print (mystr)\n",
    "mystr = mystr.replace(\"i\", \"xyz\")\n",
    "print (mystr)"
   ]
  },
  {
   "cell_type": "code",
   "execution_count": 33,
   "id": "b891d1e2-1242-43ec-ad57-786d8245e306",
   "metadata": {},
   "outputs": [
    {
     "name": "stdout",
     "output_type": "stream",
     "text": [
      "mississippi <class 'str'>\n",
      "['m', 'i', 's', 's', 'i', 's', 's', 'i', 'p', 'p', 'i']\n",
      "('m', 'i', 's', 's', 'i', 's', 's', 'i', 'p', 'p', 'i')\n",
      "{'p', 'm', 'i', 's'}\n",
      "frozenset({'p', 'm', 'i', 's'})\n"
     ]
    }
   ],
   "source": [
    "mystr = \"mississippi\"\n",
    "print (mystr, type(mystr))\n",
    "print (list(mystr))\n",
    "print (tuple(mystr))\n",
    "print (set(mystr))\n",
    "print (frozenset(mystr))"
   ]
  },
  {
   "cell_type": "markdown",
   "id": "79289bd5-f18d-4e77-8361-68991ab5eaaf",
   "metadata": {},
   "source": [
    "## List Processing"
   ]
  },
  {
   "cell_type": "code",
   "execution_count": 35,
   "id": "20d7b97c-0a83-4112-8141-adafa5c2465d",
   "metadata": {},
   "outputs": [
    {
     "name": "stdout",
     "output_type": "stream",
     "text": [
      "[100, 400, 300, 200, 700] 5 <class 'list'> 2302224984128\n",
      "700 100\n",
      "1700 340.0\n"
     ]
    }
   ],
   "source": [
    "list1 = [100, 400, 300, 200, 700]\n",
    "print (list1, len(list1), type(list1), id(list1))\n",
    "print (max(list1), min(list1))\n",
    "print (sum(list1), sum(list1) / len(list1))"
   ]
  },
  {
   "cell_type": "code",
   "execution_count": 36,
   "id": "586c56d9-5db3-4b8b-a705-1fccfe27af71",
   "metadata": {},
   "outputs": [
    {
     "name": "stdout",
     "output_type": "stream",
     "text": [
      "[100, 400, True, 300, 200, False, 700] 7 <class 'list'> 2302225264256\n",
      "700 False\n",
      "1701 243.0\n"
     ]
    }
   ],
   "source": [
    "list1 = [100, 400, True, 300, 200, False, 700]\n",
    "print (list1, len(list1), type(list1), id(list1))\n",
    "print (max(list1), min(list1))\n",
    "print (sum(list1), sum(list1) / len(list1))"
   ]
  },
  {
   "cell_type": "code",
   "execution_count": 37,
   "id": "d64bae5c-bc51-49be-8b00-02e0a4fc745f",
   "metadata": {},
   "outputs": [
    {
     "name": "stdout",
     "output_type": "stream",
     "text": [
      "['sunday', 'monday', 'friday', 'saturday', 'Tuesday'] 5 <class 'list'> 2302225455424\n",
      "sunday Tuesday\n"
     ]
    },
    {
     "ename": "TypeError",
     "evalue": "unsupported operand type(s) for +: 'int' and 'str'",
     "output_type": "error",
     "traceback": [
      "\u001b[1;31m---------------------------------------------------------------------------\u001b[0m",
      "\u001b[1;31mTypeError\u001b[0m                                 Traceback (most recent call last)",
      "Cell \u001b[1;32mIn[37], line 4\u001b[0m\n\u001b[0;32m      2\u001b[0m \u001b[38;5;28mprint\u001b[39m (list1, \u001b[38;5;28mlen\u001b[39m(list1), \u001b[38;5;28mtype\u001b[39m(list1), \u001b[38;5;28mid\u001b[39m(list1))\n\u001b[0;32m      3\u001b[0m \u001b[38;5;28mprint\u001b[39m (\u001b[38;5;28mmax\u001b[39m(list1), \u001b[38;5;28mmin\u001b[39m(list1))\n\u001b[1;32m----> 4\u001b[0m \u001b[38;5;28mprint\u001b[39m (\u001b[38;5;28;43msum\u001b[39;49m\u001b[43m(\u001b[49m\u001b[43mlist1\u001b[49m\u001b[43m)\u001b[49m, \u001b[38;5;28msum\u001b[39m(list1) \u001b[38;5;241m/\u001b[39m \u001b[38;5;28mlen\u001b[39m(list1))\n",
      "\u001b[1;31mTypeError\u001b[0m: unsupported operand type(s) for +: 'int' and 'str'"
     ]
    }
   ],
   "source": [
    "list1 = [\"sunday\", \"monday\", 'friday', 'saturday', 'Tuesday']\n",
    "print (list1, len(list1), type(list1), id(list1))\n",
    "print (max(list1), min(list1))\n",
    "print (sum(list1), sum(list1) / len(list1))"
   ]
  },
  {
   "cell_type": "code",
   "execution_count": 38,
   "id": "bfe2801f-3669-443a-aee4-2f1f0b3f2a27",
   "metadata": {},
   "outputs": [
    {
     "name": "stdout",
     "output_type": "stream",
     "text": [
      "[100, 400, True, 'Tuesday', 300, 'Wednesday', 200, False, 700] 9 <class 'list'> 2302225908800\n"
     ]
    },
    {
     "ename": "TypeError",
     "evalue": "'>' not supported between instances of 'str' and 'int'",
     "output_type": "error",
     "traceback": [
      "\u001b[1;31m---------------------------------------------------------------------------\u001b[0m",
      "\u001b[1;31mTypeError\u001b[0m                                 Traceback (most recent call last)",
      "Cell \u001b[1;32mIn[38], line 3\u001b[0m\n\u001b[0;32m      1\u001b[0m list1 \u001b[38;5;241m=\u001b[39m [\u001b[38;5;241m100\u001b[39m, \u001b[38;5;241m400\u001b[39m, \u001b[38;5;28;01mTrue\u001b[39;00m, \u001b[38;5;124m\"\u001b[39m\u001b[38;5;124mTuesday\u001b[39m\u001b[38;5;124m\"\u001b[39m, \u001b[38;5;241m300\u001b[39m, \u001b[38;5;124m\"\u001b[39m\u001b[38;5;124mWednesday\u001b[39m\u001b[38;5;124m\"\u001b[39m, \u001b[38;5;241m200\u001b[39m, \u001b[38;5;28;01mFalse\u001b[39;00m, \u001b[38;5;241m700\u001b[39m]\n\u001b[0;32m      2\u001b[0m \u001b[38;5;28mprint\u001b[39m (list1, \u001b[38;5;28mlen\u001b[39m(list1), \u001b[38;5;28mtype\u001b[39m(list1), \u001b[38;5;28mid\u001b[39m(list1))\n\u001b[1;32m----> 3\u001b[0m \u001b[38;5;28mprint\u001b[39m (\u001b[38;5;28;43mmax\u001b[39;49m\u001b[43m(\u001b[49m\u001b[43mlist1\u001b[49m\u001b[43m)\u001b[49m, \u001b[38;5;28mmin\u001b[39m(list1))\n\u001b[0;32m      4\u001b[0m \u001b[38;5;28mprint\u001b[39m (\u001b[38;5;28msum\u001b[39m(list1), \u001b[38;5;28msum\u001b[39m(list1) \u001b[38;5;241m/\u001b[39m \u001b[38;5;28mlen\u001b[39m(list1))\n",
      "\u001b[1;31mTypeError\u001b[0m: '>' not supported between instances of 'str' and 'int'"
     ]
    }
   ],
   "source": [
    "list1 = [100, 400, True, \"Tuesday\", 300, \"Wednesday\", 200, False, 700]\n",
    "print (list1, len(list1), type(list1), id(list1))\n",
    "print (max(list1), min(list1))\n",
    "print (sum(list1), sum(list1) / len(list1))"
   ]
  },
  {
   "cell_type": "code",
   "execution_count": 39,
   "id": "fa5b2047-e501-4832-9bca-4fb1eb066336",
   "metadata": {},
   "outputs": [
    {
     "name": "stdout",
     "output_type": "stream",
     "text": [
      "['Monday', 'Tuesday', 'Wednesday', 'Thursday', 'Friday'] 5 <class 'list'> 2302224600832\n",
      "Wednesday Wednesday Thursday Thursday\n",
      "nes nes\n"
     ]
    }
   ],
   "source": [
    "# Indexing and slicing\n",
    "# L ro R ->  0         1          2            3           4\n",
    "list1 =    [\"Monday\", \"Tuesday\", \"Wednesday\", \"Thursday\", \"Friday\"]\n",
    "# R to L -> -5        -4         -3           -2          -1\n",
    "print (list1, len(list1), type(list1), id(list1))\n",
    "print (list1[2], list1[-3], list1[3], list1[-2])\n",
    "print (list1[2][3:6], list1[-3][-6:-3])"
   ]
  },
  {
   "cell_type": "code",
   "execution_count": 40,
   "id": "11c7e979-6cf7-449d-ac81-998e2e4f4f9c",
   "metadata": {},
   "outputs": [
    {
     "name": "stdout",
     "output_type": "stream",
     "text": [
      "Monday\n",
      "Tuesday\n",
      "Wednesday\n",
      "Thursday\n",
      "Friday\n"
     ]
    }
   ],
   "source": [
    "list1 = [\"Monday\", \"Tuesday\", \"Wednesday\", \"Thursday\", \"Friday\"]\n",
    "for item in list1:\n",
    "    print (item)"
   ]
  },
  {
   "cell_type": "code",
   "execution_count": 42,
   "id": "1f1b0d57-3262-4c44-b2ed-ee74b601a2b8",
   "metadata": {},
   "outputs": [
    {
     "name": "stdout",
     "output_type": "stream",
     "text": [
      "['Monday', 'Tuesday', 'Wednesday', 'Thursday', 'Friday', 'Mango', 'Pineapple', 'Guava', 'Lime']\n",
      "['Monday', 'Tuesday', 'Wednesday', 'Thursday', 'Friday', 'Mango', 'Pineapple', 'Guava', 'Lime']\n",
      "['Mango', 'Pineapple', 'Guava', 'Lime']\n"
     ]
    }
   ],
   "source": [
    "list1 = [\"Monday\", \"Tuesday\", \"Wednesday\", \"Thursday\", \"Friday\"]\n",
    "list2 = [\"Mango\", \"Pineapple\", \"Guava\", \"Lime\"]\n",
    "list3 = list1 + list2    # list concatenation\n",
    "print (list3)\n",
    "list1.extend(list2)      # list concatenation\n",
    "print (list1)\n",
    "print (list2)"
   ]
  },
  {
   "cell_type": "code",
   "execution_count": 43,
   "id": "ad9303fa-6d50-43e5-bf72-f0b028930733",
   "metadata": {},
   "outputs": [
    {
     "name": "stdout",
     "output_type": "stream",
     "text": [
      "[['Monday', 'Tuesday', 'Wednesday', 'Thursday', 'Friday'], ['Mango', 'Pineapple', 'Guava', 'Lime']]\n",
      "5 4\n",
      "['Pineapple', 'Guava'] ['Wednesday', 'Thursday'] nes\n"
     ]
    }
   ],
   "source": [
    "list1 = [\"Monday\", \"Tuesday\", \"Wednesday\", \"Thursday\", \"Friday\"]\n",
    "list2 = [\"Mango\", \"Pineapple\", \"Guava\", \"Lime\"]\n",
    "list3 = [list1, list2]      # list of lists\n",
    "print (list3)\n",
    "print (len(list3[0]), len(list3[1]))\n",
    "print (list3[1][1:3], list3[0][2:4], list3[0][2][3:6])"
   ]
  },
  {
   "cell_type": "code",
   "execution_count": 44,
   "id": "6799124f-4db4-4895-b6df-2bb329a7ce16",
   "metadata": {},
   "outputs": [
    {
     "name": "stdout",
     "output_type": "stream",
     "text": [
      "['Mango', 'Pineapple', 'Coconut', 'Banana', 'Lime'] 5\n",
      "['Mango', 'Pineapple', 'Coconut', 'Banana', 'Lime', 'Guava'] 6\n",
      "['Mango', 'Pineapple', 'Coconut', 'Banana', 'Lime', 'Guava', 'Apple'] 7\n",
      "['Mango', 'Pineapple', 'Coconut', 'Banana', 'Lime', 'Guava', 'Apple', 'Lemon'] 8\n",
      "['Mango', 'Pineapple', 'Coconut', 'Banana', 'Lime', 'Guava', 'Apple', 'Lemon', 'Carrot'] 9\n"
     ]
    }
   ],
   "source": [
    "# insert operation on list\n",
    "list1 = ['Mango', 'Pineapple', 'Coconut', 'Banana', 'Lime']\n",
    "print (list1, len(list1))\n",
    "list1.append(\"Guava\")\n",
    "print (list1, len(list1))\n",
    "list1.append(\"Apple\")\n",
    "print (list1, len(list1))\n",
    "list1.append(\"Lemon\")\n",
    "print (list1, len(list1))\n",
    "list1.append(\"Carrot\")\n",
    "print (list1, len(list1))"
   ]
  },
  {
   "cell_type": "code",
   "execution_count": 46,
   "id": "204c5650-718c-47df-b8c4-288cfa943441",
   "metadata": {},
   "outputs": [
    {
     "name": "stdout",
     "output_type": "stream",
     "text": [
      "['Mango', 'Pineapple', 'Coconut', 'Banana', 'Lime'] 5\n",
      "['Mango', 'Guava', 'Pineapple', 'Coconut', 'Banana', 'Lime'] 6\n",
      "['Mango', 'Guava', 'Pineapple', 'Apple', 'Coconut', 'Banana', 'Lime'] 7\n",
      "['Mango', 'Guava', 'Lemon', 'Pineapple', 'Apple', 'Coconut', 'Banana', 'Lime'] 8\n"
     ]
    }
   ],
   "source": [
    "list1 = ['Mango', 'Pineapple', 'Coconut', 'Banana', 'Lime']\n",
    "print (list1, len(list1))\n",
    "list1.insert(1, \"Guava\")\n",
    "print (list1, len(list1))\n",
    "list1.insert(3, \"Apple\")\n",
    "print (list1, len(list1))\n",
    "list1.insert(2, \"Lemon\")\n",
    "print (list1, len(list1))"
   ]
  },
  {
   "cell_type": "code",
   "execution_count": 48,
   "id": "bd24ea01-1f52-4b1f-8f8c-4969366a9ce9",
   "metadata": {},
   "outputs": [
    {
     "name": "stdout",
     "output_type": "stream",
     "text": [
      "['Mango', 'Pineapple', 'Coconut', 'Banana', 'Lime'] 5\n",
      "['Himsagar', 'Pineapple', 'Coconut', 'Banana', 'Lime'] 5\n",
      "['Himsagar', 'Pineapple', 'Coconut', 'Banana', 'Lemon'] 5\n"
     ]
    }
   ],
   "source": [
    "list1 = ['Mango', 'Pineapple', 'Coconut', 'Banana', 'Lime']\n",
    "print (list1, len(list1))\n",
    "# update operation on list\n",
    "list1[0] = \"Himsagar\"\n",
    "print (list1, len(list1))\n",
    "list1[4] = \"Lemon\"\n",
    "print (list1, len(list1))"
   ]
  },
  {
   "cell_type": "code",
   "execution_count": 55,
   "id": "b0fef06d-6b4b-4eca-be0e-6049a8a5c54f",
   "metadata": {},
   "outputs": [
    {
     "name": "stdout",
     "output_type": "stream",
     "text": [
      "['Mango', 'Guava', 'Lemon', 'Pineapple', 'Apple', 'Coconut', 'Banana', 'Lime'] 8\n",
      "['Mango', 'Guava', 'Lemon', 'Apple', 'Coconut', 'Banana', 'Lime'] 7\n",
      "['Mango', 'Guava', 'Apple', 'Coconut', 'Banana', 'Lime'] 6\n",
      "['Mango', 'Guava', 'Coconut', 'Banana', 'Lime'] 5\n",
      "['Mango', 'Guava', 'Coconut', 'Lime'] 4\n"
     ]
    },
    {
     "ename": "ValueError",
     "evalue": "list.remove(x): x not in list",
     "output_type": "error",
     "traceback": [
      "\u001b[1;31m---------------------------------------------------------------------------\u001b[0m",
      "\u001b[1;31mValueError\u001b[0m                                Traceback (most recent call last)",
      "Cell \u001b[1;32mIn[55], line 12\u001b[0m\n\u001b[0;32m     10\u001b[0m list1\u001b[38;5;241m.\u001b[39mremove(\u001b[38;5;124m\"\u001b[39m\u001b[38;5;124mBanana\u001b[39m\u001b[38;5;124m\"\u001b[39m)\n\u001b[0;32m     11\u001b[0m \u001b[38;5;28mprint\u001b[39m (list1, \u001b[38;5;28mlen\u001b[39m(list1))\n\u001b[1;32m---> 12\u001b[0m \u001b[43mlist1\u001b[49m\u001b[38;5;241;43m.\u001b[39;49m\u001b[43mremove\u001b[49m\u001b[43m(\u001b[49m\u001b[38;5;124;43m\"\u001b[39;49m\u001b[38;5;124;43mBanana\u001b[39;49m\u001b[38;5;124;43m\"\u001b[39;49m\u001b[43m)\u001b[49m\n\u001b[0;32m     13\u001b[0m \u001b[38;5;28mprint\u001b[39m (list1, \u001b[38;5;28mlen\u001b[39m(list1))\n",
      "\u001b[1;31mValueError\u001b[0m: list.remove(x): x not in list"
     ]
    }
   ],
   "source": [
    "# deletion operation on list\n",
    "list1 = ['Mango', 'Guava', 'Lemon', 'Pineapple', 'Apple', 'Coconut', 'Banana', 'Lime']\n",
    "print (list1, len(list1))\n",
    "list1.remove(\"Pineapple\")\n",
    "print (list1, len(list1))\n",
    "list1.remove(\"Lemon\")\n",
    "print (list1, len(list1))\n",
    "list1.remove(\"Apple\")\n",
    "print (list1, len(list1))\n",
    "list1.remove(\"Banana\")\n",
    "print (list1, len(list1))\n",
    "list1.remove(\"Banana\")\n",
    "print (list1, len(list1))"
   ]
  },
  {
   "cell_type": "code",
   "execution_count": 50,
   "id": "67592ab1-3295-41f3-bee4-5a17287be9b8",
   "metadata": {},
   "outputs": [
    {
     "name": "stdout",
     "output_type": "stream",
     "text": [
      "['Mango', 'Guava', 'Lemon', 'Pineapple', 'Apple', 'Coconut', 'Banana', 'Lime'] 8\n",
      "Lime\n",
      "['Mango', 'Guava', 'Lemon', 'Pineapple', 'Apple', 'Coconut', 'Banana'] 7\n",
      "Banana\n",
      "['Mango', 'Guava', 'Lemon', 'Pineapple', 'Apple', 'Coconut'] 6\n",
      "Coconut\n",
      "['Mango', 'Guava', 'Lemon', 'Pineapple', 'Apple'] 5\n",
      "Apple\n",
      "['Mango', 'Guava', 'Lemon', 'Pineapple'] 4\n"
     ]
    }
   ],
   "source": [
    "list1 = ['Mango', 'Guava', 'Lemon', 'Pineapple', 'Apple', 'Coconut', 'Banana', 'Lime']\n",
    "print (list1, len(list1))\n",
    "print (list1.pop())\n",
    "print (list1, len(list1))\n",
    "print (list1.pop())\n",
    "print (list1, len(list1))\n",
    "print (list1.pop())\n",
    "print (list1, len(list1))\n",
    "print (list1.pop())\n",
    "print (list1, len(list1))"
   ]
  },
  {
   "cell_type": "code",
   "execution_count": 51,
   "id": "19708f80-dada-40a0-a0da-1015a55955a4",
   "metadata": {},
   "outputs": [
    {
     "name": "stdout",
     "output_type": "stream",
     "text": [
      "['Mango', 'Guava', 'Lemon', 'Pineapple', 'Apple', 'Coconut', 'Banana', 'Lime'] 8\n",
      "Lemon\n",
      "['Mango', 'Guava', 'Pineapple', 'Apple', 'Coconut', 'Banana', 'Lime'] 7\n",
      "Guava\n",
      "['Mango', 'Pineapple', 'Apple', 'Coconut', 'Banana', 'Lime'] 6\n",
      "Coconut\n",
      "['Mango', 'Pineapple', 'Apple', 'Banana', 'Lime'] 5\n",
      "Mango\n",
      "['Pineapple', 'Apple', 'Banana', 'Lime'] 4\n"
     ]
    }
   ],
   "source": [
    "list1 = ['Mango', 'Guava', 'Lemon', 'Pineapple', 'Apple', 'Coconut', 'Banana', 'Lime']\n",
    "print (list1, len(list1))\n",
    "print (list1.pop(2))\n",
    "print (list1, len(list1))\n",
    "print (list1.pop(1))\n",
    "print (list1, len(list1))\n",
    "print (list1.pop(3))\n",
    "print (list1, len(list1))\n",
    "print (list1.pop(0))\n",
    "print (list1, len(list1))"
   ]
  },
  {
   "cell_type": "code",
   "execution_count": 52,
   "id": "3ba07881-dd75-4c2d-baab-d1c2aded430a",
   "metadata": {},
   "outputs": [
    {
     "name": "stdout",
     "output_type": "stream",
     "text": [
      "['Mango', 'Guava', 'Lemon', 'Pineapple', 'Apple', 'Coconut', 'Banana', 'Lime'] 8\n",
      "[] 0\n"
     ]
    }
   ],
   "source": [
    "list1 = ['Mango', 'Guava', 'Lemon', 'Pineapple', 'Apple', 'Coconut', 'Banana', 'Lime']\n",
    "print (list1, len(list1))\n",
    "list1.clear()\n",
    "print (list1, len(list1))"
   ]
  },
  {
   "cell_type": "code",
   "execution_count": 53,
   "id": "b8e1bbfd-305f-4ad7-a75d-8df45a87143c",
   "metadata": {},
   "outputs": [
    {
     "name": "stdout",
     "output_type": "stream",
     "text": [
      "['Mango', 'Guava', 'Lemon', 'Pineapple', 'Apple', 'Coconut', 'Banana', 'Lime'] 8\n",
      "['Mango', 'Guava', 'Pineapple', 'Apple', 'Coconut', 'Banana', 'Lime'] 7\n",
      "['Mango', 'Pineapple', 'Apple', 'Coconut', 'Banana', 'Lime'] 6\n",
      "['Mango', 'Pineapple', 'Apple', 'Banana', 'Lime'] 5\n",
      "['Pineapple', 'Apple', 'Banana', 'Lime'] 4\n"
     ]
    }
   ],
   "source": [
    "list1 = ['Mango', 'Guava', 'Lemon', 'Pineapple', 'Apple', 'Coconut', 'Banana', 'Lime']\n",
    "print (list1, len(list1))\n",
    "del list1[2]\n",
    "print (list1, len(list1))\n",
    "del list1[1]\n",
    "print (list1, len(list1))\n",
    "del list1[3]\n",
    "print (list1, len(list1))\n",
    "del list1[0]\n",
    "print (list1, len(list1))"
   ]
  },
  {
   "cell_type": "code",
   "execution_count": 54,
   "id": "72164f7b-f1c2-4eb0-bb97-0032ff3f6fbc",
   "metadata": {},
   "outputs": [
    {
     "name": "stdout",
     "output_type": "stream",
     "text": [
      "['Mango', 'Guava', 'Lemon', 'Pineapple', 'Apple', 'Coconut', 'Banana', 'Lime'] 8\n"
     ]
    },
    {
     "ename": "NameError",
     "evalue": "name 'list1' is not defined",
     "output_type": "error",
     "traceback": [
      "\u001b[1;31m---------------------------------------------------------------------------\u001b[0m",
      "\u001b[1;31mNameError\u001b[0m                                 Traceback (most recent call last)",
      "Cell \u001b[1;32mIn[54], line 4\u001b[0m\n\u001b[0;32m      2\u001b[0m \u001b[38;5;28mprint\u001b[39m (list1, \u001b[38;5;28mlen\u001b[39m(list1))\n\u001b[0;32m      3\u001b[0m \u001b[38;5;28;01mdel\u001b[39;00m list1\n\u001b[1;32m----> 4\u001b[0m \u001b[38;5;28mprint\u001b[39m (\u001b[43mlist1\u001b[49m, \u001b[38;5;28mlen\u001b[39m(list1))\n",
      "\u001b[1;31mNameError\u001b[0m: name 'list1' is not defined"
     ]
    }
   ],
   "source": [
    "list1 = ['Mango', 'Guava', 'Lemon', 'Pineapple', 'Apple', 'Coconut', 'Banana', 'Lime']\n",
    "print (list1, len(list1))\n",
    "del list1\n",
    "print (list1, len(list1))"
   ]
  },
  {
   "cell_type": "code",
   "execution_count": 56,
   "id": "990924df-55d3-41c8-98d5-7d5a9165634e",
   "metadata": {},
   "outputs": [
    {
     "name": "stdout",
     "output_type": "stream",
     "text": [
      "['Mango', 'Pineapple', 'Coconut', 'Banana', 'Lime'] 5\n",
      "['Lime', 'Banana', 'Coconut', 'Pineapple', 'Mango'] 5\n"
     ]
    }
   ],
   "source": [
    "# reverse of a list\n",
    "list1 = ['Mango', 'Pineapple', 'Coconut', 'Banana', 'Lime']\n",
    "print (list1, len(list1))\n",
    "list1.reverse()\n",
    "print (list1, len(list1))"
   ]
  },
  {
   "cell_type": "code",
   "execution_count": 57,
   "id": "6eba4a60-623a-4e1c-a959-3e3a4ec2738e",
   "metadata": {},
   "outputs": [
    {
     "name": "stdout",
     "output_type": "stream",
     "text": [
      "['Mango', 'Pineapple', 'Coconut', 'Banana', 'Lime'] 5\n",
      "['Banana', 'Coconut', 'Lime', 'Mango', 'Pineapple'] 5\n",
      "['Pineapple', 'Mango', 'Lime', 'Coconut', 'Banana'] 5\n"
     ]
    }
   ],
   "source": [
    "# sorting of a list\n",
    "list1 = ['Mango', 'Pineapple', 'Coconut', 'Banana', 'Lime']\n",
    "print (list1, len(list1))\n",
    "list1.sort()\n",
    "print (list1, len(list1))\n",
    "list1.sort(reverse = True)\n",
    "print (list1, len(list1))"
   ]
  },
  {
   "cell_type": "code",
   "execution_count": 58,
   "id": "3381f01a-a3b0-444b-84f7-57cd2cf363c5",
   "metadata": {},
   "outputs": [
    {
     "name": "stdout",
     "output_type": "stream",
     "text": [
      "['Mango', 'Pineapple', 'Coconut', 'Banana', 'Lime'] 5\n",
      "['Banana', 'Coconut', 'Lime', 'Mango', 'Pineapple'] 5\n",
      "['Pineapple', 'Mango', 'Lime', 'Coconut', 'Banana'] 5\n"
     ]
    }
   ],
   "source": [
    "list1 = ['Mango', 'Pineapple', 'Coconut', 'Banana', 'Lime']\n",
    "print (list1, len(list1))\n",
    "list1 = sorted(list1)\n",
    "print (list1, len(list1))\n",
    "list1 = sorted(list1, reverse = True)\n",
    "print (list1, len(list1))"
   ]
  },
  {
   "cell_type": "code",
   "execution_count": 59,
   "id": "5ab68780-55e0-42f7-a6cc-807a2c794dad",
   "metadata": {},
   "outputs": [
    {
     "name": "stdout",
     "output_type": "stream",
     "text": [
      "True False\n",
      "True True\n",
      "False False\n"
     ]
    }
   ],
   "source": [
    "list1 = [True, False, True, True]\n",
    "print (any(list1), all(list1))\n",
    "list1 = [True, True, True, True]\n",
    "print (any(list1), all(list1))\n",
    "list1 = [False, False, False, False]\n",
    "print (any(list1), all(list1))"
   ]
  },
  {
   "cell_type": "code",
   "execution_count": 60,
   "id": "f044ac98-e52f-4b83-a6f4-681fb1c55f71",
   "metadata": {},
   "outputs": [
    {
     "name": "stdout",
     "output_type": "stream",
     "text": [
      "True True\n",
      "2\n",
      "1\n",
      "4\n"
     ]
    }
   ],
   "source": [
    "list1 = ['Mango', 'Pineapple', 'Coconut', 'Banana', 'Pineapple', 'Coconut', 'Banana', 'Lime']\n",
    "print (any(list1), all(list1))\n",
    "print (list1.count('Pineapple'))\n",
    "print (list1.index(\"Pineapple\"))\n",
    "print (list1.index(\"Pineapple\", 2))"
   ]
  },
  {
   "cell_type": "code",
   "execution_count": 61,
   "id": "9c86f82f-bd12-44a8-aa0d-bc16048bd3a8",
   "metadata": {},
   "outputs": [
    {
     "name": "stdout",
     "output_type": "stream",
     "text": [
      "[11, 22, 33, 44, 55, 66, 77, 88] 8 <class 'list'> 2302226242944\n",
      "[111, 122, 133, 144, 155, 166, 177, 188] 8 <class 'list'> 2302226242944\n"
     ]
    }
   ],
   "source": [
    "def list_function(llist):\n",
    "    for i in range(len(llist)):\n",
    "        llist[i] += 100\n",
    "        \n",
    "list1 = [11, 22, 33, 44, 55, 66, 77, 88]\n",
    "print (list1, len(list1), type(list1), id(list1))\n",
    "list_function(list1)\n",
    "print (list1, len(list1), type(list1), id(list1))"
   ]
  },
  {
   "cell_type": "code",
   "execution_count": 65,
   "id": "ab200bb2-5ee6-446a-8241-9bf11fa2e4db",
   "metadata": {},
   "outputs": [
    {
     "name": "stdout",
     "output_type": "stream",
     "text": [
      "[11, 22, 33, 44, 55, 66, 77, 88] 2302226343040\n",
      "[9999, 22, 33, 8888, 55, 66, 77, 88] 2302226343040\n",
      "[9999, 22, 33, 8888, 55, 66, 77, 88] 2302226343040\n"
     ]
    }
   ],
   "source": [
    "list1 = [11, 22, 33, 44, 55, 66, 77, 88]\n",
    "print (list1, id(list1))\n",
    "list2 = list1\n",
    "list1[0] = 9999\n",
    "list2[3] = 8888\n",
    "print (list1, id(list1))\n",
    "print (list2, id(list2))"
   ]
  },
  {
   "cell_type": "code",
   "execution_count": 68,
   "id": "6e9cb209-ea0b-4f17-be33-a8750f4fd6e1",
   "metadata": {},
   "outputs": [
    {
     "name": "stdout",
     "output_type": "stream",
     "text": [
      "[11, 22, 33, 44, 55, 66, 77, 88] 2302226343040\n",
      "[9999, 22, 33, 44, 55, 66, 77, 88] 2302226343040\n",
      "[11, 22, 33, 8888, 55, 66, 77, 88] 2302226340864\n"
     ]
    }
   ],
   "source": [
    "list1 = [11, 22, 33, 44, 55, 66, 77, 88]\n",
    "print (list1, id(list1))\n",
    "list2[:] = list1\n",
    "list1[0] = 9999\n",
    "list2[3] = 8888\n",
    "print (list1, id(list1))\n",
    "print (list2, id(list2))"
   ]
  },
  {
   "cell_type": "code",
   "execution_count": 67,
   "id": "b8d3a00c-6b5d-407d-b8e4-8b35efed4089",
   "metadata": {},
   "outputs": [
    {
     "name": "stdout",
     "output_type": "stream",
     "text": [
      "[11, 22, 33, 44, 55, 66, 77, 88] 2302226450432\n",
      "[9999, 22, 33, 44, 55, 66, 77, 88] 2302226450432\n",
      "[11, 22, 33, 8888, 55, 66, 77, 88] 2302226340864\n"
     ]
    }
   ],
   "source": [
    "list1 = [11, 22, 33, 44, 55, 66, 77, 88]\n",
    "print (list1, id(list1))\n",
    "list2 = list1.copy()\n",
    "list1[0] = 9999\n",
    "list2[3] = 8888\n",
    "print (list1, id(list1))\n",
    "print (list2, id(list2))"
   ]
  },
  {
   "cell_type": "markdown",
   "id": "f0e37f51-d547-4e25-91c4-ef87db24574b",
   "metadata": {},
   "source": [
    "## Tuple Processing"
   ]
  },
  {
   "cell_type": "code",
   "execution_count": 69,
   "id": "9ee4e698-e3c8-445c-a1ac-db3a3ba4819a",
   "metadata": {},
   "outputs": [
    {
     "name": "stdout",
     "output_type": "stream",
     "text": [
      "(100, 400, 300, 200, 700) 8 <class 'tuple'> 2302226750160\n",
      "700 100\n",
      "1700 340.0\n"
     ]
    }
   ],
   "source": [
    "tuple1 = (100, 400, 300, 200, 700)\n",
    "print (tuple1, len(list1), type(tuple1), id(tuple1))\n",
    "print (max(tuple1), min(tuple1))\n",
    "print (sum(tuple1), sum(tuple1) / len(tuple1))"
   ]
  },
  {
   "cell_type": "code",
   "execution_count": 70,
   "id": "f6e0ac04-ef29-4ab0-91d0-d19db63d5f76",
   "metadata": {},
   "outputs": [
    {
     "name": "stdout",
     "output_type": "stream",
     "text": [
      "(100, 400, True, 300, 200, False, 700) 8 <class 'tuple'> 2302226570816\n",
      "700 False\n",
      "1701 243.0\n"
     ]
    }
   ],
   "source": [
    "tuple1 = (100, 400, True, 300, 200, False, 700)\n",
    "print (tuple1, len(list1), type(tuple1), id(tuple1))\n",
    "print (max(tuple1), min(tuple1))\n",
    "print (sum(tuple1), sum(tuple1) / len(tuple1))"
   ]
  },
  {
   "cell_type": "code",
   "execution_count": 71,
   "id": "bf5e943b-4a3f-4528-9554-43450e46ee05",
   "metadata": {},
   "outputs": [
    {
     "name": "stdout",
     "output_type": "stream",
     "text": [
      "('sunday', 'monday', 'friday', 'saturday', 'Tuesday') 8 <class 'tuple'> 2302226750160\n",
      "sunday Tuesday\n"
     ]
    },
    {
     "ename": "TypeError",
     "evalue": "unsupported operand type(s) for +: 'int' and 'str'",
     "output_type": "error",
     "traceback": [
      "\u001b[1;31m---------------------------------------------------------------------------\u001b[0m",
      "\u001b[1;31mTypeError\u001b[0m                                 Traceback (most recent call last)",
      "Cell \u001b[1;32mIn[71], line 4\u001b[0m\n\u001b[0;32m      2\u001b[0m \u001b[38;5;28mprint\u001b[39m (tuple1, \u001b[38;5;28mlen\u001b[39m(list1), \u001b[38;5;28mtype\u001b[39m(tuple1), \u001b[38;5;28mid\u001b[39m(tuple1))\n\u001b[0;32m      3\u001b[0m \u001b[38;5;28mprint\u001b[39m (\u001b[38;5;28mmax\u001b[39m(tuple1), \u001b[38;5;28mmin\u001b[39m(tuple1))\n\u001b[1;32m----> 4\u001b[0m \u001b[38;5;28mprint\u001b[39m (\u001b[38;5;28;43msum\u001b[39;49m\u001b[43m(\u001b[49m\u001b[43mtuple1\u001b[49m\u001b[43m)\u001b[49m, \u001b[38;5;28msum\u001b[39m(tuple1) \u001b[38;5;241m/\u001b[39m \u001b[38;5;28mlen\u001b[39m(tuple1))\n",
      "\u001b[1;31mTypeError\u001b[0m: unsupported operand type(s) for +: 'int' and 'str'"
     ]
    }
   ],
   "source": [
    "tuple1 = (\"sunday\", \"monday\", 'friday', 'saturday', 'Tuesday')\n",
    "print (tuple1, len(list1), type(tuple1), id(tuple1))\n",
    "print (max(tuple1), min(tuple1))\n",
    "print (sum(tuple1), sum(tuple1) / len(tuple1))"
   ]
  },
  {
   "cell_type": "code",
   "execution_count": 72,
   "id": "a9d2ee2b-3cda-482e-9074-814302e47f55",
   "metadata": {},
   "outputs": [
    {
     "name": "stdout",
     "output_type": "stream",
     "text": [
      "(100, 400, True, 'Tuesday', 300, 'Wednesday', 200, False, 700) 8 <class 'tuple'> 2302226707392\n"
     ]
    },
    {
     "ename": "TypeError",
     "evalue": "'>' not supported between instances of 'str' and 'int'",
     "output_type": "error",
     "traceback": [
      "\u001b[1;31m---------------------------------------------------------------------------\u001b[0m",
      "\u001b[1;31mTypeError\u001b[0m                                 Traceback (most recent call last)",
      "Cell \u001b[1;32mIn[72], line 3\u001b[0m\n\u001b[0;32m      1\u001b[0m tuple1 \u001b[38;5;241m=\u001b[39m (\u001b[38;5;241m100\u001b[39m, \u001b[38;5;241m400\u001b[39m, \u001b[38;5;28;01mTrue\u001b[39;00m, \u001b[38;5;124m\"\u001b[39m\u001b[38;5;124mTuesday\u001b[39m\u001b[38;5;124m\"\u001b[39m, \u001b[38;5;241m300\u001b[39m, \u001b[38;5;124m\"\u001b[39m\u001b[38;5;124mWednesday\u001b[39m\u001b[38;5;124m\"\u001b[39m, \u001b[38;5;241m200\u001b[39m, \u001b[38;5;28;01mFalse\u001b[39;00m, \u001b[38;5;241m700\u001b[39m)\n\u001b[0;32m      2\u001b[0m \u001b[38;5;28mprint\u001b[39m (tuple1, \u001b[38;5;28mlen\u001b[39m(list1), \u001b[38;5;28mtype\u001b[39m(tuple1), \u001b[38;5;28mid\u001b[39m(tuple1))\n\u001b[1;32m----> 3\u001b[0m \u001b[38;5;28mprint\u001b[39m (\u001b[38;5;28;43mmax\u001b[39;49m\u001b[43m(\u001b[49m\u001b[43mtuple1\u001b[49m\u001b[43m)\u001b[49m, \u001b[38;5;28mmin\u001b[39m(tuple1))\n\u001b[0;32m      4\u001b[0m \u001b[38;5;28mprint\u001b[39m (\u001b[38;5;28msum\u001b[39m(tuple1), \u001b[38;5;28msum\u001b[39m(tuple1) \u001b[38;5;241m/\u001b[39m \u001b[38;5;28mlen\u001b[39m(tuple1))\n",
      "\u001b[1;31mTypeError\u001b[0m: '>' not supported between instances of 'str' and 'int'"
     ]
    }
   ],
   "source": [
    "tuple1 = (100, 400, True, \"Tuesday\", 300, \"Wednesday\", 200, False, 700)\n",
    "print (tuple1, len(list1), type(tuple1), id(tuple1))\n",
    "print (max(tuple1), min(tuple1))\n",
    "print (sum(tuple1), sum(tuple1) / len(tuple1))"
   ]
  },
  {
   "cell_type": "code",
   "execution_count": 73,
   "id": "0e91fecd-cd7b-4713-9531-1f4c9b508d82",
   "metadata": {},
   "outputs": [
    {
     "name": "stdout",
     "output_type": "stream",
     "text": [
      "Wednesday Wednesday Thursday Thursday\n",
      "nes nes\n"
     ]
    }
   ],
   "source": [
    "# Indexing and slicing\n",
    "# L ro R ->   0         1          2            3           4\n",
    "tuple1 =    (\"Monday\", \"Tuesday\", \"Wednesday\", \"Thursday\", \"Friday\")\n",
    "# R to L ->  -5        -4         -3           -2          -1\n",
    "print (tuple1[2], tuple1[-3], tuple1[3], tuple1[-2])\n",
    "print (tuple1[2][3:6], tuple1[-3][-6:-3])"
   ]
  },
  {
   "cell_type": "code",
   "execution_count": 74,
   "id": "f987e186-3deb-4c92-bb50-b2aef075dc9c",
   "metadata": {},
   "outputs": [
    {
     "name": "stdout",
     "output_type": "stream",
     "text": [
      "('Monday', 'Tuesday', 'Wednesday', 'Thursday', 'Friday')\n",
      "('Mango', 'Pineapple', 'Guava', 'Lime')\n",
      "('Monday', 'Tuesday', 'Wednesday', 'Thursday', 'Friday', 'Mango', 'Pineapple', 'Guava', 'Lime')\n",
      "(('Monday', 'Tuesday', 'Wednesday', 'Thursday', 'Friday'), ('Mango', 'Pineapple', 'Guava', 'Lime'))\n"
     ]
    }
   ],
   "source": [
    "tuple1 = (\"Monday\", \"Tuesday\", \"Wednesday\", \"Thursday\", \"Friday\")\n",
    "tuple2 = (\"Mango\", \"Pineapple\", \"Guava\", \"Lime\")\n",
    "print (tuple1)\n",
    "print (tuple2)\n",
    "tuple3 = tuple1 + tuple2      # tuple concatenation\n",
    "print (tuple3)\n",
    "tuple3 = (tuple1, tuple2)     # tuple of tuples\n",
    "print (tuple3)"
   ]
  },
  {
   "cell_type": "code",
   "execution_count": 75,
   "id": "9d107f21-cbfb-4932-8c27-ce3935607b2d",
   "metadata": {},
   "outputs": [
    {
     "name": "stdout",
     "output_type": "stream",
     "text": [
      "10 <class 'int'>\n",
      "(10,) <class 'tuple'>\n"
     ]
    }
   ],
   "source": [
    "var1 = (10)\n",
    "print (var1, type(var1))\n",
    "var1 = (10,)   # singleton representation of a tuple\n",
    "print (var1, type(var1))"
   ]
  },
  {
   "cell_type": "code",
   "execution_count": 77,
   "id": "18df6cd3-023a-498e-9f30-7a6b4dfdb7a4",
   "metadata": {},
   "outputs": [
    {
     "name": "stdout",
     "output_type": "stream",
     "text": [
      "('Monday', 'Tuesday', 'Wednesday', 'Thursday', 'Friday') 2302227125392\n",
      "['Monday', 'Tuesday', 'Wednesday', 'Thursday', 'Friday'] 2302226782464\n",
      "['Monday', 'Saturday', 'Wednesday', 'Thursday', 'Friday'] 2302226782464\n",
      "('Monday', 'Saturday', 'Wednesday', 'Thursday', 'Friday') 2302227226016\n"
     ]
    }
   ],
   "source": [
    "# update operation on a tuple\n",
    "tuple1 = (\"Monday\", \"Tuesday\", \"Wednesday\", \"Thursday\", \"Friday\")\n",
    "print (tuple1, id(tuple1))\n",
    "# tuple1[1] = 'Saturday'\n",
    "list1 = list(tuple1)\n",
    "print (list1, id(list1))\n",
    "list1[1] = 'Saturday'\n",
    "print (list1, id(list1))\n",
    "tuple1 = tuple(list1)\n",
    "print (tuple1, id(tuple1))"
   ]
  },
  {
   "cell_type": "code",
   "execution_count": 78,
   "id": "99322684-cabe-4919-8c97-d6d44bec471f",
   "metadata": {},
   "outputs": [
    {
     "name": "stdout",
     "output_type": "stream",
     "text": [
      "('Monday', 'Tuesday', 'Wednesday', 'Thursday', 'Friday') 2302227122832\n",
      "('Monday', 'Tuesday', 'Wednesday', 'Thursday', 'Friday') 2302227122832\n"
     ]
    }
   ],
   "source": [
    "# sorting on a tuple\n",
    "tuple1 = (\"Monday\", \"Tuesday\", \"Wednesday\", \"Thursday\", \"Friday\")\n",
    "print (tuple1, id(tuple1))\n",
    "tuple2 = tuple(sorted(tuple1))\n",
    "print (tuple1, id(tuple1))"
   ]
  },
  {
   "cell_type": "code",
   "execution_count": 79,
   "id": "ae6cad6a-559a-48ea-9fcf-1b6206f48f5e",
   "metadata": {},
   "outputs": [
    {
     "name": "stdout",
     "output_type": "stream",
     "text": [
      "True False\n",
      "True True\n",
      "False False\n"
     ]
    }
   ],
   "source": [
    "tuple1 = (True, False, True, True); print (any(tuple1), all(tuple1))\n",
    "tuple1 = (True, True, True, True); print (any(tuple1), all(tuple1))\n",
    "tuple1 = (False, False, False, False); print (any(tuple1), all(tuple1))"
   ]
  },
  {
   "cell_type": "code",
   "execution_count": 80,
   "id": "edd9e2bd-7f12-45b5-99a6-0232993b7e96",
   "metadata": {},
   "outputs": [
    {
     "name": "stdout",
     "output_type": "stream",
     "text": [
      "2 0\n"
     ]
    }
   ],
   "source": [
    "tuple1 = ('Mango', 'Pineapple', 'Coconut', 'Banana', 'Pineapple', 'Coconut', 'Banana', 'Lime')\n",
    "print (tuple1.count('Pineapple'), tuple1.count('Lemon'))"
   ]
  },
  {
   "cell_type": "code",
   "execution_count": 82,
   "id": "506dc92b-60d5-4513-b0e6-44f3f3c699e2",
   "metadata": {},
   "outputs": [
    {
     "name": "stdout",
     "output_type": "stream",
     "text": [
      "1\n",
      "1\n",
      "4\n"
     ]
    },
    {
     "ename": "ValueError",
     "evalue": "tuple.index(x): x not in tuple",
     "output_type": "error",
     "traceback": [
      "\u001b[1;31m---------------------------------------------------------------------------\u001b[0m",
      "\u001b[1;31mValueError\u001b[0m                                Traceback (most recent call last)",
      "Cell \u001b[1;32mIn[82], line 5\u001b[0m\n\u001b[0;32m      3\u001b[0m \u001b[38;5;28mprint\u001b[39m (tuple1\u001b[38;5;241m.\u001b[39mindex(\u001b[38;5;124m\"\u001b[39m\u001b[38;5;124mPineapple\u001b[39m\u001b[38;5;124m\"\u001b[39m, \u001b[38;5;241m0\u001b[39m))\n\u001b[0;32m      4\u001b[0m \u001b[38;5;28mprint\u001b[39m (tuple1\u001b[38;5;241m.\u001b[39mindex(\u001b[38;5;124m\"\u001b[39m\u001b[38;5;124mPineapple\u001b[39m\u001b[38;5;124m\"\u001b[39m, \u001b[38;5;241m2\u001b[39m))\n\u001b[1;32m----> 5\u001b[0m \u001b[38;5;28mprint\u001b[39m (\u001b[43mtuple1\u001b[49m\u001b[38;5;241;43m.\u001b[39;49m\u001b[43mindex\u001b[49m\u001b[43m(\u001b[49m\u001b[38;5;124;43m\"\u001b[39;49m\u001b[38;5;124;43mPineapple\u001b[39;49m\u001b[38;5;124;43m\"\u001b[39;49m\u001b[43m,\u001b[49m\u001b[43m \u001b[49m\u001b[38;5;241;43m5\u001b[39;49m\u001b[43m)\u001b[49m)\n",
      "\u001b[1;31mValueError\u001b[0m: tuple.index(x): x not in tuple"
     ]
    }
   ],
   "source": [
    "tuple1 = ('Mango', 'Pineapple', 'Coconut', 'Banana', 'Pineapple', 'Coconut', 'Banana', 'Lime')\n",
    "print (tuple1.index(\"Pineapple\"))\n",
    "print (tuple1.index(\"Pineapple\", 0))\n",
    "print (tuple1.index(\"Pineapple\", 2))\n",
    "print (tuple1.index(\"Pineapple\", 5))"
   ]
  },
  {
   "cell_type": "markdown",
   "id": "3345498a-d3d1-45f9-81a9-87159bd3d993",
   "metadata": {},
   "source": [
    "### **Day - 5**"
   ]
  },
  {
   "cell_type": "markdown",
   "id": "3add8571-1f37-4c70-8f77-34c15f1eb6bb",
   "metadata": {},
   "source": [
    "## Dictionary Processing"
   ]
  },
  {
   "cell_type": "code",
   "execution_count": 1,
   "id": "43ff5bc4-3e85-4799-90a7-d01777bcbb7e",
   "metadata": {},
   "outputs": [
    {
     "name": "stdout",
     "output_type": "stream",
     "text": [
      "{'apple': 'red', 'pineapple': 'yellow', 'mango': 'green', 'orange': 'orange', 'lime': 'green'} 5 <class 'dict'> 2308335686400\n",
      "dict_keys(['apple', 'pineapple', 'mango', 'orange', 'lime'])\n",
      "dict_values(['red', 'yellow', 'green', 'orange', 'green'])\n",
      "dict_items([('apple', 'red'), ('pineapple', 'yellow'), ('mango', 'green'), ('orange', 'orange'), ('lime', 'green')])\n"
     ]
    }
   ],
   "source": [
    "dict1 = {\"apple\":\"red\", \"pineapple\":\"yellow\", \"mango\":\"green\", \"orange\":\"orange\", \"lime\":\"green\"}\n",
    "print (dict1, len(dict1), type(dict1), id(dict1))\n",
    "print (dict1.keys())     # returns list of keys\n",
    "print (dict1.values())   # returns list of values\n",
    "print (dict1.items())    # returns list of tuples"
   ]
  },
  {
   "cell_type": "code",
   "execution_count": 3,
   "id": "73fd61c3-d2b4-4061-97d1-501b92d9278d",
   "metadata": {},
   "outputs": [
    {
     "name": "stdout",
     "output_type": "stream",
     "text": [
      "{'apple': 'red', 'pineapple': 'yellow', 'mango': 'red', 'orange': 'orange', 'lime': 'green'} 5 <class 'dict'> 2308335686400\n",
      "dict_keys(['apple', 'pineapple', 'mango', 'orange', 'lime'])\n",
      "dict_values(['red', 'yellow', 'red', 'orange', 'green'])\n",
      "dict_items([('apple', 'red'), ('pineapple', 'yellow'), ('mango', 'red'), ('orange', 'orange'), ('lime', 'green')])\n"
     ]
    }
   ],
   "source": [
    "dict1 = {\"apple\":\"red\", \"pineapple\":\"yellow\", \"mango\":\"green\", \"orange\":\"orange\", \"lime\":\"green\", \"mango\":\"red\"}\n",
    "print (dict1, len(dict1), type(dict1), id(dict1))\n",
    "print (dict1.keys())     # returns list of keys\n",
    "print (dict1.values())   # returns list of values\n",
    "print (dict1.items())    # returns list of tuples"
   ]
  },
  {
   "cell_type": "code",
   "execution_count": 7,
   "id": "169c5f0a-eba8-4ebf-a1e1-35210b657d62",
   "metadata": {},
   "outputs": [
    {
     "name": "stdout",
     "output_type": "stream",
     "text": [
      "green\n",
      "None\n",
      "green\n",
      "NA\n"
     ]
    }
   ],
   "source": [
    "dict1 = {\"apple\":\"red\", \"pineapple\":\"yellow\", \"mango\":\"green\", \"orange\":\"orange\"}\n",
    "print (dict1.get('mango'))\n",
    "print (dict1.get('banana'))\n",
    "print (dict1.get('mango', \"NA\"))\n",
    "print (dict1.get('banana', \"NA\"))"
   ]
  },
  {
   "cell_type": "code",
   "execution_count": 9,
   "id": "52ce9429-bee7-403b-977a-4d189a67cd4c",
   "metadata": {},
   "outputs": [
    {
     "name": "stdout",
     "output_type": "stream",
     "text": [
      "red\n",
      "yellow\n"
     ]
    },
    {
     "ename": "KeyError",
     "evalue": "'banana'",
     "output_type": "error",
     "traceback": [
      "\u001b[1;31m---------------------------------------------------------------------------\u001b[0m",
      "\u001b[1;31mKeyError\u001b[0m                                  Traceback (most recent call last)",
      "Cell \u001b[1;32mIn[9], line 4\u001b[0m\n\u001b[0;32m      2\u001b[0m \u001b[38;5;28mprint\u001b[39m (dict1[\u001b[38;5;124m'\u001b[39m\u001b[38;5;124mapple\u001b[39m\u001b[38;5;124m'\u001b[39m])\n\u001b[0;32m      3\u001b[0m \u001b[38;5;28mprint\u001b[39m (dict1[\u001b[38;5;124m'\u001b[39m\u001b[38;5;124mpineapple\u001b[39m\u001b[38;5;124m'\u001b[39m])\n\u001b[1;32m----> 4\u001b[0m \u001b[38;5;28mprint\u001b[39m (\u001b[43mdict1\u001b[49m\u001b[43m[\u001b[49m\u001b[38;5;124;43m'\u001b[39;49m\u001b[38;5;124;43mbanana\u001b[39;49m\u001b[38;5;124;43m'\u001b[39;49m\u001b[43m]\u001b[49m)\n",
      "\u001b[1;31mKeyError\u001b[0m: 'banana'"
     ]
    }
   ],
   "source": [
    "dict1 = {\"apple\":\"red\", \"pineapple\":\"yellow\", \"mango\":\"green\", \"orange\":\"orange\"}\n",
    "print (dict1['apple'])\n",
    "print (dict1['pineapple'])\n",
    "print (dict1['banana'])"
   ]
  },
  {
   "cell_type": "code",
   "execution_count": 10,
   "id": "3ee90798-eaa4-49d0-b404-ccfd4e40ef4f",
   "metadata": {},
   "outputs": [
    {
     "name": "stdout",
     "output_type": "stream",
     "text": [
      "{'apple': 'red', 'pineapple': 'yellow', 'mango': 'green', 'orange': 'orange'} 4 <class 'dict'> 2308364041984\n",
      "{'apple': 'red', 'pineapple': 'yellow', 'mango': 'green', 'orange': 'orange', 'banana': 'yellow'} 5 <class 'dict'> 2308364041984\n",
      "{'apple': 'red', 'pineapple': 'yellow', 'mango': 'green', 'orange': 'orange', 'banana': 'yellow', 'lime': 'green'} 6 <class 'dict'> 2308364041984\n",
      "{'apple': 'red', 'pineapple': 'yellow', 'mango': 'green', 'orange': 'orange', 'banana': 'yellow', 'lime': 'green', 'lemon': 'light green'} 7 <class 'dict'> 2308364041984\n",
      "{'apple': 'red', 'pineapple': 'yellow', 'mango': 'red', 'orange': 'orange', 'banana': 'yellow', 'lime': 'green', 'lemon': 'light green'} 7 <class 'dict'> 2308364041984\n"
     ]
    }
   ],
   "source": [
    "# insert and update operations on a dictionary\n",
    "dict1 = {\"apple\":\"red\", \"pineapple\":\"yellow\", \"mango\":\"green\", \"orange\":\"orange\"}\n",
    "print (dict1, len(dict1), type(dict1), id(dict1))\n",
    "dict1['banana'] = 'yellow'    # insert operation\n",
    "print (dict1, len(dict1), type(dict1), id(dict1))\n",
    "dict1['lime'] = 'green'       # insert operation\n",
    "print (dict1, len(dict1), type(dict1), id(dict1))\n",
    "dict1['lemon'] = 'light green'# insert operation\n",
    "print (dict1, len(dict1), type(dict1), id(dict1))\n",
    "dict1['mango'] = 'red'        # update operation\n",
    "print (dict1, len(dict1), type(dict1), id(dict1))"
   ]
  },
  {
   "cell_type": "code",
   "execution_count": 11,
   "id": "92761908-53cc-4e38-b781-f77e11a7761f",
   "metadata": {},
   "outputs": [
    {
     "name": "stdout",
     "output_type": "stream",
     "text": [
      "{'apple': 'red', 'pineapple': 'yellow', 'mango': 'green', 'orange': 'orange'} 4 <class 'dict'> 2308334925440\n",
      "{'apple': 'red', 'pineapple': 'yellow', 'mango': 'green', 'orange': 'orange'} 4 <class 'dict'> 2308334925440\n",
      "{'apple': 'red', 'pineapple': 'yellow', 'mango': 'green', 'orange': 'orange'} 4 <class 'dict'> 2308334925440\n",
      "{'apple': 'red', 'pineapple': 'yellow', 'mango': 'green', 'orange': 'orange', 'banana': 'yellow'} 5 <class 'dict'> 2308334925440\n"
     ]
    }
   ],
   "source": [
    "dict1 = {\"apple\":\"red\", \"pineapple\":\"yellow\", \"mango\":\"green\", \"orange\":\"orange\"}\n",
    "print (dict1, len(dict1), type(dict1), id(dict1))\n",
    "dict1.setdefault(\"apple\", \"deep red\")\n",
    "print (dict1, len(dict1), type(dict1), id(dict1))\n",
    "dict1.setdefault(\"mango\", \"red\")\n",
    "print (dict1, len(dict1), type(dict1), id(dict1))\n",
    "dict1.setdefault(\"banana\", \"yellow\")\n",
    "print (dict1, len(dict1), type(dict1), id(dict1))"
   ]
  },
  {
   "cell_type": "code",
   "execution_count": 13,
   "id": "b9b39aae-235b-4db3-9e41-c21e9b0ce017",
   "metadata": {},
   "outputs": [
    {
     "name": "stdout",
     "output_type": "stream",
     "text": [
      "{'apple': 'red', 'pineapple': 'yellow', 'mango': 'green', 'orange': 'orange'} 4 <class 'dict'> 2308364074560\n",
      "yellow\n",
      "{'apple': 'red', 'mango': 'green', 'orange': 'orange'} 3 <class 'dict'> 2308364074560\n",
      "red\n",
      "{'mango': 'green', 'orange': 'orange'} 2 <class 'dict'> 2308364074560\n",
      "orange\n",
      "{'mango': 'green'} 1 <class 'dict'> 2308364074560\n"
     ]
    },
    {
     "ename": "KeyError",
     "evalue": "'orange'",
     "output_type": "error",
     "traceback": [
      "\u001b[1;31m---------------------------------------------------------------------------\u001b[0m",
      "\u001b[1;31mKeyError\u001b[0m                                  Traceback (most recent call last)",
      "Cell \u001b[1;32mIn[13], line 10\u001b[0m\n\u001b[0;32m      8\u001b[0m \u001b[38;5;28mprint\u001b[39m (dict1\u001b[38;5;241m.\u001b[39mpop(\u001b[38;5;124m'\u001b[39m\u001b[38;5;124morange\u001b[39m\u001b[38;5;124m'\u001b[39m))\n\u001b[0;32m      9\u001b[0m \u001b[38;5;28mprint\u001b[39m (dict1, \u001b[38;5;28mlen\u001b[39m(dict1), \u001b[38;5;28mtype\u001b[39m(dict1), \u001b[38;5;28mid\u001b[39m(dict1))\n\u001b[1;32m---> 10\u001b[0m \u001b[38;5;28mprint\u001b[39m (\u001b[43mdict1\u001b[49m\u001b[38;5;241;43m.\u001b[39;49m\u001b[43mpop\u001b[49m\u001b[43m(\u001b[49m\u001b[38;5;124;43m'\u001b[39;49m\u001b[38;5;124;43morange\u001b[39;49m\u001b[38;5;124;43m'\u001b[39;49m\u001b[43m)\u001b[49m)\n\u001b[0;32m     11\u001b[0m \u001b[38;5;28mprint\u001b[39m (dict1, \u001b[38;5;28mlen\u001b[39m(dict1), \u001b[38;5;28mtype\u001b[39m(dict1), \u001b[38;5;28mid\u001b[39m(dict1))\n",
      "\u001b[1;31mKeyError\u001b[0m: 'orange'"
     ]
    }
   ],
   "source": [
    "# delete operation on dictionary\n",
    "dict1 = {\"apple\":\"red\", \"pineapple\":\"yellow\", \"mango\":\"green\", \"orange\":\"orange\"}\n",
    "print (dict1, len(dict1), type(dict1), id(dict1))\n",
    "print (dict1.pop('pineapple'))\n",
    "print (dict1, len(dict1), type(dict1), id(dict1))\n",
    "print (dict1.pop('apple'))\n",
    "print (dict1, len(dict1), type(dict1), id(dict1))\n",
    "print (dict1.pop('orange'))\n",
    "print (dict1, len(dict1), type(dict1), id(dict1))\n",
    "print (dict1.pop('orange'))\n",
    "print (dict1, len(dict1), type(dict1), id(dict1))"
   ]
  },
  {
   "cell_type": "code",
   "execution_count": 15,
   "id": "71737dc4-792d-40ae-b68c-1c6ac0961996",
   "metadata": {},
   "outputs": [
    {
     "name": "stdout",
     "output_type": "stream",
     "text": [
      "{'apple': 'red', 'pineapple': 'yellow', 'mango': 'green', 'orange': 'orange'} 4 <class 'dict'> 2308363810240\n",
      "('orange', 'orange')\n",
      "{'apple': 'red', 'pineapple': 'yellow', 'mango': 'green'} 3 <class 'dict'> 2308363810240\n",
      "('mango', 'green')\n",
      "{'apple': 'red', 'pineapple': 'yellow'} 2 <class 'dict'> 2308363810240\n",
      "('pineapple', 'yellow')\n",
      "{'apple': 'red'} 1 <class 'dict'> 2308363810240\n",
      "('apple', 'red')\n",
      "{} 0 <class 'dict'> 2308363810240\n"
     ]
    },
    {
     "ename": "KeyError",
     "evalue": "'popitem(): dictionary is empty'",
     "output_type": "error",
     "traceback": [
      "\u001b[1;31m---------------------------------------------------------------------------\u001b[0m",
      "\u001b[1;31mKeyError\u001b[0m                                  Traceback (most recent call last)",
      "Cell \u001b[1;32mIn[15], line 11\u001b[0m\n\u001b[0;32m      9\u001b[0m \u001b[38;5;28mprint\u001b[39m (dict1\u001b[38;5;241m.\u001b[39mpopitem())\n\u001b[0;32m     10\u001b[0m \u001b[38;5;28mprint\u001b[39m (dict1, \u001b[38;5;28mlen\u001b[39m(dict1), \u001b[38;5;28mtype\u001b[39m(dict1), \u001b[38;5;28mid\u001b[39m(dict1))\n\u001b[1;32m---> 11\u001b[0m \u001b[38;5;28mprint\u001b[39m (\u001b[43mdict1\u001b[49m\u001b[38;5;241;43m.\u001b[39;49m\u001b[43mpopitem\u001b[49m\u001b[43m(\u001b[49m\u001b[43m)\u001b[49m)\n\u001b[0;32m     12\u001b[0m \u001b[38;5;28mprint\u001b[39m (dict1, \u001b[38;5;28mlen\u001b[39m(dict1), \u001b[38;5;28mtype\u001b[39m(dict1), \u001b[38;5;28mid\u001b[39m(dict1))\n",
      "\u001b[1;31mKeyError\u001b[0m: 'popitem(): dictionary is empty'"
     ]
    }
   ],
   "source": [
    "dict1 = {\"apple\":\"red\", \"pineapple\":\"yellow\", \"mango\":\"green\", \"orange\":\"orange\"}\n",
    "print (dict1, len(dict1), type(dict1), id(dict1))\n",
    "print (dict1.popitem())\n",
    "print (dict1, len(dict1), type(dict1), id(dict1))\n",
    "print (dict1.popitem())\n",
    "print (dict1, len(dict1), type(dict1), id(dict1))\n",
    "print (dict1.popitem())\n",
    "print (dict1, len(dict1), type(dict1), id(dict1))\n",
    "print (dict1.popitem())\n",
    "print (dict1, len(dict1), type(dict1), id(dict1))\n",
    "print (dict1.popitem())\n",
    "print (dict1, len(dict1), type(dict1), id(dict1))"
   ]
  },
  {
   "cell_type": "code",
   "execution_count": 16,
   "id": "b6990f38-11cc-4390-adaf-ce5d5ffe6556",
   "metadata": {},
   "outputs": [
    {
     "name": "stdout",
     "output_type": "stream",
     "text": [
      "{'apple': 'red', 'pineapple': 'yellow', 'mango': 'green', 'orange': 'orange'} 4 <class 'dict'> 2308364796288\n",
      "{} 0 <class 'dict'> 2308364796288\n"
     ]
    }
   ],
   "source": [
    "dict1 = {\"apple\":\"red\", \"pineapple\":\"yellow\", \"mango\":\"green\", \"orange\":\"orange\"}\n",
    "print (dict1, len(dict1), type(dict1), id(dict1))\n",
    "dict1.clear()\n",
    "print (dict1, len(dict1), type(dict1), id(dict1))"
   ]
  },
  {
   "cell_type": "code",
   "execution_count": 18,
   "id": "b3a1279a-3cd9-4ccf-a9ac-d852ce11d6c2",
   "metadata": {},
   "outputs": [
    {
     "name": "stdout",
     "output_type": "stream",
     "text": [
      "{'apple': 'red', 'pineapple': 'yellow', 'mango': 'green', 'orange': 'orange'} 4 <class 'dict'> 2308364797440\n"
     ]
    },
    {
     "ename": "NameError",
     "evalue": "name 'dict1' is not defined",
     "output_type": "error",
     "traceback": [
      "\u001b[1;31m---------------------------------------------------------------------------\u001b[0m",
      "\u001b[1;31mNameError\u001b[0m                                 Traceback (most recent call last)",
      "Cell \u001b[1;32mIn[18], line 4\u001b[0m\n\u001b[0;32m      2\u001b[0m \u001b[38;5;28mprint\u001b[39m (dict1, \u001b[38;5;28mlen\u001b[39m(dict1), \u001b[38;5;28mtype\u001b[39m(dict1), \u001b[38;5;28mid\u001b[39m(dict1))\n\u001b[0;32m      3\u001b[0m \u001b[38;5;28;01mdel\u001b[39;00m dict1\n\u001b[1;32m----> 4\u001b[0m \u001b[38;5;28mprint\u001b[39m (\u001b[43mdict1\u001b[49m, \u001b[38;5;28mlen\u001b[39m(dict1), \u001b[38;5;28mtype\u001b[39m(dict1), \u001b[38;5;28mid\u001b[39m(dict1))\n",
      "\u001b[1;31mNameError\u001b[0m: name 'dict1' is not defined"
     ]
    }
   ],
   "source": [
    "dict1 = {\"apple\":\"red\", \"pineapple\":\"yellow\", \"mango\":\"green\", \"orange\":\"orange\"}\n",
    "print (dict1, len(dict1), type(dict1), id(dict1))\n",
    "del dict1\n",
    "print (dict1, len(dict1), type(dict1), id(dict1))"
   ]
  },
  {
   "cell_type": "code",
   "execution_count": 19,
   "id": "72c4e553-dc13-4b2a-b222-01fbaecaddf4",
   "metadata": {},
   "outputs": [
    {
     "name": "stdout",
     "output_type": "stream",
     "text": [
      "{'apple': 'red', 'pineapple': 'yellow'} 2\n",
      "{'mango': 'green', 'orange': 'orange', 'lime': 'green'} 3\n",
      "{'apple': 'red', 'pineapple': 'yellow', 'mango': 'green', 'orange': 'orange', 'lime': 'green'} 5\n",
      "{'mango': 'green', 'orange': 'orange', 'lime': 'green'} 3\n"
     ]
    }
   ],
   "source": [
    "# concatenation of dictionaries\n",
    "fruits1 = {\"apple\":\"red\", \"pineapple\":\"yellow\"}\n",
    "fruits2 = {\"mango\":\"green\", \"orange\":\"orange\", \"lime\":\"green\"}\n",
    "print (fruits1, len(fruits1))\n",
    "print (fruits2, len(fruits2))\n",
    "fruits1.update(fruits2)\n",
    "print (fruits1, len(fruits1))\n",
    "print (fruits2, len(fruits2))"
   ]
  },
  {
   "cell_type": "code",
   "execution_count": 20,
   "id": "1141781d-3f00-4399-adc2-760dc7433251",
   "metadata": {},
   "outputs": [
    {
     "name": "stdout",
     "output_type": "stream",
     "text": [
      "{'mango': 900, 'pineapple': 900, 'cherry': 900, 'lime': 900} 4 <class 'dict'> 2308366972032\n"
     ]
    }
   ],
   "source": [
    "mykeys = [\"mango\", 'pineapple', \"cherry\", \"lime\"]\n",
    "price = 900\n",
    "dict1 = dict.fromkeys(mykeys, price)\n",
    "print (dict1, len(dict1), type(dict1), id(dict1))"
   ]
  },
  {
   "cell_type": "code",
   "execution_count": 25,
   "id": "fea1d8fa-b0db-4e5f-87d9-c6f6dc6eff2c",
   "metadata": {},
   "outputs": [
    {
     "name": "stdout",
     "output_type": "stream",
     "text": [
      "<zip object at 0x000002197570E8C0>\n",
      "[('mango', 100), ('pineapple', 300), ('cherry', 500), ('lime', 200), ('banana', 700)]\n",
      "(('mango', 100), ('pineapple', 300), ('cherry', 500), ('lime', 200), ('banana', 700))\n",
      "{('pineapple', 300), ('mango', 100), ('lime', 200), ('banana', 700), ('cherry', 500)}\n",
      "{'mango': 100, 'pineapple': 300, 'cherry': 500, 'lime': 200, 'banana': 700}\n",
      "{'mango': 100, 'pineapple': 300, 'cherry': 500, 'lime': 200, 'banana': 700}\n"
     ]
    }
   ],
   "source": [
    "fruits = [\"mango\", 'pineapple', \"cherry\", \"lime\", \"banana\"]\n",
    "prices = [100, 300, 500, 200, 700, 900]\n",
    "print (zip(fruits, prices))\n",
    "print (list(zip(fruits, prices)))\n",
    "print (tuple(zip(fruits, prices)))\n",
    "print (set(zip(fruits, prices)))\n",
    "print (dict(zip(fruits, prices)))\n",
    "print (dict(list(zip(fruits, prices))))"
   ]
  },
  {
   "cell_type": "code",
   "execution_count": 26,
   "id": "4f78cd80-51a7-4e6e-8330-359069c46acc",
   "metadata": {},
   "outputs": [
    {
     "name": "stdout",
     "output_type": "stream",
     "text": [
      "March\n",
      "July\n",
      "November\n",
      "Invalid Month No.\n"
     ]
    }
   ],
   "source": [
    "def switch_case_demo(month_no):\n",
    "    switcher = {1:\"January\",\n",
    "                2:\"February\",\n",
    "                3:\"March\",\n",
    "                4:\"April\",\n",
    "                5:\"May\",\n",
    "                6:\"June\",\n",
    "                7:\"July\",\n",
    "                8:\"August\",\n",
    "                9:\"September\",\n",
    "                10:\"October\",\n",
    "                11:\"November\",\n",
    "                12:\"December\"}\n",
    "    return switcher.get(month_no, \"Invalid Month No.\")\n",
    "\n",
    "print (switch_case_demo(3))\n",
    "print (switch_case_demo(7))\n",
    "print (switch_case_demo(11))\n",
    "print (switch_case_demo(13))"
   ]
  },
  {
   "cell_type": "code",
   "execution_count": 27,
   "id": "628325e6-a94e-49a0-acba-fb20d6d39df4",
   "metadata": {},
   "outputs": [
    {
     "name": "stdout",
     "output_type": "stream",
     "text": [
      "{'apple': 'red', 'pineapple': 'yellow', 'mango': 'green', 'orange': 'orange'} 4 <class 'dict'> 2308368853760\n",
      "{'apple': 'red', 'pineapple': 'yellow', 'mango': 'green', 'orange': 'orange'} 4 <class 'dict'> 2308335675712\n",
      "{'apple': 'red', 'pineapple': 'yellow', 'mango': 'red', 'orange': 'orange'} 4 <class 'dict'> 2308368853760\n",
      "{'apple': 'deep red', 'pineapple': 'yellow', 'mango': 'green', 'orange': 'orange'} 4 <class 'dict'> 2308335675712\n"
     ]
    }
   ],
   "source": [
    "dict1 = {\"apple\":\"red\", \"pineapple\":\"yellow\", \"mango\":\"green\", \"orange\":\"orange\"}\n",
    "print (dict1, len(dict1), type(dict1), id(dict1))\n",
    "dict2 = dict1.copy()\n",
    "print (dict2, len(dict2), type(dict2), id(dict2))\n",
    "dict1['mango'] = \"red\"\n",
    "dict2['apple'] = \"deep red\"\n",
    "print (dict1, len(dict1), type(dict1), id(dict1))\n",
    "print (dict2, len(dict2), type(dict2), id(dict2))"
   ]
  },
  {
   "cell_type": "code",
   "execution_count": 29,
   "id": "fb71ba66-47d0-4eaa-827f-1372c535d7a7",
   "metadata": {},
   "outputs": [
    {
     "name": "stdout",
     "output_type": "stream",
     "text": [
      "[100, 200, 300, 400] 4 2308364794752\n",
      "[100, 200, 300, 400] 4 2308367747392\n",
      "[1000, 200, 300, 400] 4 2308364794752\n",
      "[100, 200, 3000, 400] 4 2308367747392\n"
     ]
    }
   ],
   "source": [
    "list1 = [100, 200, 300, 400]\n",
    "list2 = list1.copy()\n",
    "print (list1, len(list1), id(list1))\n",
    "print (list2, len(list2), id(list2))\n",
    "list1[0] = 1000\n",
    "list2[2] = 3000\n",
    "print (list1, len(list1), id(list1))\n",
    "print (list2, len(list2), id(list2))"
   ]
  },
  {
   "cell_type": "markdown",
   "id": "59e4a454-2477-44a1-84b4-0ec1c82e34c9",
   "metadata": {},
   "source": [
    "## Set Processing"
   ]
  },
  {
   "cell_type": "code",
   "execution_count": 35,
   "id": "20b406fa-a230-4474-b58b-8ce2ba7641e0",
   "metadata": {},
   "outputs": [
    {
     "name": "stdout",
     "output_type": "stream",
     "text": [
      "{True, 38.5, 'Amitava', 70000, 'Chennai'} 5 <class 'set'>\n"
     ]
    }
   ],
   "source": [
    "# forming a set from a list\n",
    "list1 = ['Amitava', True, 38.5, 70000, \"Chennai\", True, 38.5, 70000, \"Chennai\", True, 38.5, 70000, \"Chennai\", True, 38.5]\n",
    "set1 = set(list1)\n",
    "print (set1, len(set1), type(set1))"
   ]
  },
  {
   "cell_type": "code",
   "execution_count": 36,
   "id": "aa1981ef-a810-48df-b404-38f1111c1f3c",
   "metadata": {},
   "outputs": [
    {
     "name": "stdout",
     "output_type": "stream",
     "text": [
      "{True, 38.5, 'Amitava', 70000, 'Chennai'} 5 <class 'set'>\n"
     ]
    }
   ],
   "source": [
    "# forming a set from a tuple\n",
    "tuple1 = ('Amitava', True, 38.5, 70000, \"Chennai\", True, 38.5, 70000, \"Chennai\", True, 38.5, 70000, \"Chennai\", True, 38.5)\n",
    "set1 = set(tuple1)\n",
    "print (set1, len(set1), type(set1))"
   ]
  },
  {
   "cell_type": "code",
   "execution_count": 37,
   "id": "fca2fe6f-0de1-457b-85a1-be0d5af361a1",
   "metadata": {},
   "outputs": [
    {
     "name": "stdout",
     "output_type": "stream",
     "text": [
      "{70000, True, 38.5, 'Amitava', 'Chennai'} 5 <class 'set'>\n"
     ]
    }
   ],
   "source": [
    "# forming a set directly\n",
    "set1 = {'Amitava', True, 38.5, 70000, \"Chennai\", True, 38.5, 70000, \"Chennai\", True, 38.5, 70000, \"Chennai\", True, 38.5}\n",
    "print (set1, len(set1), type(set1))"
   ]
  },
  {
   "cell_type": "code",
   "execution_count": 42,
   "id": "0f7a6264-6822-4922-92c4-d0fe0af10e1a",
   "metadata": {},
   "outputs": [
    {
     "name": "stdout",
     "output_type": "stream",
     "text": [
      "{'viper', 'cobra', 'python'} 3 <class 'set'>\n",
      "{'java', 'c++', 'python'} 3 <class 'set'>\n",
      "{'java', 'viper', 'cobra', 'c++', 'python'} 5 <class 'set'>\n",
      "{'java', 'viper', 'cobra', 'c++', 'python'} 5 <class 'set'>\n"
     ]
    }
   ],
   "source": [
    "# set operations: union, intersection, set difference, symmetric difference\n",
    "snakes = {'viper', 'python', 'cobra'}\n",
    "languages = {'java', 'c++', 'python'}\n",
    "print (snakes, len(snakes), type(snakes))\n",
    "print (languages, len(languages), type(languages))\n",
    "result = snakes.union(languages)\n",
    "print (result, len(result), type(result))\n",
    "result = snakes | languages\n",
    "print (result, len(result), type(result))"
   ]
  },
  {
   "cell_type": "code",
   "execution_count": 45,
   "id": "0cec5c41-a7bd-4fd3-b510-e7b07969552a",
   "metadata": {},
   "outputs": [
    {
     "name": "stdout",
     "output_type": "stream",
     "text": [
      "{'viper', 'cobra', 'python'} 3 <class 'set'>\n",
      "{'java', 'c++', 'python'} 3 <class 'set'>\n",
      "{'python'} 1 <class 'set'>\n",
      "{'python'} 1 <class 'set'>\n",
      "\n",
      "{'viper', 'cobra', 'python'} 3 <class 'set'>\n",
      "{'java', 'c++', 'python'} 3 <class 'set'>\n",
      "{'python'} 1 <class 'set'>\n",
      "{'java', 'c++', 'python'} 3 <class 'set'>\n"
     ]
    }
   ],
   "source": [
    "snakes = {'viper', 'python', 'cobra'}\n",
    "languages = {'java', 'c++', 'python'}\n",
    "print (snakes, len(snakes), type(snakes))\n",
    "print (languages, len(languages), type(languages))\n",
    "result = snakes.intersection(languages)\n",
    "print (result, len(result), type(result))\n",
    "result = snakes & languages\n",
    "print (result, len(result), type(result))\n",
    "print ()\n",
    "print (snakes, len(snakes), type(snakes))\n",
    "print (languages, len(languages), type(languages))\n",
    "snakes.intersection_update(languages)\n",
    "print (snakes, len(snakes), type(snakes))\n",
    "print (languages, len(languages), type(languages))"
   ]
  },
  {
   "cell_type": "code",
   "execution_count": 48,
   "id": "339d5a43-a0c3-457a-bb62-9f96cac2bdbc",
   "metadata": {},
   "outputs": [
    {
     "name": "stdout",
     "output_type": "stream",
     "text": [
      "{'viper', 'cobra', 'python'} 3 <class 'set'>\n",
      "{'java', 'c++', 'python'} 3 <class 'set'>\n",
      "{'viper', 'cobra'} 2 <class 'set'>\n",
      "{'viper', 'cobra'} 2 <class 'set'>\n",
      "\n",
      "{'viper', 'cobra', 'python'} 3 <class 'set'>\n",
      "{'java', 'c++', 'python'} 3 <class 'set'>\n",
      "{'viper', 'cobra'} 2 <class 'set'>\n",
      "{'java', 'c++', 'python'} 3 <class 'set'>\n"
     ]
    }
   ],
   "source": [
    "snakes = {'viper', 'python', 'cobra'}\n",
    "languages = {'java', 'c++', 'python'}\n",
    "print (snakes, len(snakes), type(snakes))\n",
    "print (languages, len(languages), type(languages))\n",
    "result = snakes.difference(languages)\n",
    "print (result, len(result), type(result))\n",
    "result = snakes - languages\n",
    "print (result, len(result), type(result))\n",
    "print ()\n",
    "print (snakes, len(snakes), type(snakes))\n",
    "print (languages, len(languages), type(languages))\n",
    "snakes.difference_update(languages)\n",
    "print (snakes, len(snakes), type(snakes))\n",
    "print (languages, len(languages), type(languages))"
   ]
  },
  {
   "cell_type": "code",
   "execution_count": 49,
   "id": "a54c16a1-18ad-4b7e-9350-bedd5c99d32a",
   "metadata": {},
   "outputs": [
    {
     "name": "stdout",
     "output_type": "stream",
     "text": [
      "{'viper', 'cobra', 'python'} 3 <class 'set'>\n",
      "{'java', 'c++', 'python'} 3 <class 'set'>\n",
      "{'java', 'viper', 'cobra', 'c++'} 4 <class 'set'>\n",
      "{'java', 'viper', 'cobra', 'c++'} 4 <class 'set'>\n",
      "\n",
      "{'viper', 'cobra', 'python'} 3 <class 'set'>\n",
      "{'java', 'c++', 'python'} 3 <class 'set'>\n",
      "{'java', 'viper', 'cobra', 'c++'} 4 <class 'set'>\n",
      "{'java', 'c++', 'python'} 3 <class 'set'>\n"
     ]
    }
   ],
   "source": [
    "snakes = {'viper', 'python', 'cobra'}\n",
    "languages = {'java', 'c++', 'python'}\n",
    "print (snakes, len(snakes), type(snakes))\n",
    "print (languages, len(languages), type(languages))\n",
    "result = snakes.symmetric_difference(languages)\n",
    "print (result, len(result), type(result))\n",
    "result = snakes ^ languages\n",
    "print (result, len(result), type(result))\n",
    "print ()\n",
    "print (snakes, len(snakes), type(snakes))\n",
    "print (languages, len(languages), type(languages))\n",
    "snakes.symmetric_difference_update(languages)\n",
    "print (snakes, len(snakes), type(snakes))\n",
    "print (languages, len(languages), type(languages))"
   ]
  },
  {
   "cell_type": "code",
   "execution_count": 52,
   "id": "7ff2d9f3-67c7-488d-aaae-888309e9e276",
   "metadata": {},
   "outputs": [
    {
     "name": "stdout",
     "output_type": "stream",
     "text": [
      "False True False\n",
      "False False True\n",
      "True False False\n"
     ]
    }
   ],
   "source": [
    "set1 = {100, 200, 300}\n",
    "set2 = {400, 500, 600, 700, 800}\n",
    "set3 = {600, 700, 800}\n",
    "print (set1.issuperset(set2), set2.issuperset(set3), set3.issuperset(set2))\n",
    "print (set1.issubset(set2), set2.issubset(set3), set3.issubset(set2))\n",
    "print (set1.isdisjoint(set2), set2.isdisjoint(set3), set3.isdisjoint(set2))"
   ]
  },
  {
   "cell_type": "code",
   "execution_count": 55,
   "id": "0cec52f8-2db9-4407-9d61-61e4f552afe7",
   "metadata": {},
   "outputs": [
    {
     "name": "stdout",
     "output_type": "stream",
     "text": [
      "{200, 100, 300} 2308380275456 {200, 100, 300} 2308373689088\n",
      "200\n",
      "{200, 100, 300} 2308380275456 {100, 300} 2308373689088\n"
     ]
    }
   ],
   "source": [
    "set1 = {100, 200, 300}\n",
    "set2 = set1.copy()\n",
    "print (set1, id(set1), set2, id(set2))\n",
    "print (set2.pop())\n",
    "print (set1, id(set1), set2, id(set2))"
   ]
  },
  {
   "cell_type": "code",
   "execution_count": 58,
   "id": "e447ccb8-1aba-4209-ab39-8a5061c57d9d",
   "metadata": {},
   "outputs": [
    {
     "name": "stdout",
     "output_type": "stream",
     "text": [
      "{200, 100, 300} 3 <class 'set'>\n",
      "{200, 100, 400, 300} 4 <class 'set'>\n",
      "{100, 200, 300, 400, 500} 5 <class 'set'>\n",
      "{100, 200, 300, 400, 500, 600} 6 <class 'set'>\n"
     ]
    }
   ],
   "source": [
    "# insert operation on a set\n",
    "set1 = {100, 200, 300}\n",
    "print (set1, len(set1), type(set1))\n",
    "set1.add(400)\n",
    "print (set1, len(set1), type(set1))\n",
    "set1.add(500)\n",
    "print (set1, len(set1), type(set1))\n",
    "set1.add(600)\n",
    "print (set1, len(set1), type(set1))"
   ]
  },
  {
   "cell_type": "code",
   "execution_count": 62,
   "id": "479449d7-2e86-42a6-8099-f7a1e6f9fe7d",
   "metadata": {},
   "outputs": [
    {
     "name": "stdout",
     "output_type": "stream",
     "text": [
      "{400, 700, 100, 500, 200, 600, 300} 7 <class 'set'>\n",
      "{400, 700, 100, 500, 200, 600} 6 <class 'set'>\n",
      "{400, 700, 100, 500, 200} 5 <class 'set'>\n"
     ]
    },
    {
     "ename": "KeyError",
     "evalue": "600",
     "output_type": "error",
     "traceback": [
      "\u001b[1;31m---------------------------------------------------------------------------\u001b[0m",
      "\u001b[1;31mKeyError\u001b[0m                                  Traceback (most recent call last)",
      "Cell \u001b[1;32mIn[62], line 8\u001b[0m\n\u001b[0;32m      6\u001b[0m set1\u001b[38;5;241m.\u001b[39mremove(\u001b[38;5;241m600\u001b[39m)\n\u001b[0;32m      7\u001b[0m \u001b[38;5;28mprint\u001b[39m (set1, \u001b[38;5;28mlen\u001b[39m(set1), \u001b[38;5;28mtype\u001b[39m(set1))\n\u001b[1;32m----> 8\u001b[0m \u001b[43mset1\u001b[49m\u001b[38;5;241;43m.\u001b[39;49m\u001b[43mremove\u001b[49m\u001b[43m(\u001b[49m\u001b[38;5;241;43m600\u001b[39;49m\u001b[43m)\u001b[49m\n\u001b[0;32m      9\u001b[0m \u001b[38;5;28mprint\u001b[39m (set1, \u001b[38;5;28mlen\u001b[39m(set1), \u001b[38;5;28mtype\u001b[39m(set1))\n",
      "\u001b[1;31mKeyError\u001b[0m: 600"
     ]
    }
   ],
   "source": [
    "# delete operation on a set\n",
    "set1 = {100, 200, 300, 600, 700, 500, 400}\n",
    "print (set1, len(set1), type(set1))\n",
    "set1.remove(300)\n",
    "print (set1, len(set1), type(set1))\n",
    "set1.remove(600)\n",
    "print (set1, len(set1), type(set1))\n",
    "set1.remove(600)\n",
    "print (set1, len(set1), type(set1))"
   ]
  },
  {
   "cell_type": "code",
   "execution_count": 61,
   "id": "63be7764-d341-4fef-94f9-1f47c2352da3",
   "metadata": {},
   "outputs": [
    {
     "name": "stdout",
     "output_type": "stream",
     "text": [
      "{400, 700, 100, 500, 200, 600, 300} 7 <class 'set'>\n",
      "{400, 700, 100, 500, 200, 600} 6 <class 'set'>\n",
      "{400, 700, 100, 500, 200} 5 <class 'set'>\n",
      "{400, 700, 100, 500, 200} 5 <class 'set'>\n"
     ]
    }
   ],
   "source": [
    "set1 = {100, 200, 300, 600, 700, 500, 400}\n",
    "print (set1, len(set1), type(set1))\n",
    "set1.discard(300)\n",
    "print (set1, len(set1), type(set1))\n",
    "set1.discard(600)\n",
    "print (set1, len(set1), type(set1))\n",
    "set1.discard(600)\n",
    "print (set1, len(set1), type(set1))"
   ]
  },
  {
   "cell_type": "code",
   "execution_count": 63,
   "id": "473b1290-c3b1-467c-bf74-206d24f47545",
   "metadata": {},
   "outputs": [
    {
     "name": "stdout",
     "output_type": "stream",
     "text": [
      "{400, 700, 100, 500, 200, 600, 300} 7 <class 'set'>\n",
      "400\n",
      "{700, 100, 500, 200, 600, 300} 6 <class 'set'>\n",
      "700\n",
      "{100, 500, 200, 600, 300} 5 <class 'set'>\n",
      "100\n",
      "{500, 200, 600, 300} 4 <class 'set'>\n",
      "500\n",
      "{200, 600, 300} 3 <class 'set'>\n"
     ]
    }
   ],
   "source": [
    "set1 = {100, 200, 300, 600, 700, 500, 400}\n",
    "print (set1, len(set1), type(set1))\n",
    "print (set1.pop())\n",
    "print (set1, len(set1), type(set1))\n",
    "print (set1.pop())\n",
    "print (set1, len(set1), type(set1))\n",
    "print (set1.pop())\n",
    "print (set1, len(set1), type(set1))\n",
    "print (set1.pop())\n",
    "print (set1, len(set1), type(set1))"
   ]
  },
  {
   "cell_type": "code",
   "execution_count": 64,
   "id": "93b1c5ef-1fd2-403e-b814-ad144fcd1848",
   "metadata": {},
   "outputs": [
    {
     "name": "stdout",
     "output_type": "stream",
     "text": [
      "{400, 700, 100, 500, 200, 600, 300} 7 <class 'set'>\n",
      "set() 0 <class 'set'>\n"
     ]
    }
   ],
   "source": [
    "set1 = {100, 200, 300, 600, 700, 500, 400}\n",
    "print (set1, len(set1), type(set1))\n",
    "set1.clear()\n",
    "print (set1, len(set1), type(set1))"
   ]
  },
  {
   "cell_type": "code",
   "execution_count": 65,
   "id": "0dfd4afc-3e5c-4f0e-83c6-8e26702ce217",
   "metadata": {},
   "outputs": [
    {
     "name": "stdout",
     "output_type": "stream",
     "text": [
      "{400, 700, 100, 500, 200, 600, 300} 7 <class 'set'>\n"
     ]
    },
    {
     "ename": "NameError",
     "evalue": "name 'set1' is not defined",
     "output_type": "error",
     "traceback": [
      "\u001b[1;31m---------------------------------------------------------------------------\u001b[0m",
      "\u001b[1;31mNameError\u001b[0m                                 Traceback (most recent call last)",
      "Cell \u001b[1;32mIn[65], line 4\u001b[0m\n\u001b[0;32m      2\u001b[0m \u001b[38;5;28mprint\u001b[39m (set1, \u001b[38;5;28mlen\u001b[39m(set1), \u001b[38;5;28mtype\u001b[39m(set1))\n\u001b[0;32m      3\u001b[0m \u001b[38;5;28;01mdel\u001b[39;00m set1\n\u001b[1;32m----> 4\u001b[0m \u001b[38;5;28mprint\u001b[39m (\u001b[43mset1\u001b[49m, \u001b[38;5;28mlen\u001b[39m(set1), \u001b[38;5;28mtype\u001b[39m(set1))\n",
      "\u001b[1;31mNameError\u001b[0m: name 'set1' is not defined"
     ]
    }
   ],
   "source": [
    "set1 = {100, 200, 300, 600, 700, 500, 400}\n",
    "print (set1, len(set1), type(set1))\n",
    "del set1\n",
    "print (set1, len(set1), type(set1))"
   ]
  },
  {
   "cell_type": "code",
   "execution_count": 66,
   "id": "c43dc604-87fa-4d7e-9243-f9cb85f92e02",
   "metadata": {},
   "outputs": [
    {
     "name": "stdout",
     "output_type": "stream",
     "text": [
      "{400, 700, 100, 500, 200, 600, 300} 7 <class 'set'>\n",
      "{400, 700, 100, 500, 200, 300} 6 <class 'set'>\n",
      "{400, 1600, 700, 100, 500, 200, 300} 7 <class 'set'>\n"
     ]
    }
   ],
   "source": [
    "# update operation on a set\n",
    "set1 = {100, 200, 300, 600, 700, 500, 400}\n",
    "print (set1, len(set1), type(set1))\n",
    "set1.remove(600)   # deleting the item\n",
    "print (set1, len(set1), type(set1))\n",
    "set1.add(1600)   # inserting the item\n",
    "print (set1, len(set1), type(set1))"
   ]
  },
  {
   "cell_type": "code",
   "execution_count": 69,
   "id": "abd7d35d-577a-49ad-9449-9a4da9715578",
   "metadata": {},
   "outputs": [
    {
     "name": "stdout",
     "output_type": "stream",
     "text": [
      "{200, True, 100.5, 300} 4 <class 'set'>\n",
      "{False, 400, '300', 600, '500', 700} 6 <class 'set'>\n",
      "{False, True, 100.5, '300', 200, '500', 300, 400, 600, 700} 10 <class 'set'>\n",
      "{False, 400, '300', 600, '500', 700} 6 <class 'set'>\n"
     ]
    }
   ],
   "source": [
    "# concatenating two sets\n",
    "set1 = {100.5, True, 200, 300}\n",
    "set2 = {\"300\", 600, 700, False, \"500\", 400}\n",
    "print (set1, len(set1), type(set1))\n",
    "print (set2, len(set2), type(set2))\n",
    "set1.update(set2)\n",
    "print (set1, len(set1), type(set1))\n",
    "print (set2, len(set2), type(set2))"
   ]
  },
  {
   "cell_type": "markdown",
   "id": "2f7e858a-5e8d-4d07-9663-5d09a35a063f",
   "metadata": {},
   "source": [
    "## Frozen Set Processing"
   ]
  },
  {
   "cell_type": "code",
   "execution_count": 40,
   "id": "00b0d362-8013-496f-92c3-1b437fbf9d79",
   "metadata": {},
   "outputs": [
    {
     "name": "stdout",
     "output_type": "stream",
     "text": [
      "frozenset({True, 38.5, 'Amitava', 70000, 'Chennai'}) 5 <class 'frozenset'>\n"
     ]
    }
   ],
   "source": [
    "# forming a frozenset set from a list\n",
    "list1 = ['Amitava', True, 38.5, 70000, \"Chennai\", True, 38.5, 70000, \"Chennai\", True, 38.5, 70000, \"Chennai\", True, 38.5]\n",
    "set1 = frozenset(list1)\n",
    "print (set1, len(set1), type(set1))"
   ]
  },
  {
   "cell_type": "code",
   "execution_count": 41,
   "id": "75f93e30-7015-4e8e-9228-afe071b6a12e",
   "metadata": {},
   "outputs": [
    {
     "name": "stdout",
     "output_type": "stream",
     "text": [
      "frozenset({True, 38.5, 'Amitava', 70000, 'Chennai'}) 5 <class 'frozenset'>\n"
     ]
    }
   ],
   "source": [
    "# forming a frozenset set from a tuple\n",
    "tuple1 = ('Amitava', True, 38.5, 70000, \"Chennai\", True, 38.5, 70000, \"Chennai\", True, 38.5, 70000, \"Chennai\", True, 38.5)\n",
    "set1 = frozenset(tuple1)\n",
    "print (set1, len(set1), type(set1))"
   ]
  },
  {
   "cell_type": "code",
   "execution_count": 46,
   "id": "7510c9a9-fdc6-4b32-bf7d-f8f9d5b90a38",
   "metadata": {},
   "outputs": [
    {
     "name": "stdout",
     "output_type": "stream",
     "text": [
      "frozenset({'viper', 'cobra', 'python'}) 3 <class 'frozenset'>\n",
      "frozenset({'java', 'c++', 'python'}) 3 <class 'frozenset'>\n",
      "frozenset({'java', 'viper', 'cobra', 'c++', 'python'}) 5 <class 'frozenset'>\n",
      "frozenset({'java', 'viper', 'cobra', 'c++', 'python'}) 5 <class 'frozenset'>\n"
     ]
    }
   ],
   "source": [
    "# frozen set operations: union, intersection, set difference, symmetric difference\n",
    "snakes = frozenset(['viper', 'python', 'cobra'])\n",
    "languages = frozenset(['java', 'c++', 'python'])\n",
    "print (snakes, len(snakes), type(snakes))\n",
    "print (languages, len(languages), type(languages))\n",
    "result = snakes.union(languages)\n",
    "print (result, len(result), type(result))\n",
    "result = snakes | languages\n",
    "print (result, len(result), type(result))"
   ]
  },
  {
   "cell_type": "code",
   "execution_count": 47,
   "id": "46e1544f-9278-472b-8816-824cff86452d",
   "metadata": {},
   "outputs": [
    {
     "name": "stdout",
     "output_type": "stream",
     "text": [
      "frozenset({'viper', 'cobra', 'python'}) 3 <class 'frozenset'>\n",
      "frozenset({'java', 'c++', 'python'}) 3 <class 'frozenset'>\n",
      "frozenset({'python'}) 1 <class 'frozenset'>\n",
      "frozenset({'python'}) 1 <class 'frozenset'>\n"
     ]
    }
   ],
   "source": [
    "snakes = frozenset(['viper', 'python', 'cobra'])\n",
    "languages = frozenset(['java', 'c++', 'python'])\n",
    "print (snakes, len(snakes), type(snakes))\n",
    "print (languages, len(languages), type(languages))\n",
    "result = snakes.intersection(languages)\n",
    "print (result, len(result), type(result))\n",
    "result = snakes & languages\n",
    "print (result, len(result), type(result))"
   ]
  },
  {
   "cell_type": "code",
   "execution_count": 50,
   "id": "f688b30d-56ba-47f9-8a4b-e0094314c622",
   "metadata": {},
   "outputs": [
    {
     "name": "stdout",
     "output_type": "stream",
     "text": [
      "frozenset({'viper', 'cobra', 'python'}) 3 <class 'frozenset'>\n",
      "frozenset({'java', 'c++', 'python'}) 3 <class 'frozenset'>\n",
      "frozenset({'viper', 'cobra'}) 2 <class 'frozenset'>\n",
      "frozenset({'viper', 'cobra'}) 2 <class 'frozenset'>\n"
     ]
    }
   ],
   "source": [
    "snakes = frozenset(['viper', 'python', 'cobra'])\n",
    "languages = frozenset(['java', 'c++', 'python'])\n",
    "print (snakes, len(snakes), type(snakes))\n",
    "print (languages, len(languages), type(languages))\n",
    "result = snakes.difference(languages)\n",
    "print (result, len(result), type(result))\n",
    "result = snakes - languages\n",
    "print (result, len(result), type(result))"
   ]
  },
  {
   "cell_type": "code",
   "execution_count": 51,
   "id": "d1bb2a20-3125-461e-8f5b-9f309954ee75",
   "metadata": {},
   "outputs": [
    {
     "name": "stdout",
     "output_type": "stream",
     "text": [
      "frozenset({'viper', 'cobra', 'python'}) 3 <class 'frozenset'>\n",
      "frozenset({'java', 'c++', 'python'}) 3 <class 'frozenset'>\n",
      "frozenset({'java', 'viper', 'cobra', 'c++'}) 4 <class 'frozenset'>\n",
      "frozenset({'java', 'viper', 'cobra', 'c++'}) 4 <class 'frozenset'>\n"
     ]
    }
   ],
   "source": [
    "snakes = frozenset(['viper', 'python', 'cobra'])\n",
    "languages = frozenset(['java', 'c++', 'python'])\n",
    "print (snakes, len(snakes), type(snakes))\n",
    "print (languages, len(languages), type(languages))\n",
    "result = snakes.symmetric_difference(languages)\n",
    "print (result, len(result), type(result))\n",
    "result = snakes ^ languages\n",
    "print (result, len(result), type(result))"
   ]
  },
  {
   "cell_type": "code",
   "execution_count": 53,
   "id": "b7773b8b-d3a7-484d-a52f-f141b8bcba60",
   "metadata": {},
   "outputs": [
    {
     "name": "stdout",
     "output_type": "stream",
     "text": [
      "False True False\n",
      "False False True\n",
      "True False False\n"
     ]
    }
   ],
   "source": [
    "set1 = frozenset({100, 200, 300})\n",
    "set2 = frozenset({400, 500, 600, 700, 800})\n",
    "set3 = frozenset({600, 700, 800})\n",
    "print (set1.issuperset(set2), set2.issuperset(set3), set3.issuperset(set2))\n",
    "print (set1.issubset(set2), set2.issubset(set3), set3.issubset(set2))\n",
    "print (set1.isdisjoint(set2), set2.isdisjoint(set3), set3.isdisjoint(set2))"
   ]
  },
  {
   "cell_type": "code",
   "execution_count": 57,
   "id": "9cb802a7-341a-4a0b-abf1-205b8a5cbc63",
   "metadata": {},
   "outputs": [
    {
     "name": "stdout",
     "output_type": "stream",
     "text": [
      "frozenset({200, 100, 300}) 2308380308000 frozenset({200, 100, 300}) 2308380308000\n"
     ]
    }
   ],
   "source": [
    "set1 = frozenset([100, 200, 300])\n",
    "set2 = set1.copy()\n",
    "print (set1, id(set1), set2, id(set2))"
   ]
  },
  {
   "cell_type": "code",
   "execution_count": null,
   "id": "6995d7c7-5b76-45ed-8042-fdf114de0768",
   "metadata": {},
   "outputs": [],
   "source": []
  }
 ],
 "metadata": {
  "kernelspec": {
   "display_name": "Python 3 (ipykernel)",
   "language": "python",
   "name": "python3"
  },
  "language_info": {
   "codemirror_mode": {
    "name": "ipython",
    "version": 3
   },
   "file_extension": ".py",
   "mimetype": "text/x-python",
   "name": "python",
   "nbconvert_exporter": "python",
   "pygments_lexer": "ipython3",
   "version": "3.10.9"
  }
 },
 "nbformat": 4,
 "nbformat_minor": 5
}
